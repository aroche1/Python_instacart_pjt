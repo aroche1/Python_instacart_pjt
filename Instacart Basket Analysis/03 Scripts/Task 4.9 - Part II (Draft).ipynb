{
 "cells": [
  {
   "cell_type": "markdown",
   "id": "ffb323a2",
   "metadata": {},
   "source": [
    "# Part II"
   ]
  },
  {
   "cell_type": "markdown",
   "id": "6d2f2b4f",
   "metadata": {},
   "source": [
    "## 1.- Create a new notebook, import the necessary analysis and visualization libraries, then import the most up-to-date project data"
   ]
  },
  {
   "cell_type": "markdown",
   "id": "bb5afcbf",
   "metadata": {},
   "source": [
    "# Importing Libraries"
   ]
  },
  {
   "cell_type": "code",
   "execution_count": 10,
   "id": "344871fa",
   "metadata": {},
   "outputs": [],
   "source": [
    "import pandas as pd\n",
    "import numpy as np\n",
    "import os\n",
    "import matplotlib.pyplot as plt\n",
    "import seaborn as sns\n",
    "import scipy"
   ]
  },
  {
   "cell_type": "markdown",
   "id": "0863384e",
   "metadata": {},
   "source": [
    "# Import Dataframe"
   ]
  },
  {
   "cell_type": "code",
   "execution_count": 11,
   "id": "93c9ac45",
   "metadata": {},
   "outputs": [],
   "source": [
    "# Creating path\n",
    "\n",
    "path = r'/Users/david/Desktop/CF/Data Immersion/Achievement 4 - Python Fundamentals for Data Analysts/07-2022 Instacart Basket Analysis'"
   ]
  },
  {
   "cell_type": "code",
   "execution_count": 12,
   "id": "724b4179",
   "metadata": {},
   "outputs": [
    {
     "data": {
      "text/plain": [
       "'/Users/david/Desktop/CF/Data Immersion/Achievement 4 - Python Fundamentals for Data Analysts/07-2022 Instacart Basket Analysis'"
      ]
     },
     "execution_count": 12,
     "metadata": {},
     "output_type": "execute_result"
    }
   ],
   "source": [
    "# Checking ;path'\n",
    "\n",
    "path"
   ]
  },
  {
   "cell_type": "code",
   "execution_count": 13,
   "id": "76c548ee",
   "metadata": {},
   "outputs": [],
   "source": [
    "# Import 'ords_prods_cust_27_07.pkl' data set as 'ords_prods_cust' dataframe\n",
    "\n",
    "ords_prods_cust = pd.read_pickle(os.path.join(path, '02 Data', 'Prepared Data', '27_07_22', 'ords_prods_cust_27_07.pkl'))"
   ]
  },
  {
   "cell_type": "code",
   "execution_count": 14,
   "id": "56f4dd9a",
   "metadata": {},
   "outputs": [
    {
     "data": {
      "text/html": [
       "<div>\n",
       "<style scoped>\n",
       "    .dataframe tbody tr th:only-of-type {\n",
       "        vertical-align: middle;\n",
       "    }\n",
       "\n",
       "    .dataframe tbody tr th {\n",
       "        vertical-align: top;\n",
       "    }\n",
       "\n",
       "    .dataframe thead th {\n",
       "        text-align: right;\n",
       "    }\n",
       "</style>\n",
       "<table border=\"1\" class=\"dataframe\">\n",
       "  <thead>\n",
       "    <tr style=\"text-align: right;\">\n",
       "      <th></th>\n",
       "      <th>order_id</th>\n",
       "      <th>user_id</th>\n",
       "      <th>order_number</th>\n",
       "      <th>order_day_of_week</th>\n",
       "      <th>order_hour_of_day</th>\n",
       "      <th>days_since_prior_order</th>\n",
       "      <th>product_id</th>\n",
       "      <th>add_to_cart_order</th>\n",
       "      <th>reordered</th>\n",
       "      <th>product_name</th>\n",
       "      <th>...</th>\n",
       "      <th>Frequency_flag</th>\n",
       "      <th>first_name</th>\n",
       "      <th>surname</th>\n",
       "      <th>gender</th>\n",
       "      <th>state</th>\n",
       "      <th>age</th>\n",
       "      <th>date_joined</th>\n",
       "      <th>dependants_num</th>\n",
       "      <th>marital_status</th>\n",
       "      <th>income</th>\n",
       "    </tr>\n",
       "  </thead>\n",
       "  <tbody>\n",
       "    <tr>\n",
       "      <th>0</th>\n",
       "      <td>2539329</td>\n",
       "      <td>1</td>\n",
       "      <td>1</td>\n",
       "      <td>2</td>\n",
       "      <td>8</td>\n",
       "      <td>11.11484</td>\n",
       "      <td>196</td>\n",
       "      <td>1</td>\n",
       "      <td>0</td>\n",
       "      <td>Soda</td>\n",
       "      <td>...</td>\n",
       "      <td>NaN</td>\n",
       "      <td>Linda</td>\n",
       "      <td>Nguyen</td>\n",
       "      <td>Female</td>\n",
       "      <td>Alabama</td>\n",
       "      <td>31</td>\n",
       "      <td>2/17/2019</td>\n",
       "      <td>3</td>\n",
       "      <td>married</td>\n",
       "      <td>40423</td>\n",
       "    </tr>\n",
       "    <tr>\n",
       "      <th>1</th>\n",
       "      <td>2398795</td>\n",
       "      <td>1</td>\n",
       "      <td>2</td>\n",
       "      <td>3</td>\n",
       "      <td>7</td>\n",
       "      <td>15.00000</td>\n",
       "      <td>196</td>\n",
       "      <td>1</td>\n",
       "      <td>1</td>\n",
       "      <td>Soda</td>\n",
       "      <td>...</td>\n",
       "      <td>NaN</td>\n",
       "      <td>Linda</td>\n",
       "      <td>Nguyen</td>\n",
       "      <td>Female</td>\n",
       "      <td>Alabama</td>\n",
       "      <td>31</td>\n",
       "      <td>2/17/2019</td>\n",
       "      <td>3</td>\n",
       "      <td>married</td>\n",
       "      <td>40423</td>\n",
       "    </tr>\n",
       "    <tr>\n",
       "      <th>2</th>\n",
       "      <td>473747</td>\n",
       "      <td>1</td>\n",
       "      <td>3</td>\n",
       "      <td>3</td>\n",
       "      <td>12</td>\n",
       "      <td>21.00000</td>\n",
       "      <td>196</td>\n",
       "      <td>1</td>\n",
       "      <td>1</td>\n",
       "      <td>Soda</td>\n",
       "      <td>...</td>\n",
       "      <td>NaN</td>\n",
       "      <td>Linda</td>\n",
       "      <td>Nguyen</td>\n",
       "      <td>Female</td>\n",
       "      <td>Alabama</td>\n",
       "      <td>31</td>\n",
       "      <td>2/17/2019</td>\n",
       "      <td>3</td>\n",
       "      <td>married</td>\n",
       "      <td>40423</td>\n",
       "    </tr>\n",
       "    <tr>\n",
       "      <th>3</th>\n",
       "      <td>2254736</td>\n",
       "      <td>1</td>\n",
       "      <td>4</td>\n",
       "      <td>4</td>\n",
       "      <td>7</td>\n",
       "      <td>29.00000</td>\n",
       "      <td>196</td>\n",
       "      <td>1</td>\n",
       "      <td>1</td>\n",
       "      <td>Soda</td>\n",
       "      <td>...</td>\n",
       "      <td>NaN</td>\n",
       "      <td>Linda</td>\n",
       "      <td>Nguyen</td>\n",
       "      <td>Female</td>\n",
       "      <td>Alabama</td>\n",
       "      <td>31</td>\n",
       "      <td>2/17/2019</td>\n",
       "      <td>3</td>\n",
       "      <td>married</td>\n",
       "      <td>40423</td>\n",
       "    </tr>\n",
       "    <tr>\n",
       "      <th>4</th>\n",
       "      <td>431534</td>\n",
       "      <td>1</td>\n",
       "      <td>5</td>\n",
       "      <td>4</td>\n",
       "      <td>15</td>\n",
       "      <td>28.00000</td>\n",
       "      <td>196</td>\n",
       "      <td>1</td>\n",
       "      <td>1</td>\n",
       "      <td>Soda</td>\n",
       "      <td>...</td>\n",
       "      <td>NaN</td>\n",
       "      <td>Linda</td>\n",
       "      <td>Nguyen</td>\n",
       "      <td>Female</td>\n",
       "      <td>Alabama</td>\n",
       "      <td>31</td>\n",
       "      <td>2/17/2019</td>\n",
       "      <td>3</td>\n",
       "      <td>married</td>\n",
       "      <td>40423</td>\n",
       "    </tr>\n",
       "    <tr>\n",
       "      <th>...</th>\n",
       "      <td>...</td>\n",
       "      <td>...</td>\n",
       "      <td>...</td>\n",
       "      <td>...</td>\n",
       "      <td>...</td>\n",
       "      <td>...</td>\n",
       "      <td>...</td>\n",
       "      <td>...</td>\n",
       "      <td>...</td>\n",
       "      <td>...</td>\n",
       "      <td>...</td>\n",
       "      <td>...</td>\n",
       "      <td>...</td>\n",
       "      <td>...</td>\n",
       "      <td>...</td>\n",
       "      <td>...</td>\n",
       "      <td>...</td>\n",
       "      <td>...</td>\n",
       "      <td>...</td>\n",
       "      <td>...</td>\n",
       "      <td>...</td>\n",
       "    </tr>\n",
       "    <tr>\n",
       "      <th>32404854</th>\n",
       "      <td>156685</td>\n",
       "      <td>106143</td>\n",
       "      <td>26</td>\n",
       "      <td>4</td>\n",
       "      <td>23</td>\n",
       "      <td>5.00000</td>\n",
       "      <td>19675</td>\n",
       "      <td>1</td>\n",
       "      <td>1</td>\n",
       "      <td>Organic Raspberry Black Tea</td>\n",
       "      <td>...</td>\n",
       "      <td>Frequent Customer</td>\n",
       "      <td>Gerald</td>\n",
       "      <td>Yates</td>\n",
       "      <td>Male</td>\n",
       "      <td>Hawaii</td>\n",
       "      <td>25</td>\n",
       "      <td>5/26/2017</td>\n",
       "      <td>0</td>\n",
       "      <td>single</td>\n",
       "      <td>53755</td>\n",
       "    </tr>\n",
       "    <tr>\n",
       "      <th>32404855</th>\n",
       "      <td>484769</td>\n",
       "      <td>66343</td>\n",
       "      <td>1</td>\n",
       "      <td>6</td>\n",
       "      <td>11</td>\n",
       "      <td>11.11484</td>\n",
       "      <td>47210</td>\n",
       "      <td>1</td>\n",
       "      <td>0</td>\n",
       "      <td>Fresh Farmed Tilapia Fillet</td>\n",
       "      <td>...</td>\n",
       "      <td>NaN</td>\n",
       "      <td>Jacqueline</td>\n",
       "      <td>Arroyo</td>\n",
       "      <td>Female</td>\n",
       "      <td>Tennessee</td>\n",
       "      <td>22</td>\n",
       "      <td>9/12/2017</td>\n",
       "      <td>3</td>\n",
       "      <td>married</td>\n",
       "      <td>46151</td>\n",
       "    </tr>\n",
       "    <tr>\n",
       "      <th>32404856</th>\n",
       "      <td>1561557</td>\n",
       "      <td>66343</td>\n",
       "      <td>2</td>\n",
       "      <td>1</td>\n",
       "      <td>11</td>\n",
       "      <td>30.00000</td>\n",
       "      <td>47210</td>\n",
       "      <td>1</td>\n",
       "      <td>1</td>\n",
       "      <td>Fresh Farmed Tilapia Fillet</td>\n",
       "      <td>...</td>\n",
       "      <td>NaN</td>\n",
       "      <td>Jacqueline</td>\n",
       "      <td>Arroyo</td>\n",
       "      <td>Female</td>\n",
       "      <td>Tennessee</td>\n",
       "      <td>22</td>\n",
       "      <td>9/12/2017</td>\n",
       "      <td>3</td>\n",
       "      <td>married</td>\n",
       "      <td>46151</td>\n",
       "    </tr>\n",
       "    <tr>\n",
       "      <th>32404857</th>\n",
       "      <td>276317</td>\n",
       "      <td>66343</td>\n",
       "      <td>3</td>\n",
       "      <td>6</td>\n",
       "      <td>15</td>\n",
       "      <td>19.00000</td>\n",
       "      <td>47210</td>\n",
       "      <td>1</td>\n",
       "      <td>1</td>\n",
       "      <td>Fresh Farmed Tilapia Fillet</td>\n",
       "      <td>...</td>\n",
       "      <td>NaN</td>\n",
       "      <td>Jacqueline</td>\n",
       "      <td>Arroyo</td>\n",
       "      <td>Female</td>\n",
       "      <td>Tennessee</td>\n",
       "      <td>22</td>\n",
       "      <td>9/12/2017</td>\n",
       "      <td>3</td>\n",
       "      <td>married</td>\n",
       "      <td>46151</td>\n",
       "    </tr>\n",
       "    <tr>\n",
       "      <th>32404858</th>\n",
       "      <td>2922475</td>\n",
       "      <td>66343</td>\n",
       "      <td>4</td>\n",
       "      <td>1</td>\n",
       "      <td>12</td>\n",
       "      <td>30.00000</td>\n",
       "      <td>47210</td>\n",
       "      <td>1</td>\n",
       "      <td>1</td>\n",
       "      <td>Fresh Farmed Tilapia Fillet</td>\n",
       "      <td>...</td>\n",
       "      <td>NaN</td>\n",
       "      <td>Jacqueline</td>\n",
       "      <td>Arroyo</td>\n",
       "      <td>Female</td>\n",
       "      <td>Tennessee</td>\n",
       "      <td>22</td>\n",
       "      <td>9/12/2017</td>\n",
       "      <td>3</td>\n",
       "      <td>married</td>\n",
       "      <td>46151</td>\n",
       "    </tr>\n",
       "  </tbody>\n",
       "</table>\n",
       "<p>32404859 rows × 34 columns</p>\n",
       "</div>"
      ],
      "text/plain": [
       "          order_id  user_id  order_number  order_day_of_week  \\\n",
       "0          2539329        1             1                  2   \n",
       "1          2398795        1             2                  3   \n",
       "2           473747        1             3                  3   \n",
       "3          2254736        1             4                  4   \n",
       "4           431534        1             5                  4   \n",
       "...            ...      ...           ...                ...   \n",
       "32404854    156685   106143            26                  4   \n",
       "32404855    484769    66343             1                  6   \n",
       "32404856   1561557    66343             2                  1   \n",
       "32404857    276317    66343             3                  6   \n",
       "32404858   2922475    66343             4                  1   \n",
       "\n",
       "          order_hour_of_day  days_since_prior_order  product_id  \\\n",
       "0                         8                11.11484         196   \n",
       "1                         7                15.00000         196   \n",
       "2                        12                21.00000         196   \n",
       "3                         7                29.00000         196   \n",
       "4                        15                28.00000         196   \n",
       "...                     ...                     ...         ...   \n",
       "32404854                 23                 5.00000       19675   \n",
       "32404855                 11                11.11484       47210   \n",
       "32404856                 11                30.00000       47210   \n",
       "32404857                 15                19.00000       47210   \n",
       "32404858                 12                30.00000       47210   \n",
       "\n",
       "          add_to_cart_order  reordered                 product_name  ...  \\\n",
       "0                         1          0                         Soda  ...   \n",
       "1                         1          1                         Soda  ...   \n",
       "2                         1          1                         Soda  ...   \n",
       "3                         1          1                         Soda  ...   \n",
       "4                         1          1                         Soda  ...   \n",
       "...                     ...        ...                          ...  ...   \n",
       "32404854                  1          1  Organic Raspberry Black Tea  ...   \n",
       "32404855                  1          0  Fresh Farmed Tilapia Fillet  ...   \n",
       "32404856                  1          1  Fresh Farmed Tilapia Fillet  ...   \n",
       "32404857                  1          1  Fresh Farmed Tilapia Fillet  ...   \n",
       "32404858                  1          1  Fresh Farmed Tilapia Fillet  ...   \n",
       "\n",
       "             Frequency_flag  first_name  surname  gender      state age  \\\n",
       "0                       NaN       Linda   Nguyen  Female    Alabama  31   \n",
       "1                       NaN       Linda   Nguyen  Female    Alabama  31   \n",
       "2                       NaN       Linda   Nguyen  Female    Alabama  31   \n",
       "3                       NaN       Linda   Nguyen  Female    Alabama  31   \n",
       "4                       NaN       Linda   Nguyen  Female    Alabama  31   \n",
       "...                     ...         ...      ...     ...        ...  ..   \n",
       "32404854  Frequent Customer      Gerald    Yates    Male     Hawaii  25   \n",
       "32404855                NaN  Jacqueline   Arroyo  Female  Tennessee  22   \n",
       "32404856                NaN  Jacqueline   Arroyo  Female  Tennessee  22   \n",
       "32404857                NaN  Jacqueline   Arroyo  Female  Tennessee  22   \n",
       "32404858                NaN  Jacqueline   Arroyo  Female  Tennessee  22   \n",
       "\n",
       "         date_joined dependants_num  marital_status income  \n",
       "0          2/17/2019              3         married  40423  \n",
       "1          2/17/2019              3         married  40423  \n",
       "2          2/17/2019              3         married  40423  \n",
       "3          2/17/2019              3         married  40423  \n",
       "4          2/17/2019              3         married  40423  \n",
       "...              ...            ...             ...    ...  \n",
       "32404854   5/26/2017              0          single  53755  \n",
       "32404855   9/12/2017              3         married  46151  \n",
       "32404856   9/12/2017              3         married  46151  \n",
       "32404857   9/12/2017              3         married  46151  \n",
       "32404858   9/12/2017              3         married  46151  \n",
       "\n",
       "[32404859 rows x 34 columns]"
      ]
     },
     "execution_count": 14,
     "metadata": {},
     "output_type": "execute_result"
    }
   ],
   "source": [
    "# Check 'ords_prods_cust' dataframe\n",
    "\n",
    "ords_prods_cust"
   ]
  },
  {
   "cell_type": "code",
   "execution_count": 15,
   "id": "e73882fc",
   "metadata": {},
   "outputs": [
    {
     "data": {
      "text/plain": [
       "25.0"
      ]
     },
     "execution_count": 15,
     "metadata": {},
     "output_type": "execute_result"
    }
   ],
   "source": [
    "# Check maximum 'prices' column--verify if outliers have been assigned as missing\n",
    "\n",
    "ords_prods_cust['prices'].max()"
   ]
  },
  {
   "cell_type": "markdown",
   "id": "bcddeeed",
   "metadata": {},
   "source": [
    "## 2.- Create a bar chart, a histogram, a scatterplot, and a line chart, using a saample subset for the line chart\n",
    "#### Follow Lesson 4.9 "
   ]
  },
  {
   "cell_type": "code",
   "execution_count": 16,
   "id": "0ed30c6b",
   "metadata": {},
   "outputs": [
    {
     "data": {
      "image/png": "[encoded data removed]",
      "text/plain": [
       "<Figure size 432x288 with 1 Axes>"
      ]
     },
     "metadata": {
      "needs_background": "light"
     },
     "output_type": "display_data"
    }
   ],
   "source": [
    "# Create a bar chart for 'order_day_of_week'\n",
    "\n",
    "bar = ords_prods_cust['order_day_of_week'].value_counts().plot.bar(color = ['tab:blue', 'tab:cyan', 'tab:orange', 'tab:olive', 'tab:green', 'tab:red', 'tab:purple'])"
   ]
  },
  {
   "cell_type": "code",
   "execution_count": 17,
   "id": "c339f483",
   "metadata": {},
   "outputs": [],
   "source": [
    "# Import 'bar' as 'bar_ords_dow.png'\n",
    "\n",
    "bar.figure.savefig(os.path.join(path, '04 Analysis', 'Visualizations', '27_07_22', 'Task_4.9_Part_II', 'bar_Part_II'))"
   ]
  },
  {
   "cell_type": "code",
   "execution_count": 19,
   "id": "fa87d41a",
   "metadata": {},
   "outputs": [
    {
     "data": {
      "image/png": "[encoded data removed]",
      "text/plain": [
       "<Figure size 432x288 with 1 Axes>"
      ]
     },
     "metadata": {
      "needs_background": "light"
     },
     "output_type": "display_data"
    }
   ],
   "source": [
    "# Creating a histogram\n",
    "\n",
    "hist = ords_prods_cust['prices'].plot.hist(bins = 55, color = 'tab:cyan')"
   ]
  },
  {
   "cell_type": "code",
   "execution_count": 22,
   "id": "7d53850e",
   "metadata": {},
   "outputs": [],
   "source": [
    "# Importing 'hist'\n",
    "\n",
    "hist.figure.savefig(os.path.join(path, '04 Analysis', 'Visualizations', '27_07_22', 'Task_4.9_Part_II', 'hist_Part_II'))"
   ]
  },
  {
   "cell_type": "code",
   "execution_count": 21,
   "id": "cd9528d2",
   "metadata": {},
   "outputs": [
    {
     "data": {
      "image/png": "[encoded data removed]",
      "text/plain": [
       "<Figure size 432x288 with 1 Axes>"
      ]
     },
     "metadata": {
      "needs_background": "light"
     },
     "output_type": "display_data"
    }
   ],
   "source": [
    "# Creating a scatterplot as 'scatt' for 'prices' column against itself--outliers were addressed in the Part I of this Exercise.\n",
    "\n",
    "scatt = sns.scatterplot(x = 'prices', y = 'prices', data = ords_prods_cust)"
   ]
  },
  {
   "cell_type": "code",
   "execution_count": 24,
   "id": "e0c09d4b",
   "metadata": {},
   "outputs": [],
   "source": [
    "# Importing 'scatt'\n",
    "\n",
    "scatt.figure.savefig(os.path.join(path, '04 Analysis', 'Visualizations', '27_07_22', 'Task_4.9_Part_II', 'scatt_Part_II.png'))"
   ]
  },
  {
   "cell_type": "code",
   "execution_count": 25,
   "id": "3c798e45",
   "metadata": {},
   "outputs": [],
   "source": [
    "# Create a line chart using a sample subset for the line chart\n",
    "\n",
    "# Creating sample list 'dev' of floating numbers to assign them to the rows in dataframe\n",
    "np.random.seed(4)\n",
    "dev = np.random.rand(len(ords_prods_cust)) <= 0.7"
   ]
  },
  {
   "cell_type": "code",
   "execution_count": 26,
   "id": "c72b242f",
   "metadata": {},
   "outputs": [
    {
     "data": {
      "text/plain": [
       "array([False,  True, False, ...,  True,  True,  True])"
      ]
     },
     "execution_count": 26,
     "metadata": {},
     "output_type": "execute_result"
    }
   ],
   "source": [
    "# Check 'dev' list to verify it's (boolean) values.\n",
    "\n",
    "dev"
   ]
  },
  {
   "cell_type": "code",
   "execution_count": 27,
   "id": "3fbc172e",
   "metadata": {},
   "outputs": [
    {
     "data": {
      "text/plain": [
       "(32404859,)"
      ]
     },
     "execution_count": 27,
     "metadata": {},
     "output_type": "execute_result"
    }
   ],
   "source": [
    "dev.shape"
   ]
  },
  {
   "cell_type": "code",
   "execution_count": 28,
   "id": "94ff24fe",
   "metadata": {},
   "outputs": [],
   "source": [
    "# Creating 'big' sample containing 70% of the total values 'ords_prods_cust' dataframe.\n",
    "\n",
    "big = ords_prods_cust[dev]"
   ]
  },
  {
   "cell_type": "code",
   "execution_count": 29,
   "id": "5a69acd0",
   "metadata": {},
   "outputs": [],
   "source": [
    "# Creating 'small' sample containing 30% of the total values 'ords_prods_cust' dataframe.\n",
    "\n",
    "small = ords_prods_cust[~dev]"
   ]
  },
  {
   "cell_type": "code",
   "execution_count": 30,
   "id": "0cba0b81",
   "metadata": {},
   "outputs": [
    {
     "data": {
      "text/plain": [
       "32404859"
      ]
     },
     "execution_count": 30,
     "metadata": {},
     "output_type": "execute_result"
    }
   ],
   "source": [
    "# Check length of 'ords_prods_cust', 'big', and 'small'\n",
    "\n",
    "len(ords_prods_cust)"
   ]
  },
  {
   "cell_type": "code",
   "execution_count": 31,
   "id": "4202089f",
   "metadata": {},
   "outputs": [
    {
     "data": {
      "text/plain": [
       "32404859"
      ]
     },
     "execution_count": 31,
     "metadata": {},
     "output_type": "execute_result"
    }
   ],
   "source": [
    "len(big) + len(small)"
   ]
  },
  {
   "cell_type": "code",
   "execution_count": 33,
   "id": "f4708f78",
   "metadata": {},
   "outputs": [],
   "source": [
    "# Reducing sample by calling necessary columns in new dataframe called 'df_small_s'\n",
    "\n",
    "df_small_s = small[['order_day_of_week', 'prices']]"
   ]
  },
  {
   "cell_type": "code",
   "execution_count": 34,
   "id": "69060fd2",
   "metadata": {},
   "outputs": [
    {
     "data": {
      "text/html": [
       "<div>\n",
       "<style scoped>\n",
       "    .dataframe tbody tr th:only-of-type {\n",
       "        vertical-align: middle;\n",
       "    }\n",
       "\n",
       "    .dataframe tbody tr th {\n",
       "        vertical-align: top;\n",
       "    }\n",
       "\n",
       "    .dataframe thead th {\n",
       "        text-align: right;\n",
       "    }\n",
       "</style>\n",
       "<table border=\"1\" class=\"dataframe\">\n",
       "  <thead>\n",
       "    <tr style=\"text-align: right;\">\n",
       "      <th></th>\n",
       "      <th>order_day_of_week</th>\n",
       "      <th>prices</th>\n",
       "    </tr>\n",
       "  </thead>\n",
       "  <tbody>\n",
       "    <tr>\n",
       "      <th>0</th>\n",
       "      <td>2</td>\n",
       "      <td>9.0</td>\n",
       "    </tr>\n",
       "    <tr>\n",
       "      <th>2</th>\n",
       "      <td>3</td>\n",
       "      <td>9.0</td>\n",
       "    </tr>\n",
       "    <tr>\n",
       "      <th>3</th>\n",
       "      <td>4</td>\n",
       "      <td>9.0</td>\n",
       "    </tr>\n",
       "    <tr>\n",
       "      <th>6</th>\n",
       "      <td>1</td>\n",
       "      <td>9.0</td>\n",
       "    </tr>\n",
       "    <tr>\n",
       "      <th>10</th>\n",
       "      <td>2</td>\n",
       "      <td>12.5</td>\n",
       "    </tr>\n",
       "    <tr>\n",
       "      <th>12</th>\n",
       "      <td>3</td>\n",
       "      <td>4.4</td>\n",
       "    </tr>\n",
       "    <tr>\n",
       "      <th>13</th>\n",
       "      <td>3</td>\n",
       "      <td>4.4</td>\n",
       "    </tr>\n",
       "    <tr>\n",
       "      <th>19</th>\n",
       "      <td>1</td>\n",
       "      <td>4.4</td>\n",
       "    </tr>\n",
       "    <tr>\n",
       "      <th>21</th>\n",
       "      <td>2</td>\n",
       "      <td>4.7</td>\n",
       "    </tr>\n",
       "    <tr>\n",
       "      <th>22</th>\n",
       "      <td>3</td>\n",
       "      <td>4.7</td>\n",
       "    </tr>\n",
       "  </tbody>\n",
       "</table>\n",
       "</div>"
      ],
      "text/plain": [
       "    order_day_of_week  prices\n",
       "0                   2     9.0\n",
       "2                   3     9.0\n",
       "3                   4     9.0\n",
       "6                   1     9.0\n",
       "10                  2    12.5\n",
       "12                  3     4.4\n",
       "13                  3     4.4\n",
       "19                  1     4.4\n",
       "21                  2     4.7\n",
       "22                  3     4.7"
      ]
     },
     "execution_count": 34,
     "metadata": {},
     "output_type": "execute_result"
    }
   ],
   "source": [
    "# Check of 'df_small_s'\n",
    "\n",
    "df_small_s.head(10)"
   ]
  },
  {
   "cell_type": "code",
   "execution_count": 36,
   "id": "8f4e7f65",
   "metadata": {},
   "outputs": [
    {
     "data": {
      "image/png": "[encoded data removed]",
      "text/plain": [
       "<Figure size 432x288 with 1 Axes>"
      ]
     },
     "metadata": {
      "needs_background": "light"
     },
     "output_type": "display_data"
    }
   ],
   "source": [
    " line = sns.lineplot(data = df_small_s, x = 'order_day_of_week', y = 'prices')"
   ]
  },
  {
   "cell_type": "markdown",
   "id": "26f97f18",
   "metadata": {},
   "source": [
    "## 3.- Provide the Instacart senior stakeholders  with descriptive findings about sales. Create a histogram of the 'order_hour_of_day' variable."
   ]
  },
  {
   "cell_type": "code",
   "execution_count": 40,
   "id": "c9821459",
   "metadata": {},
   "outputs": [
    {
     "data": {
      "image/png": "[encoded data removed]",
      "text/plain": [
       "<Figure size 432x288 with 1 Axes>"
      ]
     },
     "metadata": {
      "needs_background": "light"
     },
     "output_type": "display_data"
    }
   ],
   "source": [
    "# Creating histogram 'hist_ohod'\n",
    "\n",
    "hist_ohod = ords_prods_cust['order_hour_of_day'].plot.hist(bins = 24)"
   ]
  },
  {
   "cell_type": "markdown",
   "id": "078e0337",
   "metadata": {},
   "source": [
    "#### Clearly most of the orders happen from dawn to after dusk, but is interesting to see how abrupt the increase of placed orders happens between 6:00 a.m. and 9:00 a.m.; then, the biggest proportion of orders are placed between 9:00 a.m. and 4:00 p.m., which are the main office hours. Around 5:00 p.m., the volume of orders start to gradually decrease until they practically stop at 11:00 p.m.\n",
    "#### It's also interesting how the smallest proportion of orders are placed between 11:00 p.m. and 12:00 p.m., abut right afeter, at 12:00 a.m. orders have a small peak, and the nthe cycle restarts. "
   ]
  },
  {
   "cell_type": "markdown",
   "id": "2e848f89",
   "metadata": {},
   "source": [
    "##  4.- Create a bar chart from the 'loyalty_flag' column, so the marketing team knows about the orders distribution among customers in terms of loyalty."
   ]
  },
  {
   "cell_type": "code",
   "execution_count": 39,
   "id": "e8294628",
   "metadata": {},
   "outputs": [
    {
     "data": {
      "image/png": "[encoded data removed]",
      "text/plain": [
       "<Figure size 432x288 with 1 Axes>"
      ]
     },
     "metadata": {
      "needs_background": "light"
     },
     "output_type": "display_data"
    }
   ],
   "source": [
    "# Create object ' bar_loyalty' that contains a bar chart of the 'loyalty_flag' variable.\n",
    "\n",
    "bar_loyalty = ords_prods_cust['loyalty_flag'].value_counts().plot.bar( color = ['tab:blue', 'tab:orange', 'tab:green'])"
   ]
  },
  {
   "cell_type": "markdown",
   "id": "2031713e",
   "metadata": {},
   "source": [
    "## 5.- Check whether there's a difference in expenditure ('prices') depending of the hour of the day ('orderd_hour_of_day')."
   ]
  },
  {
   "cell_type": "code",
   "execution_count": 55,
   "id": "4c554918",
   "metadata": {},
   "outputs": [],
   "source": [
    "df_small_s_2 = small[['order_hour_of_day', 'prices']]"
   ]
  },
  {
   "cell_type": "code",
   "execution_count": 56,
   "id": "7198e99d",
   "metadata": {},
   "outputs": [
    {
     "data": {
      "text/html": [
       "<div>\n",
       "<style scoped>\n",
       "    .dataframe tbody tr th:only-of-type {\n",
       "        vertical-align: middle;\n",
       "    }\n",
       "\n",
       "    .dataframe tbody tr th {\n",
       "        vertical-align: top;\n",
       "    }\n",
       "\n",
       "    .dataframe thead th {\n",
       "        text-align: right;\n",
       "    }\n",
       "</style>\n",
       "<table border=\"1\" class=\"dataframe\">\n",
       "  <thead>\n",
       "    <tr style=\"text-align: right;\">\n",
       "      <th></th>\n",
       "      <th>order_hour_of_day</th>\n",
       "      <th>prices</th>\n",
       "    </tr>\n",
       "  </thead>\n",
       "  <tbody>\n",
       "    <tr>\n",
       "      <th>0</th>\n",
       "      <td>8</td>\n",
       "      <td>9.0</td>\n",
       "    </tr>\n",
       "  </tbody>\n",
       "</table>\n",
       "</div>"
      ],
      "text/plain": [
       "   order_hour_of_day  prices\n",
       "0                  8     9.0"
      ]
     },
     "execution_count": 56,
     "metadata": {},
     "output_type": "execute_result"
    }
   ],
   "source": [
    "# check 'df_small_s_2'\n",
    "\n",
    "df_small_s_2.head(1)"
   ]
  },
  {
   "cell_type": "code",
   "execution_count": 58,
   "id": "671b20d9",
   "metadata": {},
   "outputs": [
    {
     "data": {
      "image/png": "[encoded data removed]",
      "text/plain": [
       "<Figure size 432x288 with 1 Axes>"
      ]
     },
     "metadata": {
      "needs_background": "light"
     },
     "output_type": "display_data"
    }
   ],
   "source": [
    " line_ohod_prices = sns.lineplot(data = df_small_s_2, x = 'order_hour_of_day', y = 'prices')"
   ]
  },
  {
   "cell_type": "markdown",
   "id": "a5f2d0c3",
   "metadata": {},
   "source": [
    "## 6.- Conduct an exploratory analysis of customer demographics to inform the targeted marketing campaigns.\n",
    "\n",
    "## First, determine whether there's a connection between age and family situation by creating a line chart exploring the connections between age and number of dependants."
   ]
  },
  {
   "cell_type": "code",
   "execution_count": 59,
   "id": "32276005",
   "metadata": {},
   "outputs": [],
   "source": [
    "# Use 'small' sample to create a (sample) subset with of 'age' and 'dependants_num'\n",
    "\n",
    "df_small_s_3 = small[['age', 'dependants_num']]"
   ]
  },
  {
   "cell_type": "code",
   "execution_count": 60,
   "id": "4545f39a",
   "metadata": {},
   "outputs": [
    {
     "data": {
      "text/html": [
       "<div>\n",
       "<style scoped>\n",
       "    .dataframe tbody tr th:only-of-type {\n",
       "        vertical-align: middle;\n",
       "    }\n",
       "\n",
       "    .dataframe tbody tr th {\n",
       "        vertical-align: top;\n",
       "    }\n",
       "\n",
       "    .dataframe thead th {\n",
       "        text-align: right;\n",
       "    }\n",
       "</style>\n",
       "<table border=\"1\" class=\"dataframe\">\n",
       "  <thead>\n",
       "    <tr style=\"text-align: right;\">\n",
       "      <th></th>\n",
       "      <th>age</th>\n",
       "      <th>dependants_num</th>\n",
       "    </tr>\n",
       "  </thead>\n",
       "  <tbody>\n",
       "    <tr>\n",
       "      <th>0</th>\n",
       "      <td>31</td>\n",
       "      <td>3</td>\n",
       "    </tr>\n",
       "  </tbody>\n",
       "</table>\n",
       "</div>"
      ],
      "text/plain": [
       "   age  dependants_num\n",
       "0   31               3"
      ]
     },
     "execution_count": 60,
     "metadata": {},
     "output_type": "execute_result"
    }
   ],
   "source": [
    "# Check 'df_small_s_3'\n",
    "\n",
    "df_small_s_3.head(1)"
   ]
  },
  {
   "cell_type": "code",
   "execution_count": 62,
   "id": "a807dd5c",
   "metadata": {},
   "outputs": [
    {
     "data": {
      "image/png": "[encoded data removed]",
      "text/plain": [
       "<Figure size 432x288 with 1 Axes>"
      ]
     },
     "metadata": {
      "needs_background": "light"
     },
     "output_type": "display_data"
    }
   ],
   "source": [
    "line_age_dn = sns.lineplot(data = df_small_s_3, x = 'age', y = 'dependants_num')"
   ]
  },
  {
   "cell_type": "code",
   "execution_count": 64,
   "id": "f698b931",
   "metadata": {},
   "outputs": [
    {
     "data": {
      "text/plain": [
       "1.5018956570679725"
      ]
     },
     "execution_count": 64,
     "metadata": {},
     "output_type": "execute_result"
    }
   ],
   "source": [
    "# Check 'dependants_num' mean\n",
    "\n",
    "ords_prods_cust['dependants_num'].mean()"
   ]
  },
  {
   "cell_type": "markdown",
   "id": "f59deac5",
   "metadata": {},
   "source": [
    "#### No pattern can be easily identified between the number of dependants and the customer's age., meaning that per se, there's no correlation between the age and the number of dependants as most of the ages are around the 'dependants_num' average. What you can notice though is that the typical ages to start a family are more steady than those advanced ages, that go up and down in terms dependants number--might this talk about the shared responsibility of the descendants? Might be worth to explore that possibility to target the dependants within those households."
   ]
  },
  {
   "cell_type": "markdown",
   "id": "1529f62b",
   "metadata": {},
   "source": [
    "## 7.- Explore whether there's connection between the age and spending power ('income'). Visualize this by creating a scatterplot ('sns.scatterplot()' function)."
   ]
  },
  {
   "cell_type": "code",
   "execution_count": null,
   "id": "4859d65b",
   "metadata": {},
   "outputs": [],
   "source": [
    "# In this case, I'll use the whole dataframe instead of a sample"
   ]
  },
  {
   "cell_type": "code",
   "execution_count": 68,
   "id": "309a4999",
   "metadata": {},
   "outputs": [
    {
     "data": {
      "image/png": "[encoded data removed]",
      "text/plain": [
       "<Figure size 432x288 with 1 Axes>"
      ]
     },
     "metadata": {
      "needs_background": "light"
     },
     "output_type": "display_data"
    }
   ],
   "source": [
    "scatt_age_income = sns.scatterplot(x = 'age', y = 'income', data = ords_prods_cust)"
   ]
  },
  {
   "cell_type": "markdown",
   "id": "e459180d",
   "metadata": {},
   "source": [
    "#### You can clearly see how as people age, it's spending power grows as well\n",
    "\n",
    "#### Most of the people between 18 and 41 years  have a spending power between 0 and 200,000, only a relatively small group have power spending over 200,000 up to 400,000, but not quite where older people  is, as the -over-the-average group after 41 years can have a spending power up to 600,000.\n",
    "\n",
    "#### Between the 41 and 82 years, the spending power considerably grows, and is normal considering the natural cycle of life (despite the number ofdependants, that as we could see before, is not conclusive). Most of this age group is located at a spending power between 0 and 300,000; a relatively small group within this age group have a sepnding power over the 300,000 and up to 600,000."
   ]
  },
  {
   "cell_type": "markdown",
   "id": "2284f59c",
   "metadata": {},
   "source": [
    "## 8.- Export all the visualization as '.png' files\n",
    "#### Last visualization (line chart) from direction number 3 forward, must be imported, the rest has been already imported."
   ]
  },
  {
   "cell_type": "code",
   "execution_count": 69,
   "id": "c52a9cc1",
   "metadata": {},
   "outputs": [],
   "source": [
    "line.figure.savefig(os.path.join(path, '04 Analysis', 'Visualizations', '27_07_22', 'Task_4.9_Part_II', 'line_Part_II.png'))"
   ]
  },
  {
   "cell_type": "code",
   "execution_count": 70,
   "id": "58089e60",
   "metadata": {},
   "outputs": [],
   "source": [
    "hist_ohod.figure.savefig(os.path.join(path, '04 Analysis', 'Visualizations', '27_07_22', 'Task_4.9_Part_II', 'hist_ohod_Part_II.png'))"
   ]
  },
  {
   "cell_type": "code",
   "execution_count": 71,
   "id": "fd0cd253",
   "metadata": {},
   "outputs": [],
   "source": [
    "bar_loyalty.figure.savefig(os.path.join(path, '04 Analysis', 'Visualizations', '27_07_22', 'Task_4.9_Part_II', 'bar_loyalty_Part_II.png'))"
   ]
  },
  {
   "cell_type": "code",
   "execution_count": 72,
   "id": "1ab9cdd0",
   "metadata": {},
   "outputs": [],
   "source": [
    "line_ohod_prices.figure.savefig(os.path.join(path, '04 Analysis', 'Visualizations', '27_07_22', 'Task_4.9_Part_II', 'line_ohod_prices_Part_II.png'))"
   ]
  },
  {
   "cell_type": "code",
   "execution_count": 73,
   "id": "89033138",
   "metadata": {},
   "outputs": [],
   "source": [
    "line_age_dn.figure.savefig(os.path.join(path, '04 Analysis', 'Visualizations', '27_07_22', 'Task_4.9_Part_II', 'line_age_dn_Part_II.png'))"
   ]
  },
  {
   "cell_type": "code",
   "execution_count": 74,
   "id": "b6f1815f",
   "metadata": {},
   "outputs": [],
   "source": [
    "scatt_age_income.figure.savefig(os.path.join(path, '04 Analysis', 'Visualizations', '27_07_22', 'Task_4.9_Part_II', 'scatt_age_income_Part_II.png'))"
   ]
  },
  {
   "cell_type": "markdown",
   "id": "c99a839b",
   "metadata": {},
   "source": [
    "## Save notebook Task 4.9 - Part II"
   ]
  },
  {
   "cell_type": "code",
   "execution_count": null,
   "id": "d8dd06e7",
   "metadata": {},
   "outputs": [],
   "source": []
  }
 ],
 "metadata": {
  "kernelspec": {
   "display_name": "Python 3 (ipykernel)",
   "language": "python",
   "name": "python3"
  },
  "language_info": {
   "codemirror_mode": {
    "name": "ipython",
    "version": 3
   },
   "file_extension": ".py",
   "mimetype": "text/x-python",
   "name": "python",
   "nbconvert_exporter": "python",
   "pygments_lexer": "ipython3",
   "version": "3.9.12"
  }
 },
 "nbformat": 4,
 "nbformat_minor": 5
}
