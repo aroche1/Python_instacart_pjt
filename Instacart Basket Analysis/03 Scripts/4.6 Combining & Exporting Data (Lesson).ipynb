{
 "cells": [
  {
   "cell_type": "markdown",
   "id": "9cffe4fa",
   "metadata": {},
   "source": [
    "# Merging and Exporting Data"
   ]
  },
  {
   "cell_type": "markdown",
   "id": "4d230f93",
   "metadata": {},
   "source": [
    "## Table of contents:\n",
    "\n",
    "#### - Concatenate, append and merge dataframes\n",
    "\n",
    "#### - Export merged data using the pickle method"
   ]
  },
  {
   "cell_type": "markdown",
   "id": "a78b6bd1",
   "metadata": {},
   "source": [
    "# 01. Importing Libraries"
   ]
  },
  {
   "cell_type": "code",
   "execution_count": 1,
   "id": "c703f022",
   "metadata": {},
   "outputs": [],
   "source": [
    "import pandas as pd\n",
    "import numpy as np\n",
    "import os"
   ]
  },
  {
   "cell_type": "code",
   "execution_count": 2,
   "id": "03ee1230",
   "metadata": {},
   "outputs": [],
   "source": [
    "# Creating path\n",
    "\n",
    "path = r'/Users/david/Desktop/CF/Data Immersion/Achievement 4 - Python Fundamentals for Data Analysts/07-2022 Instacart Basket Analysis'"
   ]
  },
  {
   "cell_type": "code",
   "execution_count": 3,
   "id": "59dae664",
   "metadata": {},
   "outputs": [
    {
     "data": {
      "text/plain": [
       "'/Users/david/Desktop/CF/Data Immersion/Achievement 4 - Python Fundamentals for Data Analysts/07-2022 Instacart Basket Analysis'"
      ]
     },
     "execution_count": 3,
     "metadata": {},
     "output_type": "execute_result"
    }
   ],
   "source": [
    "# Verifying path\n",
    "\n",
    "path"
   ]
  },
  {
   "cell_type": "markdown",
   "id": "218b1c6c",
   "metadata": {},
   "source": [
    "# 02. Methods of Combining Data"
   ]
  },
  {
   "cell_type": "markdown",
   "id": "d9a441d7",
   "metadata": {},
   "source": [
    "### 02.1 Concatenate"
   ]
  },
  {
   "cell_type": "code",
   "execution_count": 36,
   "id": "5db9281b",
   "metadata": {},
   "outputs": [],
   "source": [
    "# Example to use pd. concat()\n",
    "# 1. Create dictionaries of data ( to experiment with)\n",
    "# 2. Convert the dictionaries into dataframes\n",
    "# 3. Concatenate dataframes"
   ]
  },
  {
   "cell_type": "markdown",
   "id": "8e4cb864",
   "metadata": {},
   "source": [
    "#### 02.1.1 Creating dictionaries of data"
   ]
  },
  {
   "cell_type": "code",
   "execution_count": 9,
   "id": "f15ef9b4",
   "metadata": {},
   "outputs": [],
   "source": [
    "# Define a dictionary containing January 2020 data\n",
    "\n",
    "data1 = {'customer_id':['6732', '767', '890', '635'],\n",
    "    'month':['Jan-20', 'Jan-20', 'Jan-20', 'Jan-20'],\n",
    "    'purchased_meat':[0, 13, 3, 4],\n",
    "    'purchased_alcohol':[1, 2, 10, 0],\n",
    "    'purchased_snacks':[10, 5, 1, 7]}"
   ]
  },
  {
   "cell_type": "code",
   "execution_count": 10,
   "id": "44d26f78",
   "metadata": {},
   "outputs": [
    {
     "data": {
      "text/plain": [
       "{'customer_id': ['6732', '767', '890', '635'],\n",
       " 'month': ['Jan-20', 'Jan-20', 'Jan-20', 'Jan-20'],\n",
       " 'purchased_meat': [0, 13, 3, 4],\n",
       " 'purchased_alcohol': [1, 2, 10, 0],\n",
       " 'purchased_snacks': [10, 5, 1, 7]}"
      ]
     },
     "execution_count": 10,
     "metadata": {},
     "output_type": "execute_result"
    }
   ],
   "source": [
    "data1"
   ]
  },
  {
   "cell_type": "code",
   "execution_count": 6,
   "id": "8b9f7dd4",
   "metadata": {},
   "outputs": [],
   "source": [
    "# Define a dictionary containing February 2020 data\n",
    "\n",
    "data2 = {'customer_id':['6732', '767', '890', '635'],\n",
    "    'month':['Feb-20', 'Feb-20', 'Feb-20', 'Feb-20'],\n",
    "    'purchased_meat':[0, 10, 5, 3],\n",
    "    'purchased_alcohol':[2, 4, 14, 0],\n",
    "    'purchased_snacks':[15, 3, 2, 6]}"
   ]
  },
  {
   "cell_type": "code",
   "execution_count": 8,
   "id": "aac54420",
   "metadata": {},
   "outputs": [
    {
     "data": {
      "text/plain": [
       "{'customer_id': ['6732', '767', '890', '635'],\n",
       " 'month': ['Feb-20', 'Feb-20', 'Feb-20', 'Feb-20'],\n",
       " 'purchased_meat': [0, 10, 5, 3],\n",
       " 'purchased_alcohol': [2, 4, 14, 0],\n",
       " 'purchased_snacks': [15, 3, 2, 6]}"
      ]
     },
     "execution_count": 8,
     "metadata": {},
     "output_type": "execute_result"
    }
   ],
   "source": [
    "data2"
   ]
  },
  {
   "cell_type": "markdown",
   "id": "97668328",
   "metadata": {},
   "source": [
    "#### 02.1.2 Convert dictionaries into dataframes"
   ]
  },
  {
   "cell_type": "code",
   "execution_count": 12,
   "id": "de418ba2",
   "metadata": {},
   "outputs": [],
   "source": [
    "#Convert the dictionary into dataframe\n",
    "\n",
    "df_1 = pd.DataFrame(data1,index=[0, 1, 2, 3])\n",
    "df_2 = pd.DataFrame(data2,index=[0, 1, 2, 3])\n",
    "\n",
    "# By using the 'pd.DataFrame' function, Python converts dictionaries into dataframes\n",
    "# The converted object goes along with an 'index' argument, that tell Python to return an index with each dataframe"
   ]
  },
  {
   "cell_type": "code",
   "execution_count": 19,
   "id": "e9a53e2d",
   "metadata": {},
   "outputs": [
    {
     "data": {
      "text/html": [
       "<div>\n",
       "<style scoped>\n",
       "    .dataframe tbody tr th:only-of-type {\n",
       "        vertical-align: middle;\n",
       "    }\n",
       "\n",
       "    .dataframe tbody tr th {\n",
       "        vertical-align: top;\n",
       "    }\n",
       "\n",
       "    .dataframe thead th {\n",
       "        text-align: right;\n",
       "    }\n",
       "</style>\n",
       "<table border=\"1\" class=\"dataframe\">\n",
       "  <thead>\n",
       "    <tr style=\"text-align: right;\">\n",
       "      <th></th>\n",
       "      <th>customer_id</th>\n",
       "      <th>month</th>\n",
       "      <th>purchased_meat</th>\n",
       "      <th>purchased_alcohol</th>\n",
       "      <th>purchased_snacks</th>\n",
       "    </tr>\n",
       "  </thead>\n",
       "  <tbody>\n",
       "    <tr>\n",
       "      <th>0</th>\n",
       "      <td>6732</td>\n",
       "      <td>Jan-20</td>\n",
       "      <td>0</td>\n",
       "      <td>1</td>\n",
       "      <td>10</td>\n",
       "    </tr>\n",
       "    <tr>\n",
       "      <th>1</th>\n",
       "      <td>767</td>\n",
       "      <td>Jan-20</td>\n",
       "      <td>13</td>\n",
       "      <td>2</td>\n",
       "      <td>5</td>\n",
       "    </tr>\n",
       "    <tr>\n",
       "      <th>2</th>\n",
       "      <td>890</td>\n",
       "      <td>Jan-20</td>\n",
       "      <td>3</td>\n",
       "      <td>10</td>\n",
       "      <td>1</td>\n",
       "    </tr>\n",
       "    <tr>\n",
       "      <th>3</th>\n",
       "      <td>635</td>\n",
       "      <td>Jan-20</td>\n",
       "      <td>4</td>\n",
       "      <td>0</td>\n",
       "      <td>7</td>\n",
       "    </tr>\n",
       "  </tbody>\n",
       "</table>\n",
       "</div>"
      ],
      "text/plain": [
       "  customer_id   month  purchased_meat  purchased_alcohol  purchased_snacks\n",
       "0        6732  Jan-20               0                  1                10\n",
       "1         767  Jan-20              13                  2                 5\n",
       "2         890  Jan-20               3                 10                 1\n",
       "3         635  Jan-20               4                  0                 7"
      ]
     },
     "execution_count": 19,
     "metadata": {},
     "output_type": "execute_result"
    }
   ],
   "source": [
    "# Check on 'df_1' and 'df_2'\n",
    "df_1"
   ]
  },
  {
   "cell_type": "code",
   "execution_count": 17,
   "id": "750e24b6",
   "metadata": {},
   "outputs": [
    {
     "data": {
      "text/html": [
       "<div>\n",
       "<style scoped>\n",
       "    .dataframe tbody tr th:only-of-type {\n",
       "        vertical-align: middle;\n",
       "    }\n",
       "\n",
       "    .dataframe tbody tr th {\n",
       "        vertical-align: top;\n",
       "    }\n",
       "\n",
       "    .dataframe thead th {\n",
       "        text-align: right;\n",
       "    }\n",
       "</style>\n",
       "<table border=\"1\" class=\"dataframe\">\n",
       "  <thead>\n",
       "    <tr style=\"text-align: right;\">\n",
       "      <th></th>\n",
       "      <th>customer_id</th>\n",
       "      <th>month</th>\n",
       "      <th>purchased_meat</th>\n",
       "      <th>purchased_alcohol</th>\n",
       "      <th>purchased_snacks</th>\n",
       "    </tr>\n",
       "  </thead>\n",
       "  <tbody>\n",
       "    <tr>\n",
       "      <th>0</th>\n",
       "      <td>6732</td>\n",
       "      <td>Feb-20</td>\n",
       "      <td>0</td>\n",
       "      <td>2</td>\n",
       "      <td>15</td>\n",
       "    </tr>\n",
       "    <tr>\n",
       "      <th>1</th>\n",
       "      <td>767</td>\n",
       "      <td>Feb-20</td>\n",
       "      <td>10</td>\n",
       "      <td>4</td>\n",
       "      <td>3</td>\n",
       "    </tr>\n",
       "    <tr>\n",
       "      <th>2</th>\n",
       "      <td>890</td>\n",
       "      <td>Feb-20</td>\n",
       "      <td>5</td>\n",
       "      <td>14</td>\n",
       "      <td>2</td>\n",
       "    </tr>\n",
       "    <tr>\n",
       "      <th>3</th>\n",
       "      <td>635</td>\n",
       "      <td>Feb-20</td>\n",
       "      <td>3</td>\n",
       "      <td>0</td>\n",
       "      <td>6</td>\n",
       "    </tr>\n",
       "  </tbody>\n",
       "</table>\n",
       "</div>"
      ],
      "text/plain": [
       "  customer_id   month  purchased_meat  purchased_alcohol  purchased_snacks\n",
       "0        6732  Feb-20               0                  2                15\n",
       "1         767  Feb-20              10                  4                 3\n",
       "2         890  Feb-20               5                 14                 2\n",
       "3         635  Feb-20               3                  0                 6"
      ]
     },
     "execution_count": 17,
     "metadata": {},
     "output_type": "execute_result"
    }
   ],
   "source": [
    "df_2"
   ]
  },
  {
   "cell_type": "code",
   "execution_count": 20,
   "id": "7d273c47",
   "metadata": {},
   "outputs": [],
   "source": [
    "# To concatenate these two dataframes:\n",
    "# 1st, create a list\n",
    "# 2nd, concatenate this list with the concatenate pandas fucntion: 'pd.concat()'\n",
    "\n",
    "frames = [df_1, df_2]"
   ]
  },
  {
   "cell_type": "code",
   "execution_count": 21,
   "id": "bcb2e85e",
   "metadata": {},
   "outputs": [
    {
     "data": {
      "text/plain": [
       "[  customer_id   month  purchased_meat  purchased_alcohol  purchased_snacks\n",
       " 0        6732  Jan-20               0                  1                10\n",
       " 1         767  Jan-20              13                  2                 5\n",
       " 2         890  Jan-20               3                 10                 1\n",
       " 3         635  Jan-20               4                  0                 7,\n",
       "   customer_id   month  purchased_meat  purchased_alcohol  purchased_snacks\n",
       " 0        6732  Feb-20               0                  2                15\n",
       " 1         767  Feb-20              10                  4                 3\n",
       " 2         890  Feb-20               5                 14                 2\n",
       " 3         635  Feb-20               3                  0                 6]"
      ]
     },
     "execution_count": 21,
     "metadata": {},
     "output_type": "execute_result"
    }
   ],
   "source": [
    "# Checking 'frames' list\n",
    "frames"
   ]
  },
  {
   "cell_type": "code",
   "execution_count": 22,
   "id": "96151bf7",
   "metadata": {},
   "outputs": [
    {
     "data": {
      "text/plain": [
       "list"
      ]
     },
     "execution_count": 22,
     "metadata": {},
     "output_type": "execute_result"
    }
   ],
   "source": [
    "# Check the data types to be sure it is a list\n",
    "\n",
    "type(frames)"
   ]
  },
  {
   "cell_type": "markdown",
   "id": "14fe2192",
   "metadata": {},
   "source": [
    "#### 02.1.3 concatenate dataframes ( 'pd.concat( )' )"
   ]
  },
  {
   "cell_type": "code",
   "execution_count": 23,
   "id": "82210835",
   "metadata": {},
   "outputs": [],
   "source": [
    "# Concatenate the dataframes using default options\n",
    "\n",
    "df_concat = pd.concat(frames)"
   ]
  },
  {
   "cell_type": "code",
   "execution_count": 24,
   "id": "3cfcf14f",
   "metadata": {},
   "outputs": [
    {
     "data": {
      "text/html": [
       "<div>\n",
       "<style scoped>\n",
       "    .dataframe tbody tr th:only-of-type {\n",
       "        vertical-align: middle;\n",
       "    }\n",
       "\n",
       "    .dataframe tbody tr th {\n",
       "        vertical-align: top;\n",
       "    }\n",
       "\n",
       "    .dataframe thead th {\n",
       "        text-align: right;\n",
       "    }\n",
       "</style>\n",
       "<table border=\"1\" class=\"dataframe\">\n",
       "  <thead>\n",
       "    <tr style=\"text-align: right;\">\n",
       "      <th></th>\n",
       "      <th>customer_id</th>\n",
       "      <th>month</th>\n",
       "      <th>purchased_meat</th>\n",
       "      <th>purchased_alcohol</th>\n",
       "      <th>purchased_snacks</th>\n",
       "    </tr>\n",
       "  </thead>\n",
       "  <tbody>\n",
       "    <tr>\n",
       "      <th>0</th>\n",
       "      <td>6732</td>\n",
       "      <td>Jan-20</td>\n",
       "      <td>0</td>\n",
       "      <td>1</td>\n",
       "      <td>10</td>\n",
       "    </tr>\n",
       "    <tr>\n",
       "      <th>1</th>\n",
       "      <td>767</td>\n",
       "      <td>Jan-20</td>\n",
       "      <td>13</td>\n",
       "      <td>2</td>\n",
       "      <td>5</td>\n",
       "    </tr>\n",
       "    <tr>\n",
       "      <th>2</th>\n",
       "      <td>890</td>\n",
       "      <td>Jan-20</td>\n",
       "      <td>3</td>\n",
       "      <td>10</td>\n",
       "      <td>1</td>\n",
       "    </tr>\n",
       "    <tr>\n",
       "      <th>3</th>\n",
       "      <td>635</td>\n",
       "      <td>Jan-20</td>\n",
       "      <td>4</td>\n",
       "      <td>0</td>\n",
       "      <td>7</td>\n",
       "    </tr>\n",
       "    <tr>\n",
       "      <th>0</th>\n",
       "      <td>6732</td>\n",
       "      <td>Feb-20</td>\n",
       "      <td>0</td>\n",
       "      <td>2</td>\n",
       "      <td>15</td>\n",
       "    </tr>\n",
       "    <tr>\n",
       "      <th>1</th>\n",
       "      <td>767</td>\n",
       "      <td>Feb-20</td>\n",
       "      <td>10</td>\n",
       "      <td>4</td>\n",
       "      <td>3</td>\n",
       "    </tr>\n",
       "    <tr>\n",
       "      <th>2</th>\n",
       "      <td>890</td>\n",
       "      <td>Feb-20</td>\n",
       "      <td>5</td>\n",
       "      <td>14</td>\n",
       "      <td>2</td>\n",
       "    </tr>\n",
       "    <tr>\n",
       "      <th>3</th>\n",
       "      <td>635</td>\n",
       "      <td>Feb-20</td>\n",
       "      <td>3</td>\n",
       "      <td>0</td>\n",
       "      <td>6</td>\n",
       "    </tr>\n",
       "  </tbody>\n",
       "</table>\n",
       "</div>"
      ],
      "text/plain": [
       "  customer_id   month  purchased_meat  purchased_alcohol  purchased_snacks\n",
       "0        6732  Jan-20               0                  1                10\n",
       "1         767  Jan-20              13                  2                 5\n",
       "2         890  Jan-20               3                 10                 1\n",
       "3         635  Jan-20               4                  0                 7\n",
       "0        6732  Feb-20               0                  2                15\n",
       "1         767  Feb-20              10                  4                 3\n",
       "2         890  Feb-20               5                 14                 2\n",
       "3         635  Feb-20               3                  0                 6"
      ]
     },
     "execution_count": 24,
     "metadata": {},
     "output_type": "execute_result"
    }
   ],
   "source": [
    "df_concat"
   ]
  },
  {
   "cell_type": "code",
   "execution_count": 25,
   "id": "12ba59c8",
   "metadata": {},
   "outputs": [],
   "source": [
    "# 'pd.concat()' function, stack one dataframe on top of the other by default with a hiden (by default) value defined as 'axis = 0'\n",
    "# If I wanted to have the dataframes side by side, then I have to specify 'axis = 1' so it can do so\n",
    "\n",
    "df_concat = pd.concat(frames, axis = 1)"
   ]
  },
  {
   "cell_type": "code",
   "execution_count": 26,
   "id": "ec0deaa8",
   "metadata": {},
   "outputs": [
    {
     "data": {
      "text/html": [
       "<div>\n",
       "<style scoped>\n",
       "    .dataframe tbody tr th:only-of-type {\n",
       "        vertical-align: middle;\n",
       "    }\n",
       "\n",
       "    .dataframe tbody tr th {\n",
       "        vertical-align: top;\n",
       "    }\n",
       "\n",
       "    .dataframe thead th {\n",
       "        text-align: right;\n",
       "    }\n",
       "</style>\n",
       "<table border=\"1\" class=\"dataframe\">\n",
       "  <thead>\n",
       "    <tr style=\"text-align: right;\">\n",
       "      <th></th>\n",
       "      <th>customer_id</th>\n",
       "      <th>month</th>\n",
       "      <th>purchased_meat</th>\n",
       "      <th>purchased_alcohol</th>\n",
       "      <th>purchased_snacks</th>\n",
       "      <th>customer_id</th>\n",
       "      <th>month</th>\n",
       "      <th>purchased_meat</th>\n",
       "      <th>purchased_alcohol</th>\n",
       "      <th>purchased_snacks</th>\n",
       "    </tr>\n",
       "  </thead>\n",
       "  <tbody>\n",
       "    <tr>\n",
       "      <th>0</th>\n",
       "      <td>6732</td>\n",
       "      <td>Jan-20</td>\n",
       "      <td>0</td>\n",
       "      <td>1</td>\n",
       "      <td>10</td>\n",
       "      <td>6732</td>\n",
       "      <td>Feb-20</td>\n",
       "      <td>0</td>\n",
       "      <td>2</td>\n",
       "      <td>15</td>\n",
       "    </tr>\n",
       "    <tr>\n",
       "      <th>1</th>\n",
       "      <td>767</td>\n",
       "      <td>Jan-20</td>\n",
       "      <td>13</td>\n",
       "      <td>2</td>\n",
       "      <td>5</td>\n",
       "      <td>767</td>\n",
       "      <td>Feb-20</td>\n",
       "      <td>10</td>\n",
       "      <td>4</td>\n",
       "      <td>3</td>\n",
       "    </tr>\n",
       "    <tr>\n",
       "      <th>2</th>\n",
       "      <td>890</td>\n",
       "      <td>Jan-20</td>\n",
       "      <td>3</td>\n",
       "      <td>10</td>\n",
       "      <td>1</td>\n",
       "      <td>890</td>\n",
       "      <td>Feb-20</td>\n",
       "      <td>5</td>\n",
       "      <td>14</td>\n",
       "      <td>2</td>\n",
       "    </tr>\n",
       "    <tr>\n",
       "      <th>3</th>\n",
       "      <td>635</td>\n",
       "      <td>Jan-20</td>\n",
       "      <td>4</td>\n",
       "      <td>0</td>\n",
       "      <td>7</td>\n",
       "      <td>635</td>\n",
       "      <td>Feb-20</td>\n",
       "      <td>3</td>\n",
       "      <td>0</td>\n",
       "      <td>6</td>\n",
       "    </tr>\n",
       "  </tbody>\n",
       "</table>\n",
       "</div>"
      ],
      "text/plain": [
       "  customer_id   month  purchased_meat  purchased_alcohol  purchased_snacks  \\\n",
       "0        6732  Jan-20               0                  1                10   \n",
       "1         767  Jan-20              13                  2                 5   \n",
       "2         890  Jan-20               3                 10                 1   \n",
       "3         635  Jan-20               4                  0                 7   \n",
       "\n",
       "  customer_id   month  purchased_meat  purchased_alcohol  purchased_snacks  \n",
       "0        6732  Feb-20               0                  2                15  \n",
       "1         767  Feb-20              10                  4                 3  \n",
       "2         890  Feb-20               5                 14                 2  \n",
       "3         635  Feb-20               3                  0                 6  "
      ]
     },
     "execution_count": 26,
     "metadata": {},
     "output_type": "execute_result"
    }
   ],
   "source": [
    "df_concat"
   ]
  },
  {
   "cell_type": "markdown",
   "id": "da56249f",
   "metadata": {},
   "source": [
    "#### Concatenate works better when/will do/will require:\n",
    "#### - When columns and rows have the same length\n",
    "#### - Wil place a list on top of each other ('axis = 0') unless it's specified side-by-side ('axis = 1')\n",
    "#### - Will require a list as ots main argument"
   ]
  },
  {
   "cell_type": "markdown",
   "id": "4fa7e42c",
   "metadata": {},
   "source": [
    "### 02.2 Appending Data"
   ]
  },
  {
   "cell_type": "code",
   "execution_count": null,
   "id": "dd5e62d7",
   "metadata": {},
   "outputs": [],
   "source": [
    "# Appending approach for when rows of a dataframe want to be added into another dataframe with the same number of columns\n",
    "# The 'append()' function works sthe same as 'pd.concat()', as it stacks one dataframe on the other by default ('axis = 0') unless specified different ('axis = 1')\n",
    "# The rows of 1 or more dataframes can be added, and for that we need to create a list within the parenthesis in 'append()'"
   ]
  },
  {
   "cell_type": "code",
   "execution_count": 27,
   "id": "c7561340",
   "metadata": {},
   "outputs": [
    {
     "name": "stderr",
     "output_type": "stream",
     "text": [
      "/var/folders/jw/m4xyglrx2lzdcm7rs6z302nm0000gn/T/ipykernel_1643/577814125.py:3: FutureWarning: The frame.append method is deprecated and will be removed from pandas in a future version. Use pandas.concat instead.\n",
      "  df_append = df_1.append(df_2)\n"
     ]
    }
   ],
   "source": [
    "# Append 'df_1' and 'df_2'\n",
    "\n",
    "df_append = df_1.append(df_2)"
   ]
  },
  {
   "cell_type": "code",
   "execution_count": 28,
   "id": "14971450",
   "metadata": {},
   "outputs": [
    {
     "data": {
      "text/html": [
       "<div>\n",
       "<style scoped>\n",
       "    .dataframe tbody tr th:only-of-type {\n",
       "        vertical-align: middle;\n",
       "    }\n",
       "\n",
       "    .dataframe tbody tr th {\n",
       "        vertical-align: top;\n",
       "    }\n",
       "\n",
       "    .dataframe thead th {\n",
       "        text-align: right;\n",
       "    }\n",
       "</style>\n",
       "<table border=\"1\" class=\"dataframe\">\n",
       "  <thead>\n",
       "    <tr style=\"text-align: right;\">\n",
       "      <th></th>\n",
       "      <th>customer_id</th>\n",
       "      <th>month</th>\n",
       "      <th>purchased_meat</th>\n",
       "      <th>purchased_alcohol</th>\n",
       "      <th>purchased_snacks</th>\n",
       "    </tr>\n",
       "  </thead>\n",
       "  <tbody>\n",
       "    <tr>\n",
       "      <th>0</th>\n",
       "      <td>6732</td>\n",
       "      <td>Jan-20</td>\n",
       "      <td>0</td>\n",
       "      <td>1</td>\n",
       "      <td>10</td>\n",
       "    </tr>\n",
       "    <tr>\n",
       "      <th>1</th>\n",
       "      <td>767</td>\n",
       "      <td>Jan-20</td>\n",
       "      <td>13</td>\n",
       "      <td>2</td>\n",
       "      <td>5</td>\n",
       "    </tr>\n",
       "    <tr>\n",
       "      <th>2</th>\n",
       "      <td>890</td>\n",
       "      <td>Jan-20</td>\n",
       "      <td>3</td>\n",
       "      <td>10</td>\n",
       "      <td>1</td>\n",
       "    </tr>\n",
       "    <tr>\n",
       "      <th>3</th>\n",
       "      <td>635</td>\n",
       "      <td>Jan-20</td>\n",
       "      <td>4</td>\n",
       "      <td>0</td>\n",
       "      <td>7</td>\n",
       "    </tr>\n",
       "    <tr>\n",
       "      <th>0</th>\n",
       "      <td>6732</td>\n",
       "      <td>Feb-20</td>\n",
       "      <td>0</td>\n",
       "      <td>2</td>\n",
       "      <td>15</td>\n",
       "    </tr>\n",
       "    <tr>\n",
       "      <th>1</th>\n",
       "      <td>767</td>\n",
       "      <td>Feb-20</td>\n",
       "      <td>10</td>\n",
       "      <td>4</td>\n",
       "      <td>3</td>\n",
       "    </tr>\n",
       "    <tr>\n",
       "      <th>2</th>\n",
       "      <td>890</td>\n",
       "      <td>Feb-20</td>\n",
       "      <td>5</td>\n",
       "      <td>14</td>\n",
       "      <td>2</td>\n",
       "    </tr>\n",
       "    <tr>\n",
       "      <th>3</th>\n",
       "      <td>635</td>\n",
       "      <td>Feb-20</td>\n",
       "      <td>3</td>\n",
       "      <td>0</td>\n",
       "      <td>6</td>\n",
       "    </tr>\n",
       "  </tbody>\n",
       "</table>\n",
       "</div>"
      ],
      "text/plain": [
       "  customer_id   month  purchased_meat  purchased_alcohol  purchased_snacks\n",
       "0        6732  Jan-20               0                  1                10\n",
       "1         767  Jan-20              13                  2                 5\n",
       "2         890  Jan-20               3                 10                 1\n",
       "3         635  Jan-20               4                  0                 7\n",
       "0        6732  Feb-20               0                  2                15\n",
       "1         767  Feb-20              10                  4                 3\n",
       "2         890  Feb-20               5                 14                 2\n",
       "3         635  Feb-20               3                  0                 6"
      ]
     },
     "execution_count": 28,
     "metadata": {},
     "output_type": "execute_result"
    }
   ],
   "source": [
    "# Take in consideration the message above: \n",
    "# /var/folders/jw/m4xyglrx2lzdcm7rs6z302nm0000gn/T/ipykernel_1643/577814125.py:3: FutureWarning: \n",
    "# The frame.append method is deprecated and will be removed from pandas in a future version. \n",
    "# Use pandas.concat instead.\n",
    "# df_append = df_1.append(df_2)\n",
    "\n",
    "df_append"
   ]
  },
  {
   "cell_type": "code",
   "execution_count": 29,
   "id": "1977a755",
   "metadata": {},
   "outputs": [],
   "source": [
    "# What happens when appending a dataframe with different amount of columns?\n",
    "# Create data with different columns from df\n",
    "\n",
    "data3 = {'customer_id':['6732', '767', '890', '635'],\n",
    "    'month':['Jan-20', 'Jan-20', 'Jan-20', 'Jan-20'],\n",
    "    'days_purchased_on':[0, 13, 3, 4]}\n"
   ]
  },
  {
   "cell_type": "code",
   "execution_count": 30,
   "id": "2483d770",
   "metadata": {},
   "outputs": [
    {
     "data": {
      "text/plain": [
       "{'customer_id': ['6732', '767', '890', '635'],\n",
       " 'month': ['Jan-20', 'Jan-20', 'Jan-20', 'Jan-20'],\n",
       " 'days_purchased_on': [0, 13, 3, 4]}"
      ]
     },
     "execution_count": 30,
     "metadata": {},
     "output_type": "execute_result"
    }
   ],
   "source": [
    "# Checking 'data3'\n",
    "\n",
    "data3"
   ]
  },
  {
   "cell_type": "code",
   "execution_count": 33,
   "id": "cff06827",
   "metadata": {},
   "outputs": [],
   "source": [
    "# Converting 'data3' to dataframe\n",
    "df_3 = pd.DataFrame(data3,index=[0, 1, 2, 3])"
   ]
  },
  {
   "cell_type": "code",
   "execution_count": 34,
   "id": "c7ea506c",
   "metadata": {},
   "outputs": [
    {
     "data": {
      "text/html": [
       "<div>\n",
       "<style scoped>\n",
       "    .dataframe tbody tr th:only-of-type {\n",
       "        vertical-align: middle;\n",
       "    }\n",
       "\n",
       "    .dataframe tbody tr th {\n",
       "        vertical-align: top;\n",
       "    }\n",
       "\n",
       "    .dataframe thead th {\n",
       "        text-align: right;\n",
       "    }\n",
       "</style>\n",
       "<table border=\"1\" class=\"dataframe\">\n",
       "  <thead>\n",
       "    <tr style=\"text-align: right;\">\n",
       "      <th></th>\n",
       "      <th>customer_id</th>\n",
       "      <th>month</th>\n",
       "      <th>days_purchased_on</th>\n",
       "    </tr>\n",
       "  </thead>\n",
       "  <tbody>\n",
       "    <tr>\n",
       "      <th>0</th>\n",
       "      <td>6732</td>\n",
       "      <td>Jan-20</td>\n",
       "      <td>0</td>\n",
       "    </tr>\n",
       "    <tr>\n",
       "      <th>1</th>\n",
       "      <td>767</td>\n",
       "      <td>Jan-20</td>\n",
       "      <td>13</td>\n",
       "    </tr>\n",
       "    <tr>\n",
       "      <th>2</th>\n",
       "      <td>890</td>\n",
       "      <td>Jan-20</td>\n",
       "      <td>3</td>\n",
       "    </tr>\n",
       "    <tr>\n",
       "      <th>3</th>\n",
       "      <td>635</td>\n",
       "      <td>Jan-20</td>\n",
       "      <td>4</td>\n",
       "    </tr>\n",
       "  </tbody>\n",
       "</table>\n",
       "</div>"
      ],
      "text/plain": [
       "  customer_id   month  days_purchased_on\n",
       "0        6732  Jan-20                  0\n",
       "1         767  Jan-20                 13\n",
       "2         890  Jan-20                  3\n",
       "3         635  Jan-20                  4"
      ]
     },
     "execution_count": 34,
     "metadata": {},
     "output_type": "execute_result"
    }
   ],
   "source": [
    "# Checking 'df_3'\n",
    "\n",
    "df_3"
   ]
  },
  {
   "cell_type": "code",
   "execution_count": 35,
   "id": "1c533ecd",
   "metadata": {},
   "outputs": [
    {
     "name": "stderr",
     "output_type": "stream",
     "text": [
      "/var/folders/jw/m4xyglrx2lzdcm7rs6z302nm0000gn/T/ipykernel_1643/2675509800.py:3: FutureWarning: The frame.append method is deprecated and will be removed from pandas in a future version. Use pandas.concat instead.\n",
      "  df_append_test = df_1.append(df_3)\n"
     ]
    }
   ],
   "source": [
    "# 'append()' function to append df_2 onto df and check the output:\n",
    "\n",
    "df_append_test = df_1.append(df_3)"
   ]
  },
  {
   "cell_type": "code",
   "execution_count": 43,
   "id": "357bdb89",
   "metadata": {},
   "outputs": [
    {
     "data": {
      "text/html": [
       "<div>\n",
       "<style scoped>\n",
       "    .dataframe tbody tr th:only-of-type {\n",
       "        vertical-align: middle;\n",
       "    }\n",
       "\n",
       "    .dataframe tbody tr th {\n",
       "        vertical-align: top;\n",
       "    }\n",
       "\n",
       "    .dataframe thead th {\n",
       "        text-align: right;\n",
       "    }\n",
       "</style>\n",
       "<table border=\"1\" class=\"dataframe\">\n",
       "  <thead>\n",
       "    <tr style=\"text-align: right;\">\n",
       "      <th></th>\n",
       "      <th>customer_id</th>\n",
       "      <th>month</th>\n",
       "      <th>purchased_meat</th>\n",
       "      <th>purchased_alcohol</th>\n",
       "      <th>purchased_snacks</th>\n",
       "      <th>days_purchased_on</th>\n",
       "    </tr>\n",
       "  </thead>\n",
       "  <tbody>\n",
       "    <tr>\n",
       "      <th>0</th>\n",
       "      <td>6732</td>\n",
       "      <td>Jan-20</td>\n",
       "      <td>0.0</td>\n",
       "      <td>1.0</td>\n",
       "      <td>10.0</td>\n",
       "      <td>NaN</td>\n",
       "    </tr>\n",
       "    <tr>\n",
       "      <th>1</th>\n",
       "      <td>767</td>\n",
       "      <td>Jan-20</td>\n",
       "      <td>13.0</td>\n",
       "      <td>2.0</td>\n",
       "      <td>5.0</td>\n",
       "      <td>NaN</td>\n",
       "    </tr>\n",
       "    <tr>\n",
       "      <th>2</th>\n",
       "      <td>890</td>\n",
       "      <td>Jan-20</td>\n",
       "      <td>3.0</td>\n",
       "      <td>10.0</td>\n",
       "      <td>1.0</td>\n",
       "      <td>NaN</td>\n",
       "    </tr>\n",
       "    <tr>\n",
       "      <th>3</th>\n",
       "      <td>635</td>\n",
       "      <td>Jan-20</td>\n",
       "      <td>4.0</td>\n",
       "      <td>0.0</td>\n",
       "      <td>7.0</td>\n",
       "      <td>NaN</td>\n",
       "    </tr>\n",
       "    <tr>\n",
       "      <th>0</th>\n",
       "      <td>6732</td>\n",
       "      <td>Jan-20</td>\n",
       "      <td>NaN</td>\n",
       "      <td>NaN</td>\n",
       "      <td>NaN</td>\n",
       "      <td>0.0</td>\n",
       "    </tr>\n",
       "    <tr>\n",
       "      <th>1</th>\n",
       "      <td>767</td>\n",
       "      <td>Jan-20</td>\n",
       "      <td>NaN</td>\n",
       "      <td>NaN</td>\n",
       "      <td>NaN</td>\n",
       "      <td>13.0</td>\n",
       "    </tr>\n",
       "    <tr>\n",
       "      <th>2</th>\n",
       "      <td>890</td>\n",
       "      <td>Jan-20</td>\n",
       "      <td>NaN</td>\n",
       "      <td>NaN</td>\n",
       "      <td>NaN</td>\n",
       "      <td>3.0</td>\n",
       "    </tr>\n",
       "    <tr>\n",
       "      <th>3</th>\n",
       "      <td>635</td>\n",
       "      <td>Jan-20</td>\n",
       "      <td>NaN</td>\n",
       "      <td>NaN</td>\n",
       "      <td>NaN</td>\n",
       "      <td>4.0</td>\n",
       "    </tr>\n",
       "  </tbody>\n",
       "</table>\n",
       "</div>"
      ],
      "text/plain": [
       "  customer_id   month  purchased_meat  purchased_alcohol  purchased_snacks  \\\n",
       "0        6732  Jan-20             0.0                1.0              10.0   \n",
       "1         767  Jan-20            13.0                2.0               5.0   \n",
       "2         890  Jan-20             3.0               10.0               1.0   \n",
       "3         635  Jan-20             4.0                0.0               7.0   \n",
       "0        6732  Jan-20             NaN                NaN               NaN   \n",
       "1         767  Jan-20             NaN                NaN               NaN   \n",
       "2         890  Jan-20             NaN                NaN               NaN   \n",
       "3         635  Jan-20             NaN                NaN               NaN   \n",
       "\n",
       "   days_purchased_on  \n",
       "0                NaN  \n",
       "1                NaN  \n",
       "2                NaN  \n",
       "3                NaN  \n",
       "0                0.0  \n",
       "1               13.0  \n",
       "2                3.0  \n",
       "3                4.0  "
      ]
     },
     "execution_count": 43,
     "metadata": {},
     "output_type": "execute_result"
    }
   ],
   "source": [
    "df_append_test"
   ]
  },
  {
   "cell_type": "markdown",
   "id": "3f2081a1",
   "metadata": {},
   "source": [
    "### 02.3 Joining Data"
   ]
  },
  {
   "cell_type": "code",
   "execution_count": 37,
   "id": "3e66d5a2",
   "metadata": {},
   "outputs": [],
   "source": [
    "# The 'df.join()'' function is typically only used in cases where your index column carries some sort of information \n",
    "# (rather than simply displaying the number of rows, as in your Instacart data"
   ]
  },
  {
   "cell_type": "markdown",
   "id": "6980f1b2",
   "metadata": {},
   "source": [
    "### 02.4 Merging Data"
   ]
  },
  {
   "cell_type": "code",
   "execution_count": 38,
   "id": "af8fcdf3",
   "metadata": {},
   "outputs": [],
   "source": [
    "# A good approach for whne the dataframes are different in size.\n",
    "# A key or a common identifier is needed to merge the dataframes (same logic as in Excel or SQL)\n",
    "# There are similar types of joins as in SQL:\n",
    "#   1. Inner join. It only joins data that intersects in between both dataframes (key/commo identifier)\n",
    "#   2. Left Join. Merges all data in left dataframe and takes the data from the right dataframe that maps back to the left dataframe\n",
    "#   3. Right Join. merges all the data in the right dataframe and takes the data from the left dataframe that maps back to the right dataframe\n",
    "#   4. Full Outer Join. It merges all the data from both dataframes, though, the dataframes have to match in size, otherwise a lot of data will be lost in the merged dataframe\n"
   ]
  },
  {
   "cell_type": "code",
   "execution_count": 41,
   "id": "e6b4ffe2",
   "metadata": {},
   "outputs": [],
   "source": [
    "# What if merge 'df_1' and 'df_3' dataframes, and set the on argument to pivot around a common column between the two, “customer_id”?\n",
    "\n",
    "df_merged = df_1.merge(df_3, on = 'customer_id')\n"
   ]
  },
  {
   "cell_type": "code",
   "execution_count": 42,
   "id": "b7f8e7fa",
   "metadata": {},
   "outputs": [
    {
     "data": {
      "text/html": [
       "<div>\n",
       "<style scoped>\n",
       "    .dataframe tbody tr th:only-of-type {\n",
       "        vertical-align: middle;\n",
       "    }\n",
       "\n",
       "    .dataframe tbody tr th {\n",
       "        vertical-align: top;\n",
       "    }\n",
       "\n",
       "    .dataframe thead th {\n",
       "        text-align: right;\n",
       "    }\n",
       "</style>\n",
       "<table border=\"1\" class=\"dataframe\">\n",
       "  <thead>\n",
       "    <tr style=\"text-align: right;\">\n",
       "      <th></th>\n",
       "      <th>customer_id</th>\n",
       "      <th>month_x</th>\n",
       "      <th>purchased_meat</th>\n",
       "      <th>purchased_alcohol</th>\n",
       "      <th>purchased_snacks</th>\n",
       "      <th>month_y</th>\n",
       "      <th>days_purchased_on</th>\n",
       "    </tr>\n",
       "  </thead>\n",
       "  <tbody>\n",
       "    <tr>\n",
       "      <th>0</th>\n",
       "      <td>6732</td>\n",
       "      <td>Jan-20</td>\n",
       "      <td>0</td>\n",
       "      <td>1</td>\n",
       "      <td>10</td>\n",
       "      <td>Jan-20</td>\n",
       "      <td>0</td>\n",
       "    </tr>\n",
       "    <tr>\n",
       "      <th>1</th>\n",
       "      <td>767</td>\n",
       "      <td>Jan-20</td>\n",
       "      <td>13</td>\n",
       "      <td>2</td>\n",
       "      <td>5</td>\n",
       "      <td>Jan-20</td>\n",
       "      <td>13</td>\n",
       "    </tr>\n",
       "    <tr>\n",
       "      <th>2</th>\n",
       "      <td>890</td>\n",
       "      <td>Jan-20</td>\n",
       "      <td>3</td>\n",
       "      <td>10</td>\n",
       "      <td>1</td>\n",
       "      <td>Jan-20</td>\n",
       "      <td>3</td>\n",
       "    </tr>\n",
       "    <tr>\n",
       "      <th>3</th>\n",
       "      <td>635</td>\n",
       "      <td>Jan-20</td>\n",
       "      <td>4</td>\n",
       "      <td>0</td>\n",
       "      <td>7</td>\n",
       "      <td>Jan-20</td>\n",
       "      <td>4</td>\n",
       "    </tr>\n",
       "  </tbody>\n",
       "</table>\n",
       "</div>"
      ],
      "text/plain": [
       "  customer_id month_x  purchased_meat  purchased_alcohol  purchased_snacks  \\\n",
       "0        6732  Jan-20               0                  1                10   \n",
       "1         767  Jan-20              13                  2                 5   \n",
       "2         890  Jan-20               3                 10                 1   \n",
       "3         635  Jan-20               4                  0                 7   \n",
       "\n",
       "  month_y  days_purchased_on  \n",
       "0  Jan-20                  0  \n",
       "1  Jan-20                 13  \n",
       "2  Jan-20                  3  \n",
       "3  Jan-20                  4  "
      ]
     },
     "execution_count": 42,
     "metadata": {},
     "output_type": "execute_result"
    }
   ],
   "source": [
    "# Check 'df_merged' dataframe\n",
    "\n",
    "df_merged"
   ]
  },
  {
   "cell_type": "markdown",
   "id": "53a6e221",
   "metadata": {},
   "source": [
    "##### It takes one dataframe 'df_1' and combines it with another dataframe, which it's included within the parentheses 'df_2'.\n",
    "##### The addition of the on = customer_id column tells pandas that the “customer_id” column is the common column between the two."
   ]
  },
  {
   "cell_type": "code",
   "execution_count": 45,
   "id": "69c6539c",
   "metadata": {},
   "outputs": [],
   "source": [
    "# There are two months columns because the 'month_x' and 'month_y' columns weren't specified as keys\n",
    "\n",
    "df_merged = df_1.merge(df_3, on = ['customer_id', 'month'])"
   ]
  },
  {
   "cell_type": "code",
   "execution_count": 46,
   "id": "3442a76d",
   "metadata": {},
   "outputs": [
    {
     "data": {
      "text/html": [
       "<div>\n",
       "<style scoped>\n",
       "    .dataframe tbody tr th:only-of-type {\n",
       "        vertical-align: middle;\n",
       "    }\n",
       "\n",
       "    .dataframe tbody tr th {\n",
       "        vertical-align: top;\n",
       "    }\n",
       "\n",
       "    .dataframe thead th {\n",
       "        text-align: right;\n",
       "    }\n",
       "</style>\n",
       "<table border=\"1\" class=\"dataframe\">\n",
       "  <thead>\n",
       "    <tr style=\"text-align: right;\">\n",
       "      <th></th>\n",
       "      <th>customer_id</th>\n",
       "      <th>month</th>\n",
       "      <th>purchased_meat</th>\n",
       "      <th>purchased_alcohol</th>\n",
       "      <th>purchased_snacks</th>\n",
       "      <th>days_purchased_on</th>\n",
       "    </tr>\n",
       "  </thead>\n",
       "  <tbody>\n",
       "    <tr>\n",
       "      <th>0</th>\n",
       "      <td>6732</td>\n",
       "      <td>Jan-20</td>\n",
       "      <td>0</td>\n",
       "      <td>1</td>\n",
       "      <td>10</td>\n",
       "      <td>0</td>\n",
       "    </tr>\n",
       "    <tr>\n",
       "      <th>1</th>\n",
       "      <td>767</td>\n",
       "      <td>Jan-20</td>\n",
       "      <td>13</td>\n",
       "      <td>2</td>\n",
       "      <td>5</td>\n",
       "      <td>13</td>\n",
       "    </tr>\n",
       "    <tr>\n",
       "      <th>2</th>\n",
       "      <td>890</td>\n",
       "      <td>Jan-20</td>\n",
       "      <td>3</td>\n",
       "      <td>10</td>\n",
       "      <td>1</td>\n",
       "      <td>3</td>\n",
       "    </tr>\n",
       "    <tr>\n",
       "      <th>3</th>\n",
       "      <td>635</td>\n",
       "      <td>Jan-20</td>\n",
       "      <td>4</td>\n",
       "      <td>0</td>\n",
       "      <td>7</td>\n",
       "      <td>4</td>\n",
       "    </tr>\n",
       "  </tbody>\n",
       "</table>\n",
       "</div>"
      ],
      "text/plain": [
       "  customer_id   month  purchased_meat  purchased_alcohol  purchased_snacks  \\\n",
       "0        6732  Jan-20               0                  1                10   \n",
       "1         767  Jan-20              13                  2                 5   \n",
       "2         890  Jan-20               3                 10                 1   \n",
       "3         635  Jan-20               4                  0                 7   \n",
       "\n",
       "   days_purchased_on  \n",
       "0                  0  \n",
       "1                 13  \n",
       "2                  3  \n",
       "3                  4  "
      ]
     },
     "execution_count": 46,
     "metadata": {},
     "output_type": "execute_result"
    }
   ],
   "source": [
    "df_merged"
   ]
  },
  {
   "cell_type": "code",
   "execution_count": 49,
   "id": "5105fd11",
   "metadata": {},
   "outputs": [],
   "source": [
    "# What happens when there are keys that are not contained on both of the dataframes that are being merged?\n",
    "# An indicator column can be added to the merged dataframe to indicate  with 'both', 'left_only' or 'right_only' where the key is contained\n",
    "\n",
    "df_merged = df_1.merge(df_3, on = ['customer_id', 'month'], indicator = True)"
   ]
  },
  {
   "cell_type": "code",
   "execution_count": 50,
   "id": "630327ed",
   "metadata": {},
   "outputs": [
    {
     "data": {
      "text/html": [
       "<div>\n",
       "<style scoped>\n",
       "    .dataframe tbody tr th:only-of-type {\n",
       "        vertical-align: middle;\n",
       "    }\n",
       "\n",
       "    .dataframe tbody tr th {\n",
       "        vertical-align: top;\n",
       "    }\n",
       "\n",
       "    .dataframe thead th {\n",
       "        text-align: right;\n",
       "    }\n",
       "</style>\n",
       "<table border=\"1\" class=\"dataframe\">\n",
       "  <thead>\n",
       "    <tr style=\"text-align: right;\">\n",
       "      <th></th>\n",
       "      <th>customer_id</th>\n",
       "      <th>month</th>\n",
       "      <th>purchased_meat</th>\n",
       "      <th>purchased_alcohol</th>\n",
       "      <th>purchased_snacks</th>\n",
       "      <th>days_purchased_on</th>\n",
       "      <th>_merge</th>\n",
       "    </tr>\n",
       "  </thead>\n",
       "  <tbody>\n",
       "    <tr>\n",
       "      <th>0</th>\n",
       "      <td>6732</td>\n",
       "      <td>Jan-20</td>\n",
       "      <td>0</td>\n",
       "      <td>1</td>\n",
       "      <td>10</td>\n",
       "      <td>0</td>\n",
       "      <td>both</td>\n",
       "    </tr>\n",
       "    <tr>\n",
       "      <th>1</th>\n",
       "      <td>767</td>\n",
       "      <td>Jan-20</td>\n",
       "      <td>13</td>\n",
       "      <td>2</td>\n",
       "      <td>5</td>\n",
       "      <td>13</td>\n",
       "      <td>both</td>\n",
       "    </tr>\n",
       "    <tr>\n",
       "      <th>2</th>\n",
       "      <td>890</td>\n",
       "      <td>Jan-20</td>\n",
       "      <td>3</td>\n",
       "      <td>10</td>\n",
       "      <td>1</td>\n",
       "      <td>3</td>\n",
       "      <td>both</td>\n",
       "    </tr>\n",
       "    <tr>\n",
       "      <th>3</th>\n",
       "      <td>635</td>\n",
       "      <td>Jan-20</td>\n",
       "      <td>4</td>\n",
       "      <td>0</td>\n",
       "      <td>7</td>\n",
       "      <td>4</td>\n",
       "      <td>both</td>\n",
       "    </tr>\n",
       "  </tbody>\n",
       "</table>\n",
       "</div>"
      ],
      "text/plain": [
       "  customer_id   month  purchased_meat  purchased_alcohol  purchased_snacks  \\\n",
       "0        6732  Jan-20               0                  1                10   \n",
       "1         767  Jan-20              13                  2                 5   \n",
       "2         890  Jan-20               3                 10                 1   \n",
       "3         635  Jan-20               4                  0                 7   \n",
       "\n",
       "   days_purchased_on _merge  \n",
       "0                  0   both  \n",
       "1                 13   both  \n",
       "2                  3   both  \n",
       "3                  4   both  "
      ]
     },
     "execution_count": 50,
     "metadata": {},
     "output_type": "execute_result"
    }
   ],
   "source": [
    "df_merged"
   ]
  },
  {
   "cell_type": "code",
   "execution_count": 52,
   "id": "173f11ef",
   "metadata": {},
   "outputs": [
    {
     "data": {
      "text/plain": [
       "both          4\n",
       "left_only     0\n",
       "right_only    0\n",
       "Name: _merge, dtype: int64"
      ]
     },
     "execution_count": 52,
     "metadata": {},
     "output_type": "execute_result"
    }
   ],
   "source": [
    "# What's the frequency or number of values that are in both dataframes or only in the right or left dataframes?\n",
    "# run a frequency on '_merge'\n",
    "df_merged['_merge'].value_counts()"
   ]
  },
  {
   "cell_type": "code",
   "execution_count": 54,
   "id": "579a8d5e",
   "metadata": {},
   "outputs": [
    {
     "data": {
      "text/html": [
       "<div>\n",
       "<style scoped>\n",
       "    .dataframe tbody tr th:only-of-type {\n",
       "        vertical-align: middle;\n",
       "    }\n",
       "\n",
       "    .dataframe tbody tr th {\n",
       "        vertical-align: top;\n",
       "    }\n",
       "\n",
       "    .dataframe thead th {\n",
       "        text-align: right;\n",
       "    }\n",
       "</style>\n",
       "<table border=\"1\" class=\"dataframe\">\n",
       "  <thead>\n",
       "    <tr style=\"text-align: right;\">\n",
       "      <th></th>\n",
       "      <th>customer_id</th>\n",
       "      <th>month</th>\n",
       "      <th>purchased_meat</th>\n",
       "      <th>purchased_alcohol</th>\n",
       "      <th>purchased_snacks</th>\n",
       "      <th>days_purchased_on</th>\n",
       "      <th>_merge</th>\n",
       "    </tr>\n",
       "  </thead>\n",
       "  <tbody>\n",
       "    <tr>\n",
       "      <th>0</th>\n",
       "      <td>6732</td>\n",
       "      <td>Jan-20</td>\n",
       "      <td>0</td>\n",
       "      <td>1</td>\n",
       "      <td>10</td>\n",
       "      <td>0</td>\n",
       "      <td>both</td>\n",
       "    </tr>\n",
       "    <tr>\n",
       "      <th>1</th>\n",
       "      <td>767</td>\n",
       "      <td>Jan-20</td>\n",
       "      <td>13</td>\n",
       "      <td>2</td>\n",
       "      <td>5</td>\n",
       "      <td>13</td>\n",
       "      <td>both</td>\n",
       "    </tr>\n",
       "    <tr>\n",
       "      <th>2</th>\n",
       "      <td>890</td>\n",
       "      <td>Jan-20</td>\n",
       "      <td>3</td>\n",
       "      <td>10</td>\n",
       "      <td>1</td>\n",
       "      <td>3</td>\n",
       "      <td>both</td>\n",
       "    </tr>\n",
       "    <tr>\n",
       "      <th>3</th>\n",
       "      <td>635</td>\n",
       "      <td>Jan-20</td>\n",
       "      <td>4</td>\n",
       "      <td>0</td>\n",
       "      <td>7</td>\n",
       "      <td>4</td>\n",
       "      <td>both</td>\n",
       "    </tr>\n",
       "  </tbody>\n",
       "</table>\n",
       "</div>"
      ],
      "text/plain": [
       "  customer_id   month  purchased_meat  purchased_alcohol  purchased_snacks  \\\n",
       "0        6732  Jan-20               0                  1                10   \n",
       "1         767  Jan-20              13                  2                 5   \n",
       "2         890  Jan-20               3                 10                 1   \n",
       "3         635  Jan-20               4                  0                 7   \n",
       "\n",
       "   days_purchased_on _merge  \n",
       "0                  0   both  \n",
       "1                 13   both  \n",
       "2                  3   both  \n",
       "3                  4   both  "
      ]
     },
     "execution_count": 54,
     "metadata": {},
     "output_type": "execute_result"
    }
   ],
   "source": [
    "# Test merge without overwriting, if I just want to test the new_dataframe instead of overwriting it\n",
    "\n",
    "pd.merge(df_1,df_3, on = ['customer_id', 'month'], indicator = True)\n",
    "\n",
    "# Here, the merge is simply being tested and the results displayed without actually creating the new dataframe. "
   ]
  },
  {
   "cell_type": "code",
   "execution_count": null,
   "id": "3786431e",
   "metadata": {},
   "outputs": [],
   "source": [
    "# Be aware of when using the df.merge() function: the how argument\n",
    "# Specifies how to merge the dataframes, and it can take the values 'left', 'right', 'inner (default)'', or 'outer'"
   ]
  },
  {
   "cell_type": "markdown",
   "id": "1fb50f86",
   "metadata": {},
   "source": [
    "# 03. Merging Instacart Data"
   ]
  },
  {
   "cell_type": "code",
   "execution_count": 55,
   "id": "6a89bd81",
   "metadata": {},
   "outputs": [],
   "source": [
    "# The script was written in another notebook called:\n",
    "# '4.6 Combining & Exporting Data (Lesson-Merging df_ords & df_prods)'"
   ]
  },
  {
   "cell_type": "markdown",
   "id": "8fa8f466",
   "metadata": {},
   "source": [
    "# The main questions you’ll want to ask yourself before choosing a combination method include:\n",
    "\n",
    "### - How many rows and columns do the dataframes you want to combine contain? Do they have the same number of columns?\n",
    "### - Do the dataframes contain information on the same subject? Do they share a common column or columns?\n",
    "### - Should your combined dataframe be long format or wide format?\n",
    "### - Do you expect a full match after combining the dataframes?\n",
    "### - If not, what type of join should you use? Which part of the data should you keep in the final dataframe?"
   ]
  },
  {
   "cell_type": "code",
   "execution_count": null,
   "id": "836fc17b",
   "metadata": {},
   "outputs": [],
   "source": []
  }
 ],
 "metadata": {
  "kernelspec": {
   "display_name": "Python 3 (ipykernel)",
   "language": "python",
   "name": "python3"
  },
  "language_info": {
   "codemirror_mode": {
    "name": "ipython",
    "version": 3
   },
   "file_extension": ".py",
   "mimetype": "text/x-python",
   "name": "python",
   "nbconvert_exporter": "python",
   "pygments_lexer": "ipython3",
   "version": "3.9.12"
  }
 },
 "nbformat": 4,
 "nbformat_minor": 5
}
