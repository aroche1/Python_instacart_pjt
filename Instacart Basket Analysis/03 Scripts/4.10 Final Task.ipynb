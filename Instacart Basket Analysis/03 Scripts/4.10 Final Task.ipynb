{
 "cells": [
  {
   "cell_type": "markdown",
   "id": "c1310244",
   "metadata": {},
   "source": [
    "# Table of Contents"
   ]
  },
  {
   "cell_type": "markdown",
   "id": "10f0c046",
   "metadata": {},
   "source": [
    "### Import libraries\n",
    "### Import dataframes\n",
    "### Addressing PII data\n",
    "### Separating low-revenue-customers\n",
    "### Customer Profiling\n",
    "### Customer profiles visualization\n",
    "### Customer profiles aggregations\n",
    "### Customers profiles by regions and departments\n",
    "\n",
    "\n",
    "\n",
    "\n",
    "\n",
    "\n"
   ]
  },
  {
   "cell_type": "markdown",
   "id": "65700e8d",
   "metadata": {},
   "source": [
    "# Importing Libraries"
   ]
  },
  {
   "cell_type": "code",
   "execution_count": 3,
   "id": "de5821c1",
   "metadata": {},
   "outputs": [],
   "source": [
    "import pandas as pd\n",
    "import numpy as np\n",
    "import os\n",
    "import matplotlib.pyplot as plt\n",
    "import seaborn as sns\n",
    "import scipy"
   ]
  },
  {
   "cell_type": "markdown",
   "id": "54684e14",
   "metadata": {},
   "source": [
    "# Importing Dataframe"
   ]
  },
  {
   "cell_type": "code",
   "execution_count": 4,
   "id": "ffb4fcd3",
   "metadata": {},
   "outputs": [],
   "source": [
    "# Creating path\n",
    "\n",
    "path = r'/Users/david/Desktop/CF/Data Immersion/Achievement 4 - Python Fundamentals for Data Analysts/07-2022 Instacart Basket Analysis'"
   ]
  },
  {
   "cell_type": "code",
   "execution_count": 5,
   "id": "b3f6a8fb",
   "metadata": {},
   "outputs": [
    {
     "data": {
      "text/plain": [
       "'/Users/david/Desktop/CF/Data Immersion/Achievement 4 - Python Fundamentals for Data Analysts/07-2022 Instacart Basket Analysis'"
      ]
     },
     "execution_count": 5,
     "metadata": {},
     "output_type": "execute_result"
    }
   ],
   "source": [
    "# Check 'path'\n",
    "\n",
    "path"
   ]
  },
  {
   "cell_type": "code",
   "execution_count": 6,
   "id": "c993c7e6",
   "metadata": {},
   "outputs": [],
   "source": [
    "# Importing 'ords_prods_cust_27_07.pkl' data set as 'ords_prods_cust' dataframe\n",
    "\n",
    "ords_prods_cust = pd.read_pickle(os.path.join(path, '02 Data', 'Prepared Data', '27_07_22', 'ords_prods_cust_27_07.pkl'))"
   ]
  },
  {
   "cell_type": "markdown",
   "id": "161da743",
   "metadata": {},
   "source": [
    "# 2.- Consider any security implications that might exist for this data. Address any PII data in dataframe "
   ]
  },
  {
   "cell_type": "code",
   "execution_count": 10,
   "id": "1f54f405",
   "metadata": {},
   "outputs": [],
   "source": [
    "# Addressing PII columns: 'first_name', and 'surname'-- the 'state' column will be left as is, as it'll be needed forward in the exercise.\n",
    "\n",
    "ords_prods_cust_2 = ords_prods_cust.drop(columns = ['first_name', 'surname'])"
   ]
  },
  {
   "cell_type": "code",
   "execution_count": 8,
   "id": "3e3b8e81",
   "metadata": {},
   "outputs": [
    {
     "data": {
      "text/plain": [
       "Index(['order_id', 'user_id', 'order_number', 'order_day_of_week',\n",
       "       'order_hour_of_day', 'days_since_prior_order', 'product_id',\n",
       "       'add_to_cart_order', 'reordered', 'product_name', 'aisle_id',\n",
       "       'department_id', 'prices', '_merge', 'price_range_loc', 'busiest_day',\n",
       "       'busiest_days', 'busiest_period_of_day', 'max_order', 'loyalty_flag',\n",
       "       'average_expenditure', 'expenditure_flag', 'purchase_frequency',\n",
       "       'frequency_flag', 'Frequency_flag', 'gender', 'state', 'age',\n",
       "       'date_joined', 'dependants_num', 'marital_status', 'income'],\n",
       "      dtype='object')"
      ]
     },
     "execution_count": 8,
     "metadata": {},
     "output_type": "execute_result"
    }
   ],
   "source": [
    "# Checking columns \n",
    "\n",
    "ords_prods_cust_2.columns"
   ]
  },
  {
   "cell_type": "markdown",
   "id": "26cd8f45",
   "metadata": {},
   "source": [
    "#### Creating region labels from 'Region 1' to 'Region 4'"
   ]
  },
  {
   "cell_type": "code",
   "execution_count": 11,
   "id": "de675910",
   "metadata": {},
   "outputs": [],
   "source": [
    "ords_prods_cust_2.loc[ords_prods_cust_2['state'].isin(['Maine', 'New Hampshire', 'Vermont', 'Massachusetts', 'Rhode Island', 'Connecticut', 'New York', 'Pennsylvania', 'New Jersey']), 'region'] = 'Region 1'"
   ]
  },
  {
   "cell_type": "code",
   "execution_count": 12,
   "id": "6f9056d5",
   "metadata": {},
   "outputs": [],
   "source": [
    "ords_prods_cust_2.loc[ords_prods_cust_2['state'].isin(['Wisconsin', 'Michigan', 'Illinois', 'Indiana', 'Ohio', 'North Dakota', 'South Dakota', 'Nebraska', 'Kansas', 'Minnesota', 'Iowa', 'Missouri']), 'region'] = 'Region 2'"
   ]
  },
  {
   "cell_type": "code",
   "execution_count": 13,
   "id": "2fe381d8",
   "metadata": {},
   "outputs": [],
   "source": [
    "ords_prods_cust_2.loc[ords_prods_cust_2['state'].isin(['Delaware', 'Maryland', 'District of Columbia', 'Virginia', 'West Virginia', 'North Carolina', 'South Carolina', 'Georgia', 'Florida', 'Kentucky', 'Tennessee', 'Mississippi', 'Alabama', 'Oklahoma', 'Texas', 'Arkansas', 'Louisiana']), 'region'] = 'Region 3'"
   ]
  },
  {
   "cell_type": "code",
   "execution_count": 14,
   "id": "19e29d99",
   "metadata": {},
   "outputs": [],
   "source": [
    "ords_prods_cust_2.loc[ords_prods_cust_2['state'].isin(['Idaho', 'Montana', 'Wyoming', 'Nevada', 'Utah', 'Colorado', 'Arizona', 'New Mexico', 'Alaska', 'Washington', 'Oregon', 'California', 'Hawaii']), 'region'] = 'Region 4'"
   ]
  },
  {
   "cell_type": "code",
   "execution_count": 15,
   "id": "6eed8b9e",
   "metadata": {},
   "outputs": [
    {
     "data": {
      "text/plain": [
       "Region 3    10791885\n",
       "Region 4     8292913\n",
       "Region 2     7597325\n",
       "Region 1     5722736\n",
       "Name: region, dtype: int64"
      ]
     },
     "execution_count": 15,
     "metadata": {},
     "output_type": "execute_result"
    }
   ],
   "source": [
    "ords_prods_cust_2['region'].value_counts()"
   ]
  },
  {
   "cell_type": "code",
   "execution_count": 16,
   "id": "9add0582",
   "metadata": {},
   "outputs": [],
   "source": [
    "# Determine whether there's a difference in the spending habits between different U.S. regions\n",
    "\n",
    "crosstab_expnd_rgn = pd.crosstab(ords_prods_cust_2['region'], ords_prods_cust_2['expenditure_flag'], dropna = False)"
   ]
  },
  {
   "cell_type": "code",
   "execution_count": 17,
   "id": "287f8cdb",
   "metadata": {},
   "outputs": [
    {
     "data": {
      "text/html": [
       "<div>\n",
       "<style scoped>\n",
       "    .dataframe tbody tr th:only-of-type {\n",
       "        vertical-align: middle;\n",
       "    }\n",
       "\n",
       "    .dataframe tbody tr th {\n",
       "        vertical-align: top;\n",
       "    }\n",
       "\n",
       "    .dataframe thead th {\n",
       "        text-align: right;\n",
       "    }\n",
       "</style>\n",
       "<table border=\"1\" class=\"dataframe\">\n",
       "  <thead>\n",
       "    <tr style=\"text-align: right;\">\n",
       "      <th>expenditure_flag</th>\n",
       "      <th>High Spender</th>\n",
       "      <th>Low Spender</th>\n",
       "    </tr>\n",
       "    <tr>\n",
       "      <th>region</th>\n",
       "      <th></th>\n",
       "      <th></th>\n",
       "    </tr>\n",
       "  </thead>\n",
       "  <tbody>\n",
       "    <tr>\n",
       "      <th>Region 1</th>\n",
       "      <td>108225</td>\n",
       "      <td>5614511</td>\n",
       "    </tr>\n",
       "    <tr>\n",
       "      <th>Region 2</th>\n",
       "      <td>155975</td>\n",
       "      <td>7441350</td>\n",
       "    </tr>\n",
       "    <tr>\n",
       "      <th>Region 3</th>\n",
       "      <td>209691</td>\n",
       "      <td>10582194</td>\n",
       "    </tr>\n",
       "    <tr>\n",
       "      <th>Region 4</th>\n",
       "      <td>160354</td>\n",
       "      <td>8132559</td>\n",
       "    </tr>\n",
       "  </tbody>\n",
       "</table>\n",
       "</div>"
      ],
      "text/plain": [
       "expenditure_flag  High Spender  Low Spender\n",
       "region                                     \n",
       "Region 1                108225      5614511\n",
       "Region 2                155975      7441350\n",
       "Region 3                209691     10582194\n",
       "Region 4                160354      8132559"
      ]
     },
     "execution_count": 17,
     "metadata": {},
     "output_type": "execute_result"
    }
   ],
   "source": [
    "# Printing 'crosstab_expnd_rgn'\n",
    "\n",
    "crosstab_expnd_rgn"
   ]
  },
  {
   "cell_type": "code",
   "execution_count": 197,
   "id": "ccbac494",
   "metadata": {},
   "outputs": [
    {
     "data": {
      "image/png": "[encoded data removed]",
      "text/plain": [
       "<Figure size 432x288 with 1 Axes>"
      ]
     },
     "metadata": {
      "needs_background": "light"
     },
     "output_type": "display_data"
    }
   ],
   "source": [
    "\n",
    "\n",
    "bar_expnd_rgn = crosstab_expnd_rgn.plot.bar()"
   ]
  },
  {
   "cell_type": "markdown",
   "id": "1e9f69fc",
   "metadata": {},
   "source": [
    "# 4.- The Instacart CFO isn’t interested in customers who don’t generate much revenue for the app. Create an exclusion flag for low-activity customers (customers with less than 5 orders) and exclude them from the data. Export this sample."
   ]
  },
  {
   "cell_type": "code",
   "execution_count": 18,
   "id": "25451089",
   "metadata": {},
   "outputs": [],
   "source": [
    "# Creating 'Low acivity' flag\n",
    "\n",
    "ords_prods_cust_2.loc[ords_prods_cust_2['max_order'] < 5, 'activity_flag'] = 'Low activity' "
   ]
  },
  {
   "cell_type": "code",
   "execution_count": 19,
   "id": "aefdea87",
   "metadata": {},
   "outputs": [],
   "source": [
    "# Creating 'Regular activity' flag\n",
    "\n",
    "ords_prods_cust_2.loc[ords_prods_cust_2['max_order'] >= 5, 'activity_flag'] = 'Regular activity'"
   ]
  },
  {
   "cell_type": "code",
   "execution_count": 20,
   "id": "43b256e5",
   "metadata": {},
   "outputs": [
    {
     "data": {
      "text/plain": [
       "Regular activity    30964564\n",
       "Low activity         1440295\n",
       "Name: activity_flag, dtype: int64"
      ]
     },
     "execution_count": 20,
     "metadata": {},
     "output_type": "execute_result"
    }
   ],
   "source": [
    "# Check 'activity_flag'\n",
    "\n",
    "ords_prods_cust_2['activity_flag'].value_counts(dropna = False)"
   ]
  },
  {
   "cell_type": "code",
   "execution_count": 21,
   "id": "5bbabb07",
   "metadata": {},
   "outputs": [],
   "source": [
    "# Sparating (sample) subsets as \n",
    "\n",
    "#'Low activity'\n",
    "\n",
    "low_activity_cust = ords_prods_cust_2[ords_prods_cust_2['activity_flag']=='Low activity']"
   ]
  },
  {
   "cell_type": "code",
   "execution_count": 22,
   "id": "1051de07",
   "metadata": {},
   "outputs": [],
   "source": [
    "# 'Regular activity'\n",
    "\n",
    "regular_activity_cust = ords_prods_cust_2[ords_prods_cust_2['activity_flag']=='Regular activity']"
   ]
  },
  {
   "cell_type": "code",
   "execution_count": 23,
   "id": "9af01c09",
   "metadata": {},
   "outputs": [
    {
     "data": {
      "text/plain": [
       "(30964564, 34)"
      ]
     },
     "execution_count": 23,
     "metadata": {},
     "output_type": "execute_result"
    }
   ],
   "source": [
    "regular_activity_cust.shape"
   ]
  },
  {
   "cell_type": "code",
   "execution_count": 24,
   "id": "4d25cdbb",
   "metadata": {},
   "outputs": [
    {
     "data": {
      "text/html": [
       "<div>\n",
       "<style scoped>\n",
       "    .dataframe tbody tr th:only-of-type {\n",
       "        vertical-align: middle;\n",
       "    }\n",
       "\n",
       "    .dataframe tbody tr th {\n",
       "        vertical-align: top;\n",
       "    }\n",
       "\n",
       "    .dataframe thead th {\n",
       "        text-align: right;\n",
       "    }\n",
       "</style>\n",
       "<table border=\"1\" class=\"dataframe\">\n",
       "  <thead>\n",
       "    <tr style=\"text-align: right;\">\n",
       "      <th></th>\n",
       "      <th>order_id</th>\n",
       "      <th>user_id</th>\n",
       "      <th>order_number</th>\n",
       "      <th>order_day_of_week</th>\n",
       "      <th>order_hour_of_day</th>\n",
       "      <th>days_since_prior_order</th>\n",
       "      <th>product_id</th>\n",
       "      <th>add_to_cart_order</th>\n",
       "      <th>reordered</th>\n",
       "      <th>product_name</th>\n",
       "      <th>...</th>\n",
       "      <th>Frequency_flag</th>\n",
       "      <th>gender</th>\n",
       "      <th>state</th>\n",
       "      <th>age</th>\n",
       "      <th>date_joined</th>\n",
       "      <th>dependants_num</th>\n",
       "      <th>marital_status</th>\n",
       "      <th>income</th>\n",
       "      <th>region</th>\n",
       "      <th>activity_flag</th>\n",
       "    </tr>\n",
       "  </thead>\n",
       "  <tbody>\n",
       "    <tr>\n",
       "      <th>0</th>\n",
       "      <td>2539329</td>\n",
       "      <td>1</td>\n",
       "      <td>1</td>\n",
       "      <td>2</td>\n",
       "      <td>8</td>\n",
       "      <td>11.11484</td>\n",
       "      <td>196</td>\n",
       "      <td>1</td>\n",
       "      <td>0</td>\n",
       "      <td>Soda</td>\n",
       "      <td>...</td>\n",
       "      <td>NaN</td>\n",
       "      <td>Female</td>\n",
       "      <td>Alabama</td>\n",
       "      <td>31</td>\n",
       "      <td>2/17/2019</td>\n",
       "      <td>3</td>\n",
       "      <td>married</td>\n",
       "      <td>40423</td>\n",
       "      <td>Region 3</td>\n",
       "      <td>Regular activity</td>\n",
       "    </tr>\n",
       "    <tr>\n",
       "      <th>1</th>\n",
       "      <td>2398795</td>\n",
       "      <td>1</td>\n",
       "      <td>2</td>\n",
       "      <td>3</td>\n",
       "      <td>7</td>\n",
       "      <td>15.00000</td>\n",
       "      <td>196</td>\n",
       "      <td>1</td>\n",
       "      <td>1</td>\n",
       "      <td>Soda</td>\n",
       "      <td>...</td>\n",
       "      <td>NaN</td>\n",
       "      <td>Female</td>\n",
       "      <td>Alabama</td>\n",
       "      <td>31</td>\n",
       "      <td>2/17/2019</td>\n",
       "      <td>3</td>\n",
       "      <td>married</td>\n",
       "      <td>40423</td>\n",
       "      <td>Region 3</td>\n",
       "      <td>Regular activity</td>\n",
       "    </tr>\n",
       "  </tbody>\n",
       "</table>\n",
       "<p>2 rows × 34 columns</p>\n",
       "</div>"
      ],
      "text/plain": [
       "   order_id  user_id  order_number  order_day_of_week  order_hour_of_day  \\\n",
       "0   2539329        1             1                  2                  8   \n",
       "1   2398795        1             2                  3                  7   \n",
       "\n",
       "   days_since_prior_order  product_id  add_to_cart_order  reordered  \\\n",
       "0                11.11484         196                  1          0   \n",
       "1                15.00000         196                  1          1   \n",
       "\n",
       "  product_name  ...  Frequency_flag  gender    state age date_joined  \\\n",
       "0         Soda  ...             NaN  Female  Alabama  31   2/17/2019   \n",
       "1         Soda  ...             NaN  Female  Alabama  31   2/17/2019   \n",
       "\n",
       "  dependants_num marital_status income    region     activity_flag  \n",
       "0              3        married  40423  Region 3  Regular activity  \n",
       "1              3        married  40423  Region 3  Regular activity  \n",
       "\n",
       "[2 rows x 34 columns]"
      ]
     },
     "execution_count": 24,
     "metadata": {},
     "output_type": "execute_result"
    }
   ],
   "source": [
    "regular_activity_cust.head(2)"
   ]
  },
  {
   "cell_type": "code",
   "execution_count": 25,
   "id": "d8c0b3f2",
   "metadata": {},
   "outputs": [],
   "source": [
    "# Exporting 'regular_activity_cust'\n",
    "\n",
    "regular_activity_cust.to_pickle(os.path.join(path, '02 Data', 'Prepared Data', '02_08_22', 'regular_activity_cust_03_08.pkl'))"
   ]
  },
  {
   "cell_type": "markdown",
   "id": "bece938d",
   "metadata": {},
   "source": [
    "# 5.-  Make customer profiling to create marketing strategies for different products. Create profiling variable based on age, income, goods in the 'department_id' variable , and number of dependants; consider labeling these profiles as 'single-adult' and 'young_parent'--also consider the 'orders_day_of_week' and 'orders_hour_of _day' variables."
   ]
  },
  {
   "cell_type": "markdown",
   "id": "433e2d32",
   "metadata": {},
   "source": [
    "#### Age profile"
   ]
  },
  {
   "cell_type": "code",
   "execution_count": 97,
   "id": "f82ae49a",
   "metadata": {},
   "outputs": [],
   "source": [
    "regular_activity_cust.loc[(regular_activity_cust['age'] <= 29), 'age_profile'] = 'Young adult'"
   ]
  },
  {
   "cell_type": "code",
   "execution_count": 98,
   "id": "f54301c5",
   "metadata": {},
   "outputs": [],
   "source": [
    "regular_activity_cust.loc[(regular_activity_cust['age'] >= 30) & (regular_activity_cust['age'] <= 60), 'age_profile'] = 'Middle-age adult'"
   ]
  },
  {
   "cell_type": "code",
   "execution_count": 99,
   "id": "45c312c8",
   "metadata": {},
   "outputs": [],
   "source": [
    "regular_activity_cust.loc[(regular_activity_cust['age'] >= 61), 'age_profile'] = 'Mature adult'"
   ]
  },
  {
   "cell_type": "markdown",
   "id": "88ccc23a",
   "metadata": {},
   "source": [
    "#### At the beginning, the following code was being used, but an error suggesting using .loc to avoid confusions in the system made me change the code below for the one above.\n",
    "\n",
    "###### Creating age profile through if-statements w/ for loop\n",
    "\n",
    "###### age_profile=[]\n",
    "\n",
    "###### for value in regular_activity_cust['age']:\n",
    "######    if value <= 29:\n",
    "######        age_profile.append('Young adult')\n",
    "######    elif (value >= 30) and (value <= 60):\n",
    "######        age_profile.append('Middle-age adult')\n",
    "######    elif value >= 61:\n",
    "######        age_profile.append ('Mature adult')\n",
    "######    else: \n",
    "######        age_profile.append('Not enough data')"
   ]
  },
  {
   "cell_type": "markdown",
   "id": "2a011885",
   "metadata": {},
   "source": [
    "###### (regular_activity_cust['age_profile']) = age_profile"
   ]
  },
  {
   "cell_type": "code",
   "execution_count": 100,
   "id": "bb413d52",
   "metadata": {},
   "outputs": [
    {
     "data": {
      "text/plain": [
       "Middle-age adult    15034354\n",
       "Mature adult        10112607\n",
       "Young adult          5817603\n",
       "Name: age_profile, dtype: int64"
      ]
     },
     "execution_count": 100,
     "metadata": {},
     "output_type": "execute_result"
    }
   ],
   "source": [
    "regular_activity_cust['age_profile'].value_counts()"
   ]
  },
  {
   "cell_type": "markdown",
   "id": "689b1d57",
   "metadata": {},
   "source": [
    "#### Income profile"
   ]
  },
  {
   "cell_type": "markdown",
   "id": "2b5c6a6b",
   "metadata": {},
   "source": [
    "\n",
    "##### The icnome parameters are typically  defined as follows:\n",
    "###### Lower class............................< 32,048.00\n",
    "###### Lower-middle class................32,049 - 53,243\n",
    "###### Middle class............................53,244 - 106,827\n",
    "###### Upper-middle class.................106,828 - 236,000\n",
    "###### Upper class..............................>236,000\n",
    "\n",
    "\n",
    "##### For time and simplification purposes, the 'Lower-middle class' will be part of the 'Lower class, and the 'Upper-middle class' will be part of the 'Upper class'"
   ]
  },
  {
   "cell_type": "code",
   "execution_count": 131,
   "id": "d6507d14",
   "metadata": {},
   "outputs": [],
   "source": [
    "regular_activity_cust.loc[(regular_activity_cust['income'] <= 53243), 'income_profile'] = 'Low income'"
   ]
  },
  {
   "cell_type": "code",
   "execution_count": 132,
   "id": "15120c7a",
   "metadata": {},
   "outputs": [],
   "source": [
    "regular_activity_cust.loc[(regular_activity_cust['income'] >= 53244) & (regular_activity_cust['income'] <= 106827), 'income_profile'] = 'Middle income'"
   ]
  },
  {
   "cell_type": "code",
   "execution_count": 134,
   "id": "81dcdcca",
   "metadata": {},
   "outputs": [],
   "source": [
    "regular_activity_cust.loc[(regular_activity_cust['income'] >= 106828), 'income_profile'] = 'High income'"
   ]
  },
  {
   "cell_type": "code",
   "execution_count": 150,
   "id": "8f15aa4d",
   "metadata": {},
   "outputs": [
    {
     "data": {
      "text/plain": [
       "Middle income    14648940\n",
       "High income      12342053\n",
       "Low income        3973571\n",
       "Name: income_profile, dtype: int64"
      ]
     },
     "execution_count": 150,
     "metadata": {},
     "output_type": "execute_result"
    }
   ],
   "source": [
    "regular_activity_cust['income_profile'].value_counts()"
   ]
  },
  {
   "cell_type": "markdown",
   "id": "4320d2b3",
   "metadata": {},
   "source": [
    "#### Goods \n",
    "\n",
    "\n",
    "###### Grouping number of prodcuts by 'department_id'/'department' (name)"
   ]
  },
  {
   "cell_type": "code",
   "execution_count": 136,
   "id": "d6008dde",
   "metadata": {},
   "outputs": [],
   "source": [
    "# Importing 'departments_wrangled.csv'\n",
    "\n",
    "depts = pd.read_csv(os.path.join(path, '02 Data', 'Prepared Data', '19_07_22', 'departments_wrangled.csv'))"
   ]
  },
  {
   "cell_type": "code",
   "execution_count": 137,
   "id": "996b5ed1",
   "metadata": {},
   "outputs": [
    {
     "data": {
      "text/html": [
       "<div>\n",
       "<style scoped>\n",
       "    .dataframe tbody tr th:only-of-type {\n",
       "        vertical-align: middle;\n",
       "    }\n",
       "\n",
       "    .dataframe tbody tr th {\n",
       "        vertical-align: top;\n",
       "    }\n",
       "\n",
       "    .dataframe thead th {\n",
       "        text-align: right;\n",
       "    }\n",
       "</style>\n",
       "<table border=\"1\" class=\"dataframe\">\n",
       "  <thead>\n",
       "    <tr style=\"text-align: right;\">\n",
       "      <th></th>\n",
       "      <th>Unnamed: 0</th>\n",
       "      <th>department</th>\n",
       "    </tr>\n",
       "  </thead>\n",
       "  <tbody>\n",
       "    <tr>\n",
       "      <th>0</th>\n",
       "      <td>1</td>\n",
       "      <td>frozen</td>\n",
       "    </tr>\n",
       "    <tr>\n",
       "      <th>1</th>\n",
       "      <td>2</td>\n",
       "      <td>other</td>\n",
       "    </tr>\n",
       "    <tr>\n",
       "      <th>2</th>\n",
       "      <td>3</td>\n",
       "      <td>bakery</td>\n",
       "    </tr>\n",
       "    <tr>\n",
       "      <th>3</th>\n",
       "      <td>4</td>\n",
       "      <td>produce</td>\n",
       "    </tr>\n",
       "    <tr>\n",
       "      <th>4</th>\n",
       "      <td>5</td>\n",
       "      <td>alcohol</td>\n",
       "    </tr>\n",
       "    <tr>\n",
       "      <th>5</th>\n",
       "      <td>6</td>\n",
       "      <td>international</td>\n",
       "    </tr>\n",
       "    <tr>\n",
       "      <th>6</th>\n",
       "      <td>7</td>\n",
       "      <td>beverages</td>\n",
       "    </tr>\n",
       "    <tr>\n",
       "      <th>7</th>\n",
       "      <td>8</td>\n",
       "      <td>pets</td>\n",
       "    </tr>\n",
       "    <tr>\n",
       "      <th>8</th>\n",
       "      <td>9</td>\n",
       "      <td>dry goods pasta</td>\n",
       "    </tr>\n",
       "    <tr>\n",
       "      <th>9</th>\n",
       "      <td>10</td>\n",
       "      <td>bulk</td>\n",
       "    </tr>\n",
       "    <tr>\n",
       "      <th>10</th>\n",
       "      <td>11</td>\n",
       "      <td>personal care</td>\n",
       "    </tr>\n",
       "    <tr>\n",
       "      <th>11</th>\n",
       "      <td>12</td>\n",
       "      <td>meat seafood</td>\n",
       "    </tr>\n",
       "    <tr>\n",
       "      <th>12</th>\n",
       "      <td>13</td>\n",
       "      <td>pantry</td>\n",
       "    </tr>\n",
       "    <tr>\n",
       "      <th>13</th>\n",
       "      <td>14</td>\n",
       "      <td>breakfast</td>\n",
       "    </tr>\n",
       "    <tr>\n",
       "      <th>14</th>\n",
       "      <td>15</td>\n",
       "      <td>canned goods</td>\n",
       "    </tr>\n",
       "    <tr>\n",
       "      <th>15</th>\n",
       "      <td>16</td>\n",
       "      <td>dairy eggs</td>\n",
       "    </tr>\n",
       "    <tr>\n",
       "      <th>16</th>\n",
       "      <td>17</td>\n",
       "      <td>household</td>\n",
       "    </tr>\n",
       "    <tr>\n",
       "      <th>17</th>\n",
       "      <td>18</td>\n",
       "      <td>babies</td>\n",
       "    </tr>\n",
       "    <tr>\n",
       "      <th>18</th>\n",
       "      <td>19</td>\n",
       "      <td>snacks</td>\n",
       "    </tr>\n",
       "    <tr>\n",
       "      <th>19</th>\n",
       "      <td>20</td>\n",
       "      <td>deli</td>\n",
       "    </tr>\n",
       "    <tr>\n",
       "      <th>20</th>\n",
       "      <td>21</td>\n",
       "      <td>missing</td>\n",
       "    </tr>\n",
       "  </tbody>\n",
       "</table>\n",
       "</div>"
      ],
      "text/plain": [
       "    Unnamed: 0       department\n",
       "0            1           frozen\n",
       "1            2            other\n",
       "2            3           bakery\n",
       "3            4          produce\n",
       "4            5          alcohol\n",
       "5            6    international\n",
       "6            7        beverages\n",
       "7            8             pets\n",
       "8            9  dry goods pasta\n",
       "9           10             bulk\n",
       "10          11    personal care\n",
       "11          12     meat seafood\n",
       "12          13           pantry\n",
       "13          14        breakfast\n",
       "14          15     canned goods\n",
       "15          16       dairy eggs\n",
       "16          17        household\n",
       "17          18           babies\n",
       "18          19           snacks\n",
       "19          20             deli\n",
       "20          21          missing"
      ]
     },
     "execution_count": 137,
     "metadata": {},
     "output_type": "execute_result"
    }
   ],
   "source": [
    "# Check 'depts' dataframe\n",
    "\n",
    "depts"
   ]
  },
  {
   "cell_type": "code",
   "execution_count": 138,
   "id": "f3cf6969",
   "metadata": {},
   "outputs": [],
   "source": [
    "# Changing 'Unnamed:0' column\n",
    "\n",
    "depts.rename(columns ={'Unnamed: 0' : 'department_id'}, inplace = True)"
   ]
  },
  {
   "cell_type": "code",
   "execution_count": 139,
   "id": "99aa406d",
   "metadata": {},
   "outputs": [
    {
     "data": {
      "text/html": [
       "<div>\n",
       "<style scoped>\n",
       "    .dataframe tbody tr th:only-of-type {\n",
       "        vertical-align: middle;\n",
       "    }\n",
       "\n",
       "    .dataframe tbody tr th {\n",
       "        vertical-align: top;\n",
       "    }\n",
       "\n",
       "    .dataframe thead th {\n",
       "        text-align: right;\n",
       "    }\n",
       "</style>\n",
       "<table border=\"1\" class=\"dataframe\">\n",
       "  <thead>\n",
       "    <tr style=\"text-align: right;\">\n",
       "      <th></th>\n",
       "      <th>department_id</th>\n",
       "      <th>department</th>\n",
       "    </tr>\n",
       "  </thead>\n",
       "  <tbody>\n",
       "    <tr>\n",
       "      <th>0</th>\n",
       "      <td>1</td>\n",
       "      <td>frozen</td>\n",
       "    </tr>\n",
       "  </tbody>\n",
       "</table>\n",
       "</div>"
      ],
      "text/plain": [
       "   department_id department\n",
       "0              1     frozen"
      ]
     },
     "execution_count": 139,
     "metadata": {},
     "output_type": "execute_result"
    }
   ],
   "source": [
    "depts.head(1)"
   ]
  },
  {
   "cell_type": "code",
   "execution_count": 140,
   "id": "0882595b",
   "metadata": {},
   "outputs": [],
   "source": [
    "##### Merging 'department' (name) column into 'regular_activity_cust' dataframe\n",
    "\n",
    "regular_activity_cust_2 = regular_activity_cust.merge(depts, on = 'department_id')"
   ]
  },
  {
   "cell_type": "code",
   "execution_count": 141,
   "id": "9fd9ec0b",
   "metadata": {},
   "outputs": [
    {
     "data": {
      "text/plain": [
       "department\n",
       "produce            9079273\n",
       "dairy eggs         5177182\n",
       "snacks             2766406\n",
       "beverages          2571901\n",
       "frozen             2121731\n",
       "pantry             1782705\n",
       "bakery             1120828\n",
       "canned goods       1012074\n",
       "deli               1003834\n",
       "dry goods pasta     822136\n",
       "household           699857\n",
       "meat seafood        674781\n",
       "breakfast           670850\n",
       "personal care       424306\n",
       "babies              410392\n",
       "international       255991\n",
       "alcohol             144627\n",
       "pets                 93060\n",
       "missing              64768\n",
       "other                34411\n",
       "bulk                 33451\n",
       "dtype: int64"
      ]
     },
     "execution_count": 141,
     "metadata": {},
     "output_type": "execute_result"
    }
   ],
   "source": [
    "regular_activity_cust_2.value_counts('department')"
   ]
  },
  {
   "cell_type": "code",
   "execution_count": 142,
   "id": "845316a0",
   "metadata": {},
   "outputs": [
    {
     "data": {
      "text/html": [
       "<div>\n",
       "<style scoped>\n",
       "    .dataframe tbody tr th:only-of-type {\n",
       "        vertical-align: middle;\n",
       "    }\n",
       "\n",
       "    .dataframe tbody tr th {\n",
       "        vertical-align: top;\n",
       "    }\n",
       "\n",
       "    .dataframe thead tr th {\n",
       "        text-align: left;\n",
       "    }\n",
       "\n",
       "    .dataframe thead tr:last-of-type th {\n",
       "        text-align: right;\n",
       "    }\n",
       "</style>\n",
       "<table border=\"1\" class=\"dataframe\">\n",
       "  <thead>\n",
       "    <tr>\n",
       "      <th></th>\n",
       "      <th>product_id</th>\n",
       "    </tr>\n",
       "    <tr>\n",
       "      <th></th>\n",
       "      <th>sum</th>\n",
       "    </tr>\n",
       "    <tr>\n",
       "      <th>department</th>\n",
       "      <th></th>\n",
       "    </tr>\n",
       "  </thead>\n",
       "  <tbody>\n",
       "    <tr>\n",
       "      <th>alcohol</th>\n",
       "      <td>3789799610</td>\n",
       "    </tr>\n",
       "    <tr>\n",
       "      <th>babies</th>\n",
       "      <td>10277673403</td>\n",
       "    </tr>\n",
       "    <tr>\n",
       "      <th>bakery</th>\n",
       "      <td>26830422740</td>\n",
       "    </tr>\n",
       "    <tr>\n",
       "      <th>beverages</th>\n",
       "      <td>64223732990</td>\n",
       "    </tr>\n",
       "    <tr>\n",
       "      <th>breakfast</th>\n",
       "      <td>17738364311</td>\n",
       "    </tr>\n",
       "    <tr>\n",
       "      <th>bulk</th>\n",
       "      <td>608828357</td>\n",
       "    </tr>\n",
       "    <tr>\n",
       "      <th>canned goods</th>\n",
       "      <td>23685069249</td>\n",
       "    </tr>\n",
       "    <tr>\n",
       "      <th>dairy eggs</th>\n",
       "      <td>131428162241</td>\n",
       "    </tr>\n",
       "    <tr>\n",
       "      <th>deli</th>\n",
       "      <td>25746494379</td>\n",
       "    </tr>\n",
       "    <tr>\n",
       "      <th>dry goods pasta</th>\n",
       "      <td>20769127311</td>\n",
       "    </tr>\n",
       "    <tr>\n",
       "      <th>frozen</th>\n",
       "      <td>51763983594</td>\n",
       "    </tr>\n",
       "    <tr>\n",
       "      <th>household</th>\n",
       "      <td>16817939903</td>\n",
       "    </tr>\n",
       "    <tr>\n",
       "      <th>international</th>\n",
       "      <td>5936629417</td>\n",
       "    </tr>\n",
       "    <tr>\n",
       "      <th>meat seafood</th>\n",
       "      <td>16102840840</td>\n",
       "    </tr>\n",
       "    <tr>\n",
       "      <th>missing</th>\n",
       "      <td>1687905133</td>\n",
       "    </tr>\n",
       "    <tr>\n",
       "      <th>other</th>\n",
       "      <td>955962060</td>\n",
       "    </tr>\n",
       "    <tr>\n",
       "      <th>pantry</th>\n",
       "      <td>45063297362</td>\n",
       "    </tr>\n",
       "    <tr>\n",
       "      <th>personal care</th>\n",
       "      <td>10166966327</td>\n",
       "    </tr>\n",
       "    <tr>\n",
       "      <th>pets</th>\n",
       "      <td>2166350773</td>\n",
       "    </tr>\n",
       "    <tr>\n",
       "      <th>produce</th>\n",
       "      <td>246655874038</td>\n",
       "    </tr>\n",
       "    <tr>\n",
       "      <th>snacks</th>\n",
       "      <td>70230823176</td>\n",
       "    </tr>\n",
       "  </tbody>\n",
       "</table>\n",
       "</div>"
      ],
      "text/plain": [
       "                   product_id\n",
       "                          sum\n",
       "department                   \n",
       "alcohol            3789799610\n",
       "babies            10277673403\n",
       "bakery            26830422740\n",
       "beverages         64223732990\n",
       "breakfast         17738364311\n",
       "bulk                608828357\n",
       "canned goods      23685069249\n",
       "dairy eggs       131428162241\n",
       "deli              25746494379\n",
       "dry goods pasta   20769127311\n",
       "frozen            51763983594\n",
       "household         16817939903\n",
       "international      5936629417\n",
       "meat seafood      16102840840\n",
       "missing            1687905133\n",
       "other               955962060\n",
       "pantry            45063297362\n",
       "personal care     10166966327\n",
       "pets               2166350773\n",
       "produce          246655874038\n",
       "snacks            70230823176"
      ]
     },
     "execution_count": 142,
     "metadata": {},
     "output_type": "execute_result"
    }
   ],
   "source": [
    "##### Grouping total number of products by department--or sold products by department \n",
    "\n",
    "regular_activity_cust_2.groupby('department').agg({'product_id' : ['sum']})"
   ]
  },
  {
   "cell_type": "markdown",
   "id": "c9fb2f48",
   "metadata": {},
   "source": [
    "#### Dependants"
   ]
  },
  {
   "cell_type": "code",
   "execution_count": 143,
   "id": "82641849",
   "metadata": {},
   "outputs": [
    {
     "data": {
      "text/plain": [
       "3    7772516\n",
       "0    7739681\n",
       "2    7733261\n",
       "1    7719106\n",
       "Name: dependants_num, dtype: int64"
      ]
     },
     "execution_count": 143,
     "metadata": {},
     "output_type": "execute_result"
    }
   ],
   "source": [
    "# Count 'dependants_num' values\n",
    "\n",
    "regular_activity_cust_2['dependants_num'].value_counts()"
   ]
  },
  {
   "cell_type": "code",
   "execution_count": 144,
   "id": "c1810dae",
   "metadata": {},
   "outputs": [],
   "source": [
    "# Creating Dependants profile\n",
    "\n",
    "regular_activity_cust_2.loc[(regular_activity_cust_2['dependants_num'] == 0), 'dependants_profile'] = 'No dependants'"
   ]
  },
  {
   "cell_type": "code",
   "execution_count": 145,
   "id": "4e2f1f0c",
   "metadata": {},
   "outputs": [],
   "source": [
    "regular_activity_cust_2.loc[(regular_activity_cust_2['dependants_num'] >= 1), 'dependants_profile'] = 'Dependants'"
   ]
  },
  {
   "cell_type": "code",
   "execution_count": 146,
   "id": "7ee28886",
   "metadata": {},
   "outputs": [
    {
     "data": {
      "text/plain": [
       "Dependants       23224883\n",
       "No dependants     7739681\n",
       "Name: dependants_profile, dtype: int64"
      ]
     },
     "execution_count": 146,
     "metadata": {},
     "output_type": "execute_result"
    }
   ],
   "source": [
    "regular_activity_cust_2['dependants_profile'].value_counts()"
   ]
  },
  {
   "cell_type": "markdown",
   "id": "8607eb8f",
   "metadata": {},
   "source": [
    "### Creating 'customer_profile' variable"
   ]
  },
  {
   "cell_type": "markdown",
   "id": "184d9a04",
   "metadata": {},
   "source": [
    "#### Originally, a subset with the needed colums was created, but decided to change the way as for memory reasons the code was crashing when I was deriving the 'customer_profile' variable. Leving the used code below just as a reference to this matter."
   ]
  },
  {
   "cell_type": "markdown",
   "id": "7ac69ad3",
   "metadata": {},
   "source": [
    "regular_activity_cust_2.head(2)"
   ]
  },
  {
   "cell_type": "markdown",
   "id": "94ff56a0",
   "metadata": {},
   "source": [
    "user_merge = regular_activity_cust_2[['user_id', 'region', 'age_profile', 'income_profile', 'department', 'dependants_profile', 'frequency_flag', 'expenditure_flag']]"
   ]
  },
  {
   "cell_type": "markdown",
   "id": "d93026f9",
   "metadata": {},
   "source": [
    "user_merge.shape"
   ]
  },
  {
   "cell_type": "markdown",
   "id": "da34fef6",
   "metadata": {},
   "source": [
    "user_merge_dups = user_merge[user_merge.duplicated()]"
   ]
  },
  {
   "cell_type": "markdown",
   "id": "611f3622",
   "metadata": {},
   "source": [
    "user_merge_dups.shape"
   ]
  },
  {
   "cell_type": "markdown",
   "id": "26a40018",
   "metadata": {},
   "source": [
    "df_user = user_merge.drop_duplicates()"
   ]
  },
  {
   "cell_type": "markdown",
   "id": "dc2bf278",
   "metadata": {},
   "source": [
    "df_user.head(1)"
   ]
  },
  {
   "cell_type": "markdown",
   "id": "07ee6fbe",
   "metadata": {},
   "source": [
    "df_user.shape"
   ]
  },
  {
   "cell_type": "code",
   "execution_count": 166,
   "id": "33bbb7f0",
   "metadata": {},
   "outputs": [],
   "source": [
    "regular_activity_cust_2.loc[(regular_activity_cust_2['age_profile'] =='Young adult') & (regular_activity_cust_2['income_profile'] == 'Low income') & (regular_activity_cust_2['dependants_profile'] == 'Dependants'), 'customer_profile'] = \"Young parent, low income\"\n",
    "regular_activity_cust_2.loc[(regular_activity_cust_2['age_profile'] =='Young adult') & (regular_activity_cust_2['income_profile'] == 'Low income') & (regular_activity_cust_2['dependants_profile'] == 'No Dependants'), 'customer_profile'] = 'Young adult, low income'\n",
    "regular_activity_cust_2.loc[(regular_activity_cust_2['age_profile'] =='Young adult') & (regular_activity_cust_2['income_profile'] == 'Middle income') & (regular_activity_cust_2['dependants_profile'] == 'Dependants'), 'customer_profile'] = 'Young parent, middle income'\n",
    "regular_activity_cust_2.loc[(regular_activity_cust_2['age_profile'] =='Young adult') & (regular_activity_cust_2['income_profile'] == 'Middle income') & (regular_activity_cust_2['dependants_profile'] == 'No Dependants'), 'customer_profile'] = 'Young adult, middle income'\n",
    "regular_activity_cust_2.loc[(regular_activity_cust_2['age_profile'] =='Young adult') & (regular_activity_cust_2['income_profile'] == 'High income') & (regular_activity_cust_2['dependants_profile'] == 'Dependants'), 'customer_profile'] = 'Young parent, high income'\n",
    "regular_activity_cust_2.loc[(regular_activity_cust_2['age_profile'] =='Young adult') & (regular_activity_cust_2['income_profile'] == 'High income') & (regular_activity_cust_2['dependants_profile'] == 'No Dependants'), 'customer_profile'] = 'Young adult, high income'\n",
    "regular_activity_cust_2.loc[(regular_activity_cust_2['age_profile'] =='Middle-age adult') & (regular_activity_cust_2['income_profile'] == 'Low income') & (regular_activity_cust_2['dependants_profile'] == 'Dependants'), 'customer_profile'] = 'Middle-age parent, low income'\n",
    "regular_activity_cust_2.loc[(regular_activity_cust_2['age_profile'] =='Middle-age adult') & (regular_activity_cust_2['income_profile'] == 'Low income') & (regular_activity_cust_2['dependants_profile'] == 'No Dependants'), 'customer_profile'] = 'Middle-age adult, low income'\n",
    "regular_activity_cust_2.loc[(regular_activity_cust_2['age_profile'] =='Middle-age adult') & (regular_activity_cust_2['income_profile'] == 'Middle income') & (regular_activity_cust_2['dependants_profile'] == 'Dependants'), 'customer_profile'] = 'Middle-age parent, middle income'\n",
    "regular_activity_cust_2.loc[(regular_activity_cust_2['age_profile'] =='Middle-age adult') & (regular_activity_cust_2['income_profile'] == 'Middle income') & (regular_activity_cust_2['dependants_profile'] == 'No Dependants'), 'customer_profile'] = 'Middle-age adult, middle income'\n",
    "regular_activity_cust_2.loc[(regular_activity_cust_2['age_profile'] =='Middle-age adult') & (regular_activity_cust_2['income_profile'] == 'High income') & (regular_activity_cust_2['dependants_profile'] == 'Dependants'), 'customer_profile'] = 'Middle age parent, high income'\n",
    "regular_activity_cust_2.loc[(regular_activity_cust_2['age_profile'] =='Middle-age adult') & (regular_activity_cust_2['income_profile'] == 'High income') & (regular_activity_cust_2['dependants_profile'] == 'No Dependants'), 'customer_profile'] = 'Middle age adult, high income'\n",
    "regular_activity_cust_2.loc[(regular_activity_cust_2['age_profile'] =='Mature adult') & (regular_activity_cust_2['income_profile'] == 'Low income') & (regular_activity_cust_2['dependants_profile'] == 'Dependants'), 'customer_profile'] = 'Mature parent, low income'\n",
    "regular_activity_cust_2.loc[(regular_activity_cust_2['age_profile'] =='Mature adult') & (regular_activity_cust_2['income_profile'] == 'Low income') & (regular_activity_cust_2['dependants_profile'] == 'No Dependants'), 'customer_profile'] = 'Mature adult, low income'\n",
    "regular_activity_cust_2.loc[(regular_activity_cust_2['age_profile'] =='Mature adult') & (regular_activity_cust_2['income_profile'] == 'Middle income') & (regular_activity_cust_2['dependants_profile'] == 'Dependants'), 'customer_profile'] = 'Mature parent, middle income'\n",
    "regular_activity_cust_2.loc[(regular_activity_cust_2['age_profile'] =='Mature adult') & (regular_activity_cust_2['income_profile'] == 'Middle income') & (regular_activity_cust_2['dependants_profile'] == 'No Dependants'), 'customer_profile'] = 'Mature adult, middle income'\n",
    "regular_activity_cust_2.loc[(regular_activity_cust_2['age_profile'] =='Mature adult') & (regular_activity_cust_2['income_profile'] == 'High income') & (regular_activity_cust_2['dependants_profile'] == 'Dependants'), 'customer_profile'] = 'Mature parent, high income'\n",
    "regular_activity_cust_2.loc[(regular_activity_cust_2['age_profile'] =='Mature adult') & (regular_activity_cust_2['income_profile'] == 'High income') & (regular_activity_cust_2['dependants_profile'] == 'No Dependants'), 'customer_profile'] = 'Mature adult, high income'"
   ]
  },
  {
   "cell_type": "code",
   "execution_count": 167,
   "id": "bb3e389e",
   "metadata": {},
   "outputs": [
    {
     "data": {
      "text/plain": [
       "Middle-age parent, middle income    5307467\n",
       "Mature parent, high income          4656843\n",
       "Middle age parent, high income      4517845\n",
       "Young parent, middle income         3472358\n",
       "Mature parent, middle income        2217195\n",
       "Middle-age parent, low income       1450080\n",
       "Young parent, low income             835476\n",
       "Mature parent, low income            705468\n",
       "Young parent, high income             62151\n",
       "Name: customer_profile, dtype: int64"
      ]
     },
     "execution_count": 167,
     "metadata": {},
     "output_type": "execute_result"
    }
   ],
   "source": [
    "regular_activity_cust_2['customer_profile'].value_counts()"
   ]
  },
  {
   "cell_type": "markdown",
   "id": "c33aa68b",
   "metadata": {},
   "source": [
    "# 6.- Visualization of customer profiles distribution"
   ]
  },
  {
   "cell_type": "code",
   "execution_count": 168,
   "id": "5a8f8b14",
   "metadata": {},
   "outputs": [
    {
     "data": {
      "image/png": "[encoded data removed]",
      "text/plain": [
       "<Figure size 432x288 with 1 Axes>"
      ]
     },
     "metadata": {
      "needs_background": "light"
     },
     "output_type": "display_data"
    }
   ],
   "source": [
    "cust_prf_dist = regular_activity_cust_2['customer_profile'].value_counts().plot.bar()"
   ]
  },
  {
   "cell_type": "markdown",
   "id": "70c0ec56",
   "metadata": {},
   "source": [
    "##### The middle and high income groups are the customers that engage the most with the app.\n",
    "\n",
    "##### Originally it was decided to work with the variables separately, but for memory reasons, the 'customer_profile' variable had to be derived. The idea of working with separate elements was to make crosstabs and, for example, compare the proportion of ages, incomes and dependants (_profile) by region, and age, and graphically see the concentration of orders placed according to regions and customers characteristics. \n",
    "#### the markdowns below this cell contain the codes that were going to be used. "
   ]
  },
  {
   "cell_type": "markdown",
   "id": "5fb67508",
   "metadata": {},
   "source": [
    "#### A new variable was to be created deriving it with  '.loc()' function, containing the whole customer information, but to save time I decided to create a subset with unique 'user_id' values, containing the 'region', 'age_profile', ' 'income_profile', 'dependants_profile'"
   ]
  },
  {
   "cell_type": "code",
   "execution_count": 198,
   "id": "f332990e",
   "metadata": {},
   "outputs": [
    {
     "data": {
      "image/png": "[encoded data removed]",
      "text/plain": [
       "<Figure size 432x288 with 1 Axes>"
      ]
     },
     "metadata": {
      "needs_background": "light"
     },
     "output_type": "display_data"
    }
   ],
   "source": [
    "##### Regions' size markett\n",
    "\n",
    "bar_region_dist = df_user['region'].value_counts().plot.bar('tab:cyan')"
   ]
  },
  {
   "cell_type": "markdown",
   "id": "d5a1f106",
   "metadata": {},
   "source": [
    "#### Region 3 has teh biggest market, whereas Region 1 has the smallest market. "
   ]
  },
  {
   "cell_type": "code",
   "execution_count": 174,
   "id": "a83585ef",
   "metadata": {},
   "outputs": [],
   "source": [
    "crosstab_rgn_age = pd.crosstab(regular_activity_cust_2['region'], regular_activity_cust_2['age_profile'], dropna = False)"
   ]
  },
  {
   "cell_type": "markdown",
   "id": "8690989b",
   "metadata": {},
   "source": [
    "crosstab_rgn_age.to_clipboard()"
   ]
  },
  {
   "cell_type": "code",
   "execution_count": 175,
   "id": "7fe552ac",
   "metadata": {},
   "outputs": [
    {
     "data": {
      "image/png": "[encoded data removed]",
      "text/plain": [
       "<Figure size 432x288 with 1 Axes>"
      ]
     },
     "metadata": {
      "needs_background": "light"
     },
     "output_type": "display_data"
    }
   ],
   "source": [
    "age_region_dist = crosstab_rgn_age.plot.bar()"
   ]
  },
  {
   "cell_type": "markdown",
   "id": "be0e941f",
   "metadata": {},
   "source": [
    "#### The prdeominant group in all of the regions is the middle-age adults, followed by mature-adults; the young-adults groups is the smallest one in all of the regions. It's natural to see these patterns since tipically are the oldest groups that have a better financial situation."
   ]
  },
  {
   "cell_type": "code",
   "execution_count": 176,
   "id": "de676b6d",
   "metadata": {},
   "outputs": [],
   "source": [
    "crosstab_rgn_income = pd.crosstab(regular_activity_cust_2['region'], regular_activity_cust_2['income_profile'], dropna = False)"
   ]
  },
  {
   "cell_type": "code",
   "execution_count": 177,
   "id": "c01b024d",
   "metadata": {},
   "outputs": [
    {
     "data": {
      "image/png": "[encoded data removed]",
      "text/plain": [
       "<Figure size 432x288 with 1 Axes>"
      ]
     },
     "metadata": {
      "needs_background": "light"
     },
     "output_type": "display_data"
    }
   ],
   "source": [
    "income_rgn_dist = crosstab_rgn_income.plot.bar()"
   ]
  },
  {
   "cell_type": "markdown",
   "id": "9cb8cfe1",
   "metadata": {},
   "source": [
    "#### Economist and sociologists are not wrong when they say the economy is moved by the middle class--the upper-middle class is right behind this group, and it's not a suprise, since many of the people within this group upgraded their finances. Also, the class that interacts the least is the upper-class, which puts in evidence one of the charateristics of this groups."
   ]
  },
  {
   "cell_type": "code",
   "execution_count": 178,
   "id": "1b85c676",
   "metadata": {},
   "outputs": [
    {
     "data": {
      "image/png": "[encoded data removed]",
      "text/plain": [
       "<Figure size 432x288 with 1 Axes>"
      ]
     },
     "metadata": {
      "needs_background": "light"
     },
     "output_type": "display_data"
    }
   ],
   "source": [
    "income_hist = regular_activity_cust_2['income'].plot.hist(bins = 25)"
   ]
  },
  {
   "cell_type": "markdown",
   "id": "08def04d",
   "metadata": {},
   "source": [
    "#### Confirmation of which class (group) interacts the most with the Insacart's market."
   ]
  },
  {
   "cell_type": "code",
   "execution_count": 179,
   "id": "35596e16",
   "metadata": {},
   "outputs": [
    {
     "data": {
      "image/png": "[encoded data removed]",
      "text/plain": [
       "<Figure size 432x288 with 1 Axes>"
      ]
     },
     "metadata": {
      "needs_background": "light"
     },
     "output_type": "display_data"
    }
   ],
   "source": [
    "bar_dependants_num_dist = regular_activity_cust_2['dependants_num'].value_counts().plot.bar()"
   ]
  },
  {
   "cell_type": "markdown",
   "id": "a8d24d6d",
   "metadata": {},
   "source": [
    "#### Dpendants distribution is pretty much equitative among users."
   ]
  },
  {
   "cell_type": "markdown",
   "id": "e7a289bd",
   "metadata": {},
   "source": [
    "# 7.- Aggregate max, min, and mean variables on customer-profile level for usage frequency and expenditure"
   ]
  },
  {
   "cell_type": "code",
   "execution_count": 172,
   "id": "61653890",
   "metadata": {
    "scrolled": false
   },
   "outputs": [
    {
     "data": {
      "text/html": [
       "<div>\n",
       "<style scoped>\n",
       "    .dataframe tbody tr th:only-of-type {\n",
       "        vertical-align: middle;\n",
       "    }\n",
       "\n",
       "    .dataframe tbody tr th {\n",
       "        vertical-align: top;\n",
       "    }\n",
       "\n",
       "    .dataframe thead tr th {\n",
       "        text-align: left;\n",
       "    }\n",
       "\n",
       "    .dataframe thead tr:last-of-type th {\n",
       "        text-align: right;\n",
       "    }\n",
       "</style>\n",
       "<table border=\"1\" class=\"dataframe\">\n",
       "  <thead>\n",
       "    <tr>\n",
       "      <th></th>\n",
       "      <th colspan=\"3\" halign=\"left\">purchase_frequency</th>\n",
       "    </tr>\n",
       "    <tr>\n",
       "      <th></th>\n",
       "      <th>mean</th>\n",
       "      <th>min</th>\n",
       "      <th>max</th>\n",
       "    </tr>\n",
       "    <tr>\n",
       "      <th>customer_profile</th>\n",
       "      <th></th>\n",
       "      <th></th>\n",
       "      <th></th>\n",
       "    </tr>\n",
       "  </thead>\n",
       "  <tbody>\n",
       "    <tr>\n",
       "      <th>Mature parent, high income</th>\n",
       "      <td>9.584402</td>\n",
       "      <td>0.0</td>\n",
       "      <td>30.0</td>\n",
       "    </tr>\n",
       "    <tr>\n",
       "      <th>Mature parent, low income</th>\n",
       "      <td>10.189600</td>\n",
       "      <td>0.0</td>\n",
       "      <td>30.0</td>\n",
       "    </tr>\n",
       "    <tr>\n",
       "      <th>Mature parent, middle income</th>\n",
       "      <td>9.751012</td>\n",
       "      <td>0.0</td>\n",
       "      <td>30.0</td>\n",
       "    </tr>\n",
       "    <tr>\n",
       "      <th>Middle age parent, high income</th>\n",
       "      <td>9.659521</td>\n",
       "      <td>0.0</td>\n",
       "      <td>30.0</td>\n",
       "    </tr>\n",
       "    <tr>\n",
       "      <th>Middle-age parent, low income</th>\n",
       "      <td>10.228072</td>\n",
       "      <td>0.0</td>\n",
       "      <td>30.0</td>\n",
       "    </tr>\n",
       "    <tr>\n",
       "      <th>Middle-age parent, middle income</th>\n",
       "      <td>9.625595</td>\n",
       "      <td>0.0</td>\n",
       "      <td>30.0</td>\n",
       "    </tr>\n",
       "    <tr>\n",
       "      <th>Young parent, high income</th>\n",
       "      <td>8.713561</td>\n",
       "      <td>2.0</td>\n",
       "      <td>30.0</td>\n",
       "    </tr>\n",
       "    <tr>\n",
       "      <th>Young parent, low income</th>\n",
       "      <td>10.084645</td>\n",
       "      <td>0.0</td>\n",
       "      <td>30.0</td>\n",
       "    </tr>\n",
       "    <tr>\n",
       "      <th>Young parent, middle income</th>\n",
       "      <td>9.569451</td>\n",
       "      <td>0.0</td>\n",
       "      <td>30.0</td>\n",
       "    </tr>\n",
       "  </tbody>\n",
       "</table>\n",
       "</div>"
      ],
      "text/plain": [
       "                                 purchase_frequency           \n",
       "                                               mean  min   max\n",
       "customer_profile                                              \n",
       "Mature parent, high income                 9.584402  0.0  30.0\n",
       "Mature parent, low income                 10.189600  0.0  30.0\n",
       "Mature parent, middle income               9.751012  0.0  30.0\n",
       "Middle age parent, high income             9.659521  0.0  30.0\n",
       "Middle-age parent, low income             10.228072  0.0  30.0\n",
       "Middle-age parent, middle income           9.625595  0.0  30.0\n",
       "Young parent, high income                  8.713561  2.0  30.0\n",
       "Young parent, low income                  10.084645  0.0  30.0\n",
       "Young parent, middle income                9.569451  0.0  30.0"
      ]
     },
     "execution_count": 172,
     "metadata": {},
     "output_type": "execute_result"
    }
   ],
   "source": [
    "regular_activity_cust_2.groupby('customer_profile').agg({'purchase_frequency' : ['mean', 'min', 'max']})"
   ]
  },
  {
   "cell_type": "code",
   "execution_count": 173,
   "id": "468755cc",
   "metadata": {},
   "outputs": [
    {
     "data": {
      "text/html": [
       "<div>\n",
       "<style scoped>\n",
       "    .dataframe tbody tr th:only-of-type {\n",
       "        vertical-align: middle;\n",
       "    }\n",
       "\n",
       "    .dataframe tbody tr th {\n",
       "        vertical-align: top;\n",
       "    }\n",
       "\n",
       "    .dataframe thead tr th {\n",
       "        text-align: left;\n",
       "    }\n",
       "\n",
       "    .dataframe thead tr:last-of-type th {\n",
       "        text-align: right;\n",
       "    }\n",
       "</style>\n",
       "<table border=\"1\" class=\"dataframe\">\n",
       "  <thead>\n",
       "    <tr>\n",
       "      <th></th>\n",
       "      <th colspan=\"3\" halign=\"left\">average_expenditure</th>\n",
       "    </tr>\n",
       "    <tr>\n",
       "      <th></th>\n",
       "      <th>mean</th>\n",
       "      <th>min</th>\n",
       "      <th>max</th>\n",
       "    </tr>\n",
       "    <tr>\n",
       "      <th>customer_profile</th>\n",
       "      <th></th>\n",
       "      <th></th>\n",
       "      <th></th>\n",
       "    </tr>\n",
       "  </thead>\n",
       "  <tbody>\n",
       "    <tr>\n",
       "      <th>Mature parent, high income</th>\n",
       "      <td>14.195057</td>\n",
       "      <td>7.000000</td>\n",
       "      <td>7414.485185</td>\n",
       "    </tr>\n",
       "    <tr>\n",
       "      <th>Mature parent, low income</th>\n",
       "      <td>6.511227</td>\n",
       "      <td>1.262500</td>\n",
       "      <td>7.000000</td>\n",
       "    </tr>\n",
       "    <tr>\n",
       "      <th>Mature parent, middle income</th>\n",
       "      <td>8.671031</td>\n",
       "      <td>1.300000</td>\n",
       "      <td>1665.042541</td>\n",
       "    </tr>\n",
       "    <tr>\n",
       "      <th>Middle age parent, high income</th>\n",
       "      <td>17.235954</td>\n",
       "      <td>7.000000</td>\n",
       "      <td>6983.593023</td>\n",
       "    </tr>\n",
       "    <tr>\n",
       "      <th>Middle-age parent, low income</th>\n",
       "      <td>6.822959</td>\n",
       "      <td>1.000000</td>\n",
       "      <td>11.857143</td>\n",
       "    </tr>\n",
       "    <tr>\n",
       "      <th>Middle-age parent, middle income</th>\n",
       "      <td>8.554450</td>\n",
       "      <td>1.522222</td>\n",
       "      <td>2550.966102</td>\n",
       "    </tr>\n",
       "    <tr>\n",
       "      <th>Young parent, high income</th>\n",
       "      <td>271.877119</td>\n",
       "      <td>25.512938</td>\n",
       "      <td>10209.987755</td>\n",
       "    </tr>\n",
       "    <tr>\n",
       "      <th>Young parent, low income</th>\n",
       "      <td>7.102166</td>\n",
       "      <td>1.628571</td>\n",
       "      <td>12.000000</td>\n",
       "    </tr>\n",
       "    <tr>\n",
       "      <th>Young parent, middle income</th>\n",
       "      <td>8.618295</td>\n",
       "      <td>7.000000</td>\n",
       "      <td>3402.921296</td>\n",
       "    </tr>\n",
       "  </tbody>\n",
       "</table>\n",
       "</div>"
      ],
      "text/plain": [
       "                                 average_expenditure                         \n",
       "                                                mean        min           max\n",
       "customer_profile                                                             \n",
       "Mature parent, high income                 14.195057   7.000000   7414.485185\n",
       "Mature parent, low income                   6.511227   1.262500      7.000000\n",
       "Mature parent, middle income                8.671031   1.300000   1665.042541\n",
       "Middle age parent, high income             17.235954   7.000000   6983.593023\n",
       "Middle-age parent, low income               6.822959   1.000000     11.857143\n",
       "Middle-age parent, middle income            8.554450   1.522222   2550.966102\n",
       "Young parent, high income                 271.877119  25.512938  10209.987755\n",
       "Young parent, low income                    7.102166   1.628571     12.000000\n",
       "Young parent, middle income                 8.618295   7.000000   3402.921296"
      ]
     },
     "execution_count": 173,
     "metadata": {},
     "output_type": "execute_result"
    }
   ],
   "source": [
    "regular_activity_cust_2.groupby('customer_profile').agg({'average_expenditure' : ['mean', 'min', 'max']})"
   ]
  },
  {
   "cell_type": "markdown",
   "id": "99de44ec",
   "metadata": {},
   "source": [
    "# 8.- Compare customers profiles with regions and dpets."
   ]
  },
  {
   "cell_type": "code",
   "execution_count": 181,
   "id": "32d1b5a6",
   "metadata": {},
   "outputs": [],
   "source": [
    "# Customer profiles distribution by regions\n",
    "\n",
    "cust_prf_rgn = pd.crosstab(regular_activity_cust_2['customer_profile'], regular_activity_cust_2['region'], dropna = False)"
   ]
  },
  {
   "cell_type": "code",
   "execution_count": 182,
   "id": "77264d73",
   "metadata": {},
   "outputs": [
    {
     "data": {
      "image/png": "[encoded data removed]",
      "text/plain": [
       "<Figure size 432x288 with 1 Axes>"
      ]
     },
     "metadata": {
      "needs_background": "light"
     },
     "output_type": "display_data"
    }
   ],
   "source": [
    "cust_prf_rgn_dist = cust_prf_rgn.plot.bar()"
   ]
  },
  {
   "cell_type": "code",
   "execution_count": 183,
   "id": "2e273433",
   "metadata": {},
   "outputs": [
    {
     "data": {
      "text/html": [
       "<div>\n",
       "<style scoped>\n",
       "    .dataframe tbody tr th:only-of-type {\n",
       "        vertical-align: middle;\n",
       "    }\n",
       "\n",
       "    .dataframe tbody tr th {\n",
       "        vertical-align: top;\n",
       "    }\n",
       "\n",
       "    .dataframe thead th {\n",
       "        text-align: right;\n",
       "    }\n",
       "</style>\n",
       "<table border=\"1\" class=\"dataframe\">\n",
       "  <thead>\n",
       "    <tr style=\"text-align: right;\">\n",
       "      <th>region</th>\n",
       "      <th>Region 1</th>\n",
       "      <th>Region 2</th>\n",
       "      <th>Region 3</th>\n",
       "      <th>Region 4</th>\n",
       "    </tr>\n",
       "    <tr>\n",
       "      <th>customer_profile</th>\n",
       "      <th></th>\n",
       "      <th></th>\n",
       "      <th></th>\n",
       "      <th></th>\n",
       "    </tr>\n",
       "  </thead>\n",
       "  <tbody>\n",
       "    <tr>\n",
       "      <th>Mature parent, high income</th>\n",
       "      <td>829348</td>\n",
       "      <td>1096146</td>\n",
       "      <td>1551703</td>\n",
       "      <td>1179646</td>\n",
       "    </tr>\n",
       "    <tr>\n",
       "      <th>Mature parent, low income</th>\n",
       "      <td>125099</td>\n",
       "      <td>162789</td>\n",
       "      <td>235022</td>\n",
       "      <td>182558</td>\n",
       "    </tr>\n",
       "    <tr>\n",
       "      <th>Mature parent, middle income</th>\n",
       "      <td>394376</td>\n",
       "      <td>502957</td>\n",
       "      <td>736250</td>\n",
       "      <td>583612</td>\n",
       "    </tr>\n",
       "    <tr>\n",
       "      <th>Middle age parent, high income</th>\n",
       "      <td>815015</td>\n",
       "      <td>1091293</td>\n",
       "      <td>1460783</td>\n",
       "      <td>1150754</td>\n",
       "    </tr>\n",
       "    <tr>\n",
       "      <th>Middle-age parent, low income</th>\n",
       "      <td>260892</td>\n",
       "      <td>344944</td>\n",
       "      <td>480913</td>\n",
       "      <td>363331</td>\n",
       "    </tr>\n",
       "    <tr>\n",
       "      <th>Middle-age parent, middle income</th>\n",
       "      <td>925990</td>\n",
       "      <td>1214472</td>\n",
       "      <td>1798223</td>\n",
       "      <td>1368782</td>\n",
       "    </tr>\n",
       "    <tr>\n",
       "      <th>Young parent, high income</th>\n",
       "      <td>9593</td>\n",
       "      <td>14186</td>\n",
       "      <td>22971</td>\n",
       "      <td>15401</td>\n",
       "    </tr>\n",
       "    <tr>\n",
       "      <th>Young parent, low income</th>\n",
       "      <td>137978</td>\n",
       "      <td>198140</td>\n",
       "      <td>292609</td>\n",
       "      <td>206749</td>\n",
       "    </tr>\n",
       "    <tr>\n",
       "      <th>Young parent, middle income</th>\n",
       "      <td>611912</td>\n",
       "      <td>813770</td>\n",
       "      <td>1150732</td>\n",
       "      <td>895944</td>\n",
       "    </tr>\n",
       "  </tbody>\n",
       "</table>\n",
       "</div>"
      ],
      "text/plain": [
       "region                            Region 1  Region 2  Region 3  Region 4\n",
       "customer_profile                                                        \n",
       "Mature parent, high income          829348   1096146   1551703   1179646\n",
       "Mature parent, low income           125099    162789    235022    182558\n",
       "Mature parent, middle income        394376    502957    736250    583612\n",
       "Middle age parent, high income      815015   1091293   1460783   1150754\n",
       "Middle-age parent, low income       260892    344944    480913    363331\n",
       "Middle-age parent, middle income    925990   1214472   1798223   1368782\n",
       "Young parent, high income             9593     14186     22971     15401\n",
       "Young parent, low income            137978    198140    292609    206749\n",
       "Young parent, middle income         611912    813770   1150732    895944"
      ]
     },
     "execution_count": 183,
     "metadata": {},
     "output_type": "execute_result"
    }
   ],
   "source": [
    "cust_prf_rgn"
   ]
  },
  {
   "cell_type": "code",
   "execution_count": 184,
   "id": "e2b918fe",
   "metadata": {},
   "outputs": [],
   "source": [
    "cust_prf_dpts = pd.crosstab(regular_activity_cust_2['customer_profile'], regular_activity_cust_2['department'], dropna = False)"
   ]
  },
  {
   "cell_type": "code",
   "execution_count": 185,
   "id": "af9cb118",
   "metadata": {},
   "outputs": [
    {
     "data": {
      "image/png": "[encoded data removed]",
      "text/plain": [
       "<Figure size 432x288 with 1 Axes>"
      ]
     },
     "metadata": {
      "needs_background": "light"
     },
     "output_type": "display_data"
    }
   ],
   "source": [
    "cust_prf_dpts_dist = cust_prf_dpts.plot.bar()"
   ]
  },
  {
   "cell_type": "markdown",
   "id": "1972dda6",
   "metadata": {},
   "source": [
    "####  A table will be printed for better representation."
   ]
  },
  {
   "cell_type": "code",
   "execution_count": 186,
   "id": "d5bf8c17",
   "metadata": {
    "scrolled": true
   },
   "outputs": [
    {
     "data": {
      "text/html": [
       "<div>\n",
       "<style scoped>\n",
       "    .dataframe tbody tr th:only-of-type {\n",
       "        vertical-align: middle;\n",
       "    }\n",
       "\n",
       "    .dataframe tbody tr th {\n",
       "        vertical-align: top;\n",
       "    }\n",
       "\n",
       "    .dataframe thead th {\n",
       "        text-align: right;\n",
       "    }\n",
       "</style>\n",
       "<table border=\"1\" class=\"dataframe\">\n",
       "  <thead>\n",
       "    <tr style=\"text-align: right;\">\n",
       "      <th>department</th>\n",
       "      <th>alcohol</th>\n",
       "      <th>babies</th>\n",
       "      <th>bakery</th>\n",
       "      <th>beverages</th>\n",
       "      <th>breakfast</th>\n",
       "      <th>bulk</th>\n",
       "      <th>canned goods</th>\n",
       "      <th>dairy eggs</th>\n",
       "      <th>deli</th>\n",
       "      <th>dry goods pasta</th>\n",
       "      <th>...</th>\n",
       "      <th>household</th>\n",
       "      <th>international</th>\n",
       "      <th>meat seafood</th>\n",
       "      <th>missing</th>\n",
       "      <th>other</th>\n",
       "      <th>pantry</th>\n",
       "      <th>personal care</th>\n",
       "      <th>pets</th>\n",
       "      <th>produce</th>\n",
       "      <th>snacks</th>\n",
       "    </tr>\n",
       "    <tr>\n",
       "      <th>customer_profile</th>\n",
       "      <th></th>\n",
       "      <th></th>\n",
       "      <th></th>\n",
       "      <th></th>\n",
       "      <th></th>\n",
       "      <th></th>\n",
       "      <th></th>\n",
       "      <th></th>\n",
       "      <th></th>\n",
       "      <th></th>\n",
       "      <th></th>\n",
       "      <th></th>\n",
       "      <th></th>\n",
       "      <th></th>\n",
       "      <th></th>\n",
       "      <th></th>\n",
       "      <th></th>\n",
       "      <th></th>\n",
       "      <th></th>\n",
       "      <th></th>\n",
       "      <th></th>\n",
       "    </tr>\n",
       "  </thead>\n",
       "  <tbody>\n",
       "    <tr>\n",
       "      <th>Mature parent, high income</th>\n",
       "      <td>20022</td>\n",
       "      <td>64085</td>\n",
       "      <td>172332</td>\n",
       "      <td>369105</td>\n",
       "      <td>96678</td>\n",
       "      <td>4697</td>\n",
       "      <td>159571</td>\n",
       "      <td>793172</td>\n",
       "      <td>152569</td>\n",
       "      <td>128006</td>\n",
       "      <td>...</td>\n",
       "      <td>105473</td>\n",
       "      <td>38482</td>\n",
       "      <td>110792</td>\n",
       "      <td>9994</td>\n",
       "      <td>5228</td>\n",
       "      <td>273760</td>\n",
       "      <td>62958</td>\n",
       "      <td>14412</td>\n",
       "      <td>1390414</td>\n",
       "      <td>362575</td>\n",
       "    </tr>\n",
       "    <tr>\n",
       "      <th>Mature parent, low income</th>\n",
       "      <td>3873</td>\n",
       "      <td>5336</td>\n",
       "      <td>21355</td>\n",
       "      <td>86744</td>\n",
       "      <td>20297</td>\n",
       "      <td>1124</td>\n",
       "      <td>15441</td>\n",
       "      <td>101977</td>\n",
       "      <td>21262</td>\n",
       "      <td>12188</td>\n",
       "      <td>...</td>\n",
       "      <td>19134</td>\n",
       "      <td>4174</td>\n",
       "      <td>5593</td>\n",
       "      <td>1261</td>\n",
       "      <td>779</td>\n",
       "      <td>33978</td>\n",
       "      <td>9887</td>\n",
       "      <td>1658</td>\n",
       "      <td>170922</td>\n",
       "      <td>123991</td>\n",
       "    </tr>\n",
       "    <tr>\n",
       "      <th>Mature parent, middle income</th>\n",
       "      <td>10290</td>\n",
       "      <td>30415</td>\n",
       "      <td>80674</td>\n",
       "      <td>177273</td>\n",
       "      <td>46351</td>\n",
       "      <td>2551</td>\n",
       "      <td>73655</td>\n",
       "      <td>368444</td>\n",
       "      <td>72039</td>\n",
       "      <td>60207</td>\n",
       "      <td>...</td>\n",
       "      <td>49331</td>\n",
       "      <td>19069</td>\n",
       "      <td>50860</td>\n",
       "      <td>4599</td>\n",
       "      <td>2354</td>\n",
       "      <td>129128</td>\n",
       "      <td>29658</td>\n",
       "      <td>6649</td>\n",
       "      <td>662698</td>\n",
       "      <td>186971</td>\n",
       "    </tr>\n",
       "    <tr>\n",
       "      <th>Middle age parent, high income</th>\n",
       "      <td>22751</td>\n",
       "      <td>62243</td>\n",
       "      <td>167101</td>\n",
       "      <td>356618</td>\n",
       "      <td>94991</td>\n",
       "      <td>4353</td>\n",
       "      <td>156155</td>\n",
       "      <td>766627</td>\n",
       "      <td>144746</td>\n",
       "      <td>125766</td>\n",
       "      <td>...</td>\n",
       "      <td>102843</td>\n",
       "      <td>38318</td>\n",
       "      <td>108042</td>\n",
       "      <td>9380</td>\n",
       "      <td>4910</td>\n",
       "      <td>268745</td>\n",
       "      <td>62173</td>\n",
       "      <td>13859</td>\n",
       "      <td>1344418</td>\n",
       "      <td>349497</td>\n",
       "    </tr>\n",
       "    <tr>\n",
       "      <th>Middle-age parent, low income</th>\n",
       "      <td>7738</td>\n",
       "      <td>14272</td>\n",
       "      <td>47679</td>\n",
       "      <td>157903</td>\n",
       "      <td>38105</td>\n",
       "      <td>2073</td>\n",
       "      <td>35489</td>\n",
       "      <td>217179</td>\n",
       "      <td>45960</td>\n",
       "      <td>29079</td>\n",
       "      <td>...</td>\n",
       "      <td>36846</td>\n",
       "      <td>9573</td>\n",
       "      <td>16880</td>\n",
       "      <td>2829</td>\n",
       "      <td>1538</td>\n",
       "      <td>73173</td>\n",
       "      <td>19951</td>\n",
       "      <td>3481</td>\n",
       "      <td>368437</td>\n",
       "      <td>229905</td>\n",
       "    </tr>\n",
       "    <tr>\n",
       "      <th>Middle-age parent, middle income</th>\n",
       "      <td>21591</td>\n",
       "      <td>73400</td>\n",
       "      <td>192177</td>\n",
       "      <td>421758</td>\n",
       "      <td>111192</td>\n",
       "      <td>5745</td>\n",
       "      <td>176102</td>\n",
       "      <td>900181</td>\n",
       "      <td>172365</td>\n",
       "      <td>145723</td>\n",
       "      <td>...</td>\n",
       "      <td>117053</td>\n",
       "      <td>45490</td>\n",
       "      <td>121503</td>\n",
       "      <td>11385</td>\n",
       "      <td>5682</td>\n",
       "      <td>309139</td>\n",
       "      <td>74001</td>\n",
       "      <td>15726</td>\n",
       "      <td>1592629</td>\n",
       "      <td>431081</td>\n",
       "    </tr>\n",
       "    <tr>\n",
       "      <th>Young parent, high income</th>\n",
       "      <td>1700</td>\n",
       "      <td>767</td>\n",
       "      <td>2859</td>\n",
       "      <td>5547</td>\n",
       "      <td>1640</td>\n",
       "      <td>9</td>\n",
       "      <td>2313</td>\n",
       "      <td>11181</td>\n",
       "      <td>1786</td>\n",
       "      <td>1734</td>\n",
       "      <td>...</td>\n",
       "      <td>2612</td>\n",
       "      <td>517</td>\n",
       "      <td>1342</td>\n",
       "      <td>76</td>\n",
       "      <td>191</td>\n",
       "      <td>3812</td>\n",
       "      <td>1163</td>\n",
       "      <td>400</td>\n",
       "      <td>12245</td>\n",
       "      <td>4898</td>\n",
       "    </tr>\n",
       "    <tr>\n",
       "      <th>Young parent, low income</th>\n",
       "      <td>3906</td>\n",
       "      <td>8614</td>\n",
       "      <td>27923</td>\n",
       "      <td>85437</td>\n",
       "      <td>21037</td>\n",
       "      <td>980</td>\n",
       "      <td>22531</td>\n",
       "      <td>130211</td>\n",
       "      <td>27051</td>\n",
       "      <td>18863</td>\n",
       "      <td>...</td>\n",
       "      <td>20100</td>\n",
       "      <td>6166</td>\n",
       "      <td>11810</td>\n",
       "      <td>1706</td>\n",
       "      <td>950</td>\n",
       "      <td>42993</td>\n",
       "      <td>11965</td>\n",
       "      <td>2859</td>\n",
       "      <td>214717</td>\n",
       "      <td>118667</td>\n",
       "    </tr>\n",
       "    <tr>\n",
       "      <th>Young parent, middle income</th>\n",
       "      <td>15929</td>\n",
       "      <td>47932</td>\n",
       "      <td>127333</td>\n",
       "      <td>266175</td>\n",
       "      <td>74127</td>\n",
       "      <td>3919</td>\n",
       "      <td>119797</td>\n",
       "      <td>593834</td>\n",
       "      <td>112674</td>\n",
       "      <td>96274</td>\n",
       "      <td>...</td>\n",
       "      <td>75107</td>\n",
       "      <td>29741</td>\n",
       "      <td>82081</td>\n",
       "      <td>7603</td>\n",
       "      <td>4065</td>\n",
       "      <td>204073</td>\n",
       "      <td>46345</td>\n",
       "      <td>10414</td>\n",
       "      <td>1047352</td>\n",
       "      <td>268383</td>\n",
       "    </tr>\n",
       "  </tbody>\n",
       "</table>\n",
       "<p>9 rows × 21 columns</p>\n",
       "</div>"
      ],
      "text/plain": [
       "department                        alcohol  babies  bakery  beverages  \\\n",
       "customer_profile                                                       \n",
       "Mature parent, high income          20022   64085  172332     369105   \n",
       "Mature parent, low income            3873    5336   21355      86744   \n",
       "Mature parent, middle income        10290   30415   80674     177273   \n",
       "Middle age parent, high income      22751   62243  167101     356618   \n",
       "Middle-age parent, low income        7738   14272   47679     157903   \n",
       "Middle-age parent, middle income    21591   73400  192177     421758   \n",
       "Young parent, high income            1700     767    2859       5547   \n",
       "Young parent, low income             3906    8614   27923      85437   \n",
       "Young parent, middle income         15929   47932  127333     266175   \n",
       "\n",
       "department                        breakfast  bulk  canned goods  dairy eggs  \\\n",
       "customer_profile                                                              \n",
       "Mature parent, high income            96678  4697        159571      793172   \n",
       "Mature parent, low income             20297  1124         15441      101977   \n",
       "Mature parent, middle income          46351  2551         73655      368444   \n",
       "Middle age parent, high income        94991  4353        156155      766627   \n",
       "Middle-age parent, low income         38105  2073         35489      217179   \n",
       "Middle-age parent, middle income     111192  5745        176102      900181   \n",
       "Young parent, high income              1640     9          2313       11181   \n",
       "Young parent, low income              21037   980         22531      130211   \n",
       "Young parent, middle income           74127  3919        119797      593834   \n",
       "\n",
       "department                          deli  dry goods pasta  ...  household  \\\n",
       "customer_profile                                           ...              \n",
       "Mature parent, high income        152569           128006  ...     105473   \n",
       "Mature parent, low income          21262            12188  ...      19134   \n",
       "Mature parent, middle income       72039            60207  ...      49331   \n",
       "Middle age parent, high income    144746           125766  ...     102843   \n",
       "Middle-age parent, low income      45960            29079  ...      36846   \n",
       "Middle-age parent, middle income  172365           145723  ...     117053   \n",
       "Young parent, high income           1786             1734  ...       2612   \n",
       "Young parent, low income           27051            18863  ...      20100   \n",
       "Young parent, middle income       112674            96274  ...      75107   \n",
       "\n",
       "department                        international  meat seafood  missing  other  \\\n",
       "customer_profile                                                                \n",
       "Mature parent, high income                38482        110792     9994   5228   \n",
       "Mature parent, low income                  4174          5593     1261    779   \n",
       "Mature parent, middle income              19069         50860     4599   2354   \n",
       "Middle age parent, high income            38318        108042     9380   4910   \n",
       "Middle-age parent, low income              9573         16880     2829   1538   \n",
       "Middle-age parent, middle income          45490        121503    11385   5682   \n",
       "Young parent, high income                   517          1342       76    191   \n",
       "Young parent, low income                   6166         11810     1706    950   \n",
       "Young parent, middle income               29741         82081     7603   4065   \n",
       "\n",
       "department                        pantry  personal care   pets  produce  \\\n",
       "customer_profile                                                          \n",
       "Mature parent, high income        273760          62958  14412  1390414   \n",
       "Mature parent, low income          33978           9887   1658   170922   \n",
       "Mature parent, middle income      129128          29658   6649   662698   \n",
       "Middle age parent, high income    268745          62173  13859  1344418   \n",
       "Middle-age parent, low income      73173          19951   3481   368437   \n",
       "Middle-age parent, middle income  309139          74001  15726  1592629   \n",
       "Young parent, high income           3812           1163    400    12245   \n",
       "Young parent, low income           42993          11965   2859   214717   \n",
       "Young parent, middle income       204073          46345  10414  1047352   \n",
       "\n",
       "department                        snacks  \n",
       "customer_profile                          \n",
       "Mature parent, high income        362575  \n",
       "Mature parent, low income         123991  \n",
       "Mature parent, middle income      186971  \n",
       "Middle age parent, high income    349497  \n",
       "Middle-age parent, low income     229905  \n",
       "Middle-age parent, middle income  431081  \n",
       "Young parent, high income           4898  \n",
       "Young parent, low income          118667  \n",
       "Young parent, middle income       268383  \n",
       "\n",
       "[9 rows x 21 columns]"
      ]
     },
     "execution_count": 186,
     "metadata": {},
     "output_type": "execute_result"
    }
   ],
   "source": [
    "cust_prf_dpts"
   ]
  },
  {
   "cell_type": "markdown",
   "id": "2d5e6fe9",
   "metadata": {},
   "source": [
    "# 9.- All the suitable charts have been produced."
   ]
  },
  {
   "cell_type": "markdown",
   "id": "00a11dcc",
   "metadata": {},
   "source": [
    "# 10.- Export final data set and save notebook"
   ]
  },
  {
   "cell_type": "markdown",
   "id": "b73caab4",
   "metadata": {},
   "source": [
    "#### crosstabs will not b"
   ]
  },
  {
   "cell_type": "markdown",
   "id": "c40d9d42",
   "metadata": {},
   "source": [
    "### dataframes e exported as is data that was used to plot\n",
    "\n",
    "\n",
    "#### ords_prods_cust_2\n",
    "#### low_activity_cust\n",
    "#### regular_activity_cust\n",
    "#### regular_activity_cust_2"
   ]
  },
  {
   "cell_type": "code",
   "execution_count": null,
   "id": "20be6a3b",
   "metadata": {},
   "outputs": [],
   "source": [
    "df_instacart.to_pickle(os.path.join(path, '02 Data', 'Prepared Data', 'instacart.pkl'))"
   ]
  },
  {
   "cell_type": "code",
   "execution_count": 201,
   "id": "661bae77",
   "metadata": {},
   "outputs": [],
   "source": [
    "ords_prods_cust_2.to_pickle(os.path.join(path, '02 Data', 'Prepared Data', '04_08_22', 'ords_prods_cust_2_04_08.pkl'))"
   ]
  },
  {
   "cell_type": "code",
   "execution_count": 202,
   "id": "b83cb3ba",
   "metadata": {},
   "outputs": [],
   "source": [
    "low_activity_cust.to_pickle(os.path.join(path, '02 Data', 'Prepared Data', '04_08_22', 'low_activity_cust_04_08.pkl'))"
   ]
  },
  {
   "cell_type": "code",
   "execution_count": 203,
   "id": "55213a56",
   "metadata": {},
   "outputs": [],
   "source": [
    "regular_activity_cust.to_pickle(os.path.join(path, '02 Data', 'Prepared Data', '04_08_22', 'regular_activity_cust_04_08.pkl'))"
   ]
  },
  {
   "cell_type": "code",
   "execution_count": 204,
   "id": "d6be8b93",
   "metadata": {},
   "outputs": [],
   "source": [
    "regular_activity_cust_2.to_pickle(os.path.join(path, '02 Data', 'Prepared Data', '04_08_22', 'regular_activity_cust_2_04_08.pkl'))"
   ]
  },
  {
   "cell_type": "markdown",
   "id": "6ef82d22",
   "metadata": {},
   "source": [
    "### plots\n",
    "\n",
    "#### bar_expnd_rgn\n",
    "#### cust_prf_dist\n",
    "#### bar_region_dist\n",
    "#### age_region_dist\n",
    "#### income_rgn_dist\n",
    "#### income_hist\n",
    "#### bar_dependants_num_dist\n",
    "#### cust_prf_rgn_dist\n",
    "#### cust_prf_dpts_dist"
   ]
  },
  {
   "cell_type": "code",
   "execution_count": 206,
   "id": "89a52c43",
   "metadata": {},
   "outputs": [],
   "source": [
    "bar_expnd_rgn.figure.savefig(os.path.join(path, '04 Analysis', 'Visualizations', '04_08_22', 'bar_expnd_rgn_04_08.png'))"
   ]
  },
  {
   "cell_type": "code",
   "execution_count": 207,
   "id": "8b81be04",
   "metadata": {},
   "outputs": [],
   "source": [
    "cust_prf_dist.figure.savefig(os.path.join(path, '04 Analysis', 'Visualizations', '04_08_22', 'cust_prf_dist_04_08.png'))"
   ]
  },
  {
   "cell_type": "code",
   "execution_count": 208,
   "id": "464e3012",
   "metadata": {},
   "outputs": [],
   "source": [
    "bar_region_dist.figure.savefig(os.path.join(path, '04 Analysis', 'Visualizations', '04_08_22', 'bar_region_dist_04_08.png'))"
   ]
  },
  {
   "cell_type": "code",
   "execution_count": 209,
   "id": "35e2475e",
   "metadata": {},
   "outputs": [],
   "source": [
    "age_region_dist.figure.savefig(os.path.join(path, '04 Analysis', 'Visualizations', '04_08_22', 'age_region_dist_04_08.png'))"
   ]
  },
  {
   "cell_type": "code",
   "execution_count": 211,
   "id": "459e16c9",
   "metadata": {},
   "outputs": [],
   "source": [
    "income_hist.figure.savefig(os.path.join(path, '04 Analysis', 'Visualizations', '04_08_22', 'income_hist_04_08.png'))"
   ]
  },
  {
   "cell_type": "code",
   "execution_count": 212,
   "id": "bc48afd4",
   "metadata": {},
   "outputs": [],
   "source": [
    "bar_dependants_num_dist.figure.savefig(os.path.join(path, '04 Analysis', 'Visualizations', '04_08_22', 'bar_dependants_num_dist_04_08.png'))"
   ]
  },
  {
   "cell_type": "code",
   "execution_count": 213,
   "id": "b6e72fc4",
   "metadata": {},
   "outputs": [],
   "source": [
    "income_rgn_dist.figure.savefig(os.path.join(path, '04 Analysis', 'Visualizations', '04_08_22', 'income_rgn_dist_04_08.png'))"
   ]
  },
  {
   "cell_type": "code",
   "execution_count": 214,
   "id": "9773cd31",
   "metadata": {},
   "outputs": [],
   "source": [
    "cust_prf_rgn_dist.figure.savefig(os.path.join(path, '04 Analysis', 'Visualizations', '04_08_22', 'cust_prf_rgn_dist_04_08.png'))"
   ]
  },
  {
   "cell_type": "code",
   "execution_count": 215,
   "id": "99eaef20",
   "metadata": {},
   "outputs": [],
   "source": [
    "cust_prf_dpts_dist.figure.savefig(os.path.join(path, '04 Analysis', 'Visualizations', '04_08_22', 'cust_prf_dpts_dist_04_08.png'))"
   ]
  },
  {
   "cell_type": "code",
   "execution_count": 216,
   "id": "4b18d718",
   "metadata": {},
   "outputs": [
    {
     "data": {
      "text/plain": [
       "(30964564, 40)"
      ]
     },
     "execution_count": 216,
     "metadata": {},
     "output_type": "execute_result"
    }
   ],
   "source": [
    "regular_activity_cust_2.shape"
   ]
  },
  {
   "cell_type": "code",
   "execution_count": null,
   "id": "362cde1c",
   "metadata": {},
   "outputs": [],
   "source": []
  }
 ],
 "metadata": {
  "kernelspec": {
   "display_name": "Python 3 (ipykernel)",
   "language": "python",
   "name": "python3"
  },
  "language_info": {
   "codemirror_mode": {
    "name": "ipython",
    "version": 3
   },
   "file_extension": ".py",
   "mimetype": "text/x-python",
   "name": "python",
   "nbconvert_exporter": "python",
   "pygments_lexer": "ipython3",
   "version": "3.9.12"
  }
 },
 "nbformat": 4,
 "nbformat_minor": 5
}
