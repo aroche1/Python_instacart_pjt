{
 "cells": [
  {
   "cell_type": "markdown",
   "id": "8ae9b4e8",
   "metadata": {},
   "source": [
    "# 01. Importing libraries"
   ]
  },
  {
   "cell_type": "code",
   "execution_count": 1,
   "id": "a0ed6db1",
   "metadata": {},
   "outputs": [],
   "source": [
    "import pandas as pd\n",
    "import numpy as np\n",
    "import os"
   ]
  },
  {
   "cell_type": "markdown",
   "id": "0701100a",
   "metadata": {},
   "source": [
    "# 02. Data types"
   ]
  },
  {
   "cell_type": "code",
   "execution_count": 2,
   "id": "b2698c54",
   "metadata": {},
   "outputs": [],
   "source": [
    "a = 33\n",
    "b = 56\n",
    "c = 25"
   ]
  },
  {
   "cell_type": "code",
   "execution_count": 3,
   "id": "da1d2ede",
   "metadata": {},
   "outputs": [
    {
     "name": "stdout",
     "output_type": "stream",
     "text": [
      "100\n"
     ]
    }
   ],
   "source": [
    "print(a + b + c - 14)"
   ]
  },
  {
   "cell_type": "code",
   "execution_count": 4,
   "id": "dac205e3",
   "metadata": {},
   "outputs": [
    {
     "data": {
      "text/plain": [
       "100"
      ]
     },
     "execution_count": 4,
     "metadata": {},
     "output_type": "execute_result"
    }
   ],
   "source": [
    "(b + 101 - a - c + 1)"
   ]
  },
  {
   "cell_type": "code",
   "execution_count": 5,
   "id": "9c4aa758",
   "metadata": {},
   "outputs": [
    {
     "name": "stdout",
     "output_type": "stream",
     "text": [
      "100\n"
     ]
    }
   ],
   "source": [
    "print(214 - (a + b + c))"
   ]
  },
  {
   "cell_type": "code",
   "execution_count": 6,
   "id": "2dbd4063",
   "metadata": {},
   "outputs": [],
   "source": [
    "d = (22/7)\n",
    "e = 3.1416"
   ]
  },
  {
   "cell_type": "code",
   "execution_count": 7,
   "id": "48120b0e",
   "metadata": {},
   "outputs": [
    {
     "data": {
      "text/plain": [
       "float"
      ]
     },
     "execution_count": 7,
     "metadata": {},
     "output_type": "execute_result"
    }
   ],
   "source": [
    "type(22/7)"
   ]
  },
  {
   "cell_type": "code",
   "execution_count": 8,
   "id": "d5322074",
   "metadata": {},
   "outputs": [
    {
     "name": "stdout",
     "output_type": "stream",
     "text": [
      "1.0004001600640255\n"
     ]
    }
   ],
   "source": [
    "print(d / e)"
   ]
  },
  {
   "cell_type": "code",
   "execution_count": 15,
   "id": "2715d1c5",
   "metadata": {},
   "outputs": [],
   "source": [
    "f = 'conca'\n",
    "g = 'tenate'"
   ]
  },
  {
   "cell_type": "code",
   "execution_count": 16,
   "id": "7e015326",
   "metadata": {},
   "outputs": [
    {
     "data": {
      "text/plain": [
       "'concatenate'"
      ]
     },
     "execution_count": 16,
     "metadata": {},
     "output_type": "execute_result"
    }
   ],
   "source": [
    "f + g"
   ]
  },
  {
   "cell_type": "code",
   "execution_count": 22,
   "id": "4ee89752",
   "metadata": {},
   "outputs": [],
   "source": [
    "h = 'Finally Friday! '\n",
    "i = 'Any plans for the weekend?'"
   ]
  },
  {
   "cell_type": "code",
   "execution_count": 23,
   "id": "e03827b4",
   "metadata": {},
   "outputs": [
    {
     "data": {
      "text/plain": [
       "'Finally Friday! Any plans for the weekend?'"
      ]
     },
     "execution_count": 23,
     "metadata": {},
     "output_type": "execute_result"
    }
   ],
   "source": [
    "h + i"
   ]
  },
  {
   "cell_type": "code",
   "execution_count": 24,
   "id": "d40750a3",
   "metadata": {},
   "outputs": [],
   "source": [
    "j = 'cactus'\n",
    "k = 'monstera'"
   ]
  },
  {
   "cell_type": "code",
   "execution_count": 25,
   "id": "1b44ed27",
   "metadata": {},
   "outputs": [
    {
     "data": {
      "text/plain": [
       "'cactusmonsteracactusmonsteracactusmonsteracactusmonsteracactusmonsteracactusmonsteracactusmonsteracactusmonsteracactusmonsteracactusmonsteracactusmonsteracactusmonsteracactusmonsteracactusmonsteracactusmonsteracactusmonsteracactusmonsteracactusmonsteracactusmonsteracactusmonsteracactusmonsteracactusmonsteracactusmonsteracactusmonsteracactusmonsteracactusmonsteracactusmonsteracactusmonsteracactusmonsteracactusmonsteracactusmonsteracactusmonsteracactusmonsteracactusmonsteracactusmonsteracactusmonsteracactusmonsteracactusmonsteracactusmonsteracactusmonsteracactusmonsteracactusmonsteracactusmonsteracactusmonsteracactusmonsteracactusmonsteracactusmonsteracactusmonsteracactusmonsteracactusmonsteracactusmonsteracactusmonsteracactusmonsteracactusmonsteracactusmonsteracactusmonsteracactusmonsteracactusmonsteracactusmonsteracactusmonsteracactusmonsteracactusmonsteracactusmonsteracactusmonsteracactusmonsteracactusmonsteracactusmonsteracactusmonsteracactusmonsteracactusmonsteracactusmonsteracactusmonsteracactusmonsteracactusmonsteracactusmonsteracactusmonsteracactusmonsteracactusmonsteracactusmonsteracactusmonsteracactusmonsteracactusmonsteracactusmonsteracactusmonsteracactusmonsteracactusmonsteracactusmonsteracactusmonsteracactusmonsteracactusmonsteracactusmonsteracactusmonsteracactusmonsteracactusmonsteracactusmonsteracactusmonsteracactusmonsteracactusmonsteracactusmonsteracactusmonstera'"
      ]
     },
     "execution_count": 25,
     "metadata": {},
     "output_type": "execute_result"
    }
   ],
   "source": [
    "(j + k) * 100"
   ]
  },
  {
   "cell_type": "code",
   "execution_count": null,
   "id": "05ef80cb",
   "metadata": {},
   "outputs": [],
   "source": []
  }
 ],
 "metadata": {
  "kernelspec": {
   "display_name": "Python 3 (ipykernel)",
   "language": "python",
   "name": "python3"
  },
  "language_info": {
   "codemirror_mode": {
    "name": "ipython",
    "version": 3
   },
   "file_extension": ".py",
   "mimetype": "text/x-python",
   "name": "python",
   "nbconvert_exporter": "python",
   "pygments_lexer": "ipython3",
   "version": "3.9.12"
  }
 },
 "nbformat": 4,
 "nbformat_minor": 5
}
