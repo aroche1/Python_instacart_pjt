{
 "cells": [
  {
   "cell_type": "markdown",
   "id": "5f94804b",
   "metadata": {},
   "source": [
    "# Coding Etiquette & Excel Reporting\n",
    "\n",
    "#### Customer profiling in terms of adds\n",
    "#### Bonus programs\n",
    "#### Sales information"
   ]
  },
  {
   "cell_type": "markdown",
   "id": "e85ace9d",
   "metadata": {},
   "source": [
    "# 1.- Import the data"
   ]
  },
  {
   "cell_type": "markdown",
   "id": "117f71e1",
   "metadata": {},
   "source": [
    "## Importing Libraries"
   ]
  },
  {
   "cell_type": "code",
   "execution_count": null,
   "id": "6b5e8b1c",
   "metadata": {},
   "outputs": [],
   "source": [
    "import pandas as pd\n",
    "import numpy as np\n",
    "import os\n",
    "import matplotlib.pyplot as plt\n",
    "import seaborn as sns\n",
    "import scipy"
   ]
  },
  {
   "cell_type": "markdown",
   "id": "7005ddf2",
   "metadata": {},
   "source": [
    "## Importing Dataframe"
   ]
  },
  {
   "cell_type": "code",
   "execution_count": null,
   "id": "f50143a5",
   "metadata": {},
   "outputs": [],
   "source": [
    "# Creating path\n",
    "\n",
    "path = r'/Users/david/Desktop/CF/Data Immersion/Achievement 4 - Python Fundamentals for Data Analysts/07-2022 Instacart Basket Analysis'"
   ]
  },
  {
   "cell_type": "code",
   "execution_count": null,
   "id": "57fc9c70",
   "metadata": {},
   "outputs": [],
   "source": [
    "# Check 'path'\n",
    "\n",
    "path"
   ]
  },
  {
   "cell_type": "code",
   "execution_count": null,
   "id": "75fed67e",
   "metadata": {},
   "outputs": [],
   "source": [
    "# Importing 'ords_prods_cust_27_07.pkl' data set as 'ords_prods_cust' dataframe\n",
    "\n",
    "ords_prods_cust = pd.read_pickle(os.path.join(path, '02 Data', 'Prepared Data', '27_07_22', 'ords_prods_cust_27_07.pkl'))"
   ]
  },
  {
   "cell_type": "code",
   "execution_count": null,
   "id": "8a305441",
   "metadata": {},
   "outputs": [],
   "source": [
    "# Check 'ords_prods_cust' dataframe\n",
    "\n",
    "ords_prods_cust.head(1)"
   ]
  },
  {
   "cell_type": "code",
   "execution_count": null,
   "id": "0a91f833",
   "metadata": {},
   "outputs": [],
   "source": [
    "ords_prods_cust.shape"
   ]
  },
  {
   "cell_type": "markdown",
   "id": "5bda80fe",
   "metadata": {},
   "source": [
    "# 2.- Consider any security implications that might exist for this data. Address any PII data in dataframe "
   ]
  },
  {
   "cell_type": "code",
   "execution_count": null,
   "id": "81eccdc0",
   "metadata": {},
   "outputs": [],
   "source": [
    "ords_prods_cust.columns"
   ]
  },
  {
   "cell_type": "code",
   "execution_count": null,
   "id": "78d51acf",
   "metadata": {},
   "outputs": [],
   "source": [
    "# Addressing PII columns: 'first_name', and 'surname'-- the 'state' column will be left as is, as it'll be needed forward in the exercise.\n",
    "\n",
    "ords_prods_cust_2 = ords_prods_cust.drop(columns = ['first_name', 'surname'])"
   ]
  },
  {
   "cell_type": "code",
   "execution_count": null,
   "id": "53922684",
   "metadata": {},
   "outputs": [],
   "source": [
    "ords_prods_cust_2.columns"
   ]
  },
  {
   "cell_type": "markdown",
   "id": "8309e132",
   "metadata": {},
   "source": [
    "# 3.- The Instacart officers are interested in customer behavior in different geographic areas. Create regional segmentation of the data. Create a 'region' column based on the 'state' column from the 'customers.csv' data set."
   ]
  },
  {
   "cell_type": "code",
   "execution_count": null,
   "id": "9ef50d2e",
   "metadata": {},
   "outputs": [],
   "source": [
    "# Exporting 'customers.csv' as 'cust' dataframe\n"
   ]
  },
  {
   "cell_type": "markdown",
   "id": "314f6c51",
   "metadata": {},
   "source": [
    "#### Creating region labels from 'Region 1' to 'Region 4'"
   ]
  },
  {
   "cell_type": "code",
   "execution_count": null,
   "id": "acdc899a",
   "metadata": {},
   "outputs": [],
   "source": [
    "ords_prods_cust_2.loc[ords_prods_cust_2['state'].isin(['Maine', 'New Hampshire', 'Vermont', 'Massachusetts', 'Rhode Island', 'Connecticut', 'New York', 'Pennsylvania', 'New Jersey']), 'region'] = 'Region 1'"
   ]
  },
  {
   "cell_type": "code",
   "execution_count": null,
   "id": "c456ee52",
   "metadata": {},
   "outputs": [],
   "source": [
    "ords_prods_cust_2.loc[ords_prods_cust_2['state'].isin(['Wisconsin', 'Michigan', 'Illinois', 'Indiana', 'Ohio', 'North Dakota', 'South Dakota', 'Nebraska', 'Kansas', 'Minnesota', 'Iowa', 'Missouri']), 'region'] = 'Region 2'"
   ]
  },
  {
   "cell_type": "code",
   "execution_count": null,
   "id": "4e8d2065",
   "metadata": {},
   "outputs": [],
   "source": [
    "ords_prods_cust_2.loc[ords_prods_cust_2['state'].isin(['Delaware', 'Maryland', 'District of Columbia', 'Virginia', 'West Virginia', 'North Carolina', 'South Carolina', 'Georgia', 'Florida', 'Kentucky', 'Tennessee', 'Mississippi', 'Alabama', 'Oklahoma', 'Texas', 'Arkansas', 'Louisiana']), 'region'] = 'Region 3'"
   ]
  },
  {
   "cell_type": "code",
   "execution_count": null,
   "id": "a9d63e19",
   "metadata": {},
   "outputs": [],
   "source": [
    "ords_prods_cust_2.loc[ords_prods_cust_2['state'].isin(['Idaho', 'Montana', 'Wyoming', 'Nevada', 'Utah', 'Colorado', 'Arizona', 'New Mexico', 'Alaska', 'Washington', 'Oregon', 'California', 'Hawaii']), 'region'] = 'Region 4'"
   ]
  },
  {
   "cell_type": "code",
   "execution_count": null,
   "id": "b0041aa0",
   "metadata": {
    "scrolled": false
   },
   "outputs": [],
   "source": [
    "ords_prods_cust_2['state'].value_counts()"
   ]
  },
  {
   "cell_type": "code",
   "execution_count": null,
   "id": "d496e9f5",
   "metadata": {},
   "outputs": [],
   "source": [
    "ords_prods_cust_2['region'].value_counts()"
   ]
  },
  {
   "cell_type": "code",
   "execution_count": null,
   "id": "62e7d562",
   "metadata": {},
   "outputs": [],
   "source": [
    "# Determine whether there's a difference in the spending habits between different U.S. regions\n",
    "\n",
    "crosstab_expnd_rgn = pd.crosstab(ords_prods_cust_2['region'], ords_prods_cust_2['expenditure_flag'], dropna = False)"
   ]
  },
  {
   "cell_type": "code",
   "execution_count": null,
   "id": "10182563",
   "metadata": {},
   "outputs": [],
   "source": [
    "# Check 'crosstab_expnd_rgn'\n",
    "\n",
    "crosstab_expnd_rgn.shape"
   ]
  },
  {
   "cell_type": "code",
   "execution_count": null,
   "id": "678424dd",
   "metadata": {},
   "outputs": [],
   "source": [
    "#Printing 'crosstab_expnd_rgn'\n",
    "\n",
    "crosstab_expnd_rgn"
   ]
  },
  {
   "cell_type": "markdown",
   "id": "2017a678",
   "metadata": {},
   "source": [
    "#### "
   ]
  },
  {
   "cell_type": "markdown",
   "id": "53039a24",
   "metadata": {},
   "source": [
    "# 4.- The Instacart CFO isn’t interested in customers who don’t generate much revenue for the app. Create an exclusion flag for low-activity customers (customers with less than 5 orders) and exclude them from the data. Export this sample."
   ]
  },
  {
   "cell_type": "code",
   "execution_count": null,
   "id": "131e8388",
   "metadata": {},
   "outputs": [],
   "source": [
    "ords_prods_cust['order_number'].value_counts()"
   ]
  },
  {
   "cell_type": "code",
   "execution_count": null,
   "id": "797111de",
   "metadata": {},
   "outputs": [],
   "source": [
    "# Creating 'Low acivity' flag\n",
    "\n",
    "ords_prods_cust_2.loc[ords_prods_cust_2['max_order'] < 5, 'activity_flag'] = 'Low activity' "
   ]
  },
  {
   "cell_type": "code",
   "execution_count": null,
   "id": "07230a0b",
   "metadata": {},
   "outputs": [],
   "source": [
    "# Creating 'Regular activity' flag\n",
    "\n",
    "ords_prods_cust_2.loc[ords_prods_cust_2['max_order'] >= 5, 'activity_flag'] = 'Regular activity'"
   ]
  },
  {
   "cell_type": "code",
   "execution_count": null,
   "id": "afb10f3c",
   "metadata": {},
   "outputs": [],
   "source": [
    "# Check 'activity_flag'\n",
    "\n",
    "ords_prods_cust_2['activity_flag'].value_counts(dropna = False)"
   ]
  },
  {
   "cell_type": "code",
   "execution_count": null,
   "id": "08b102b3",
   "metadata": {},
   "outputs": [],
   "source": [
    "# Sparating (sample) subsets as 'Low activity' and 'Regular activity'\n",
    "\n",
    "low_activity_cust = ords_prods_cust_2[ords_prods_cust_2['activity_flag']=='Low activity']"
   ]
  },
  {
   "cell_type": "code",
   "execution_count": null,
   "id": "5c0b23ea",
   "metadata": {},
   "outputs": [],
   "source": [
    "low_activity_cust.shape"
   ]
  },
  {
   "cell_type": "code",
   "execution_count": null,
   "id": "a4c55dec",
   "metadata": {},
   "outputs": [],
   "source": [
    "regular_activity_cust = ords_prods_cust_2[ords_prods_cust_2['activity_flag']=='Regular activity']"
   ]
  },
  {
   "cell_type": "code",
   "execution_count": null,
   "id": "dcbce68e",
   "metadata": {},
   "outputs": [],
   "source": [
    "regular_activity_cust.shape"
   ]
  },
  {
   "cell_type": "code",
   "execution_count": null,
   "id": "3e28039e",
   "metadata": {},
   "outputs": [],
   "source": [
    "regular_activity_cust.head()"
   ]
  },
  {
   "cell_type": "code",
   "execution_count": null,
   "id": "c211f954",
   "metadata": {},
   "outputs": [],
   "source": [
    "\n"
   ]
  },
  {
   "cell_type": "code",
   "execution_count": null,
   "id": "9af0f409",
   "metadata": {},
   "outputs": [],
   "source": [
    "regular_activity_cust_dups = regular_activity_cust[regular_activity_cust.duplicated()]"
   ]
  },
  {
   "cell_type": "code",
   "execution_count": null,
   "id": "090215e0",
   "metadata": {},
   "outputs": [],
   "source": [
    "regular_activity_cust_dups.shape"
   ]
  },
  {
   "cell_type": "markdown",
   "id": "13a20d90",
   "metadata": {},
   "source": [
    "# 5.-  Make customer profiling to create marketing strategies for different products. Create profiling variable based on age, income, goods in the 'department_id' variable , and number of dependants; consider labeling these profiles as 'single-adult' and 'young_parent'--also consider the 'orders_day_of_week' and 'orders_hour_of _day' variables."
   ]
  },
  {
   "cell_type": "markdown",
   "id": "ebba62dd",
   "metadata": {},
   "source": [
    "#### Age profile"
   ]
  },
  {
   "cell_type": "code",
   "execution_count": null,
   "id": "6020d6ae",
   "metadata": {},
   "outputs": [],
   "source": [
    "# Creating age profile through if-statements w/ for loop\n",
    "\n",
    "age_profile=[]\n",
    "\n",
    "for value in regular_activity_cust['age']:\n",
    "    if value <= 29:\n",
    "        age_profile.append('Young adult')\n",
    "    elif (value >= 30) and (value <= 60):\n",
    "        age_profile.append('Middle-age adult')\n",
    "    elif value >= 61:\n",
    "        age_profile.append ('Mature adult')\n",
    "    else: \n",
    "        age_profile.append('Not enough data')"
   ]
  },
  {
   "cell_type": "code",
   "execution_count": null,
   "id": "353c50c7",
   "metadata": {},
   "outputs": [],
   "source": [
    "regular_activity_cust['age'].value_counts()"
   ]
  },
  {
   "cell_type": "code",
   "execution_count": null,
   "id": "26105273",
   "metadata": {},
   "outputs": [],
   "source": [
    "regular_activity_cust['age_profile'] = age_profile"
   ]
  },
  {
   "cell_type": "code",
   "execution_count": null,
   "id": "be658167",
   "metadata": {},
   "outputs": [],
   "source": [
    "regular_activity_cust['age_profile'].value_counts()"
   ]
  },
  {
   "cell_type": "code",
   "execution_count": null,
   "id": "8b69a9a8",
   "metadata": {},
   "outputs": [],
   "source": [
    "regular_activity_cust['income'].value_counts()"
   ]
  },
  {
   "cell_type": "markdown",
   "id": "da5bfd7b",
   "metadata": {},
   "source": [
    "#### Income profile\n",
    "\n",
    "##### The icnome parameters were are defined as follows:\n",
    "###### Lower class............................< 32,048.00\n",
    "###### Lower-middle class................32,049 - 53,243\n",
    "###### Middle class............................53,244 - 106,827\n",
    "###### Upper-middle class.................106,828 - 236,000\n",
    "###### Upper class..............................>236,000"
   ]
  },
  {
   "cell_type": "code",
   "execution_count": null,
   "id": "eb29dde8",
   "metadata": {},
   "outputs": [],
   "source": [
    "# Creating income profile through if-statements w/ for loop\n",
    "\n",
    "income_profile=[]\n",
    "\n",
    "for value in regular_activity_cust['income']:\n",
    "    if value <= 32048:\n",
    "        income_profile.append('Lower class')\n",
    "    elif (value >= 32049) and (value <= 53243):\n",
    "        income_profile.append('Lower-middle class')\n",
    "    elif (value >=53244) and (value <= 106827):\n",
    "        income_profile.append('Middle class')\n",
    "    elif (value >= 106828) and (value <= 236000):\n",
    "        income_profile.append('Upper-middle class')\n",
    "    elif (value > 236000):\n",
    "        income_profile.append('Upper class')\n",
    "    else:\n",
    "        income_profile.append('Check value')"
   ]
  },
  {
   "cell_type": "code",
   "execution_count": null,
   "id": "81f629d0",
   "metadata": {},
   "outputs": [],
   "source": [
    "regular_activity_cust['income_profile'] = income_profile"
   ]
  },
  {
   "cell_type": "code",
   "execution_count": null,
   "id": "00fd81ca",
   "metadata": {},
   "outputs": [],
   "source": [
    "regular_activity_cust['income_profile'].value_counts()"
   ]
  },
  {
   "cell_type": "code",
   "execution_count": null,
   "id": "64ef4cde",
   "metadata": {},
   "outputs": [],
   "source": [
    "regular_activity_cust.head(5)"
   ]
  },
  {
   "cell_type": "code",
   "execution_count": null,
   "id": "693f24dc",
   "metadata": {},
   "outputs": [],
   "source": [
    "regular_activity_cust.groupby('department_id').agg({'product_id':[sum]})"
   ]
  },
  {
   "cell_type": "code",
   "execution_count": null,
   "id": "39caac10",
   "metadata": {},
   "outputs": [],
   "source": [
    "# Importing 'departments_wrangled.csv'\n",
    "\n",
    "depts = pd.read_csv(os.path.join(path, '02 Data', 'Prepared Data', '19_07_22', 'departments_wrangled.csv'))"
   ]
  },
  {
   "cell_type": "code",
   "execution_count": null,
   "id": "62439b2e",
   "metadata": {},
   "outputs": [],
   "source": [
    "# Check 'depts' dataframe\n",
    "\n",
    "depts"
   ]
  },
  {
   "cell_type": "code",
   "execution_count": null,
   "id": "f74ffdfa",
   "metadata": {},
   "outputs": [],
   "source": [
    "# Changing 'Unnamed:0' column\n",
    "\n",
    "depts.rename(columns ={'Unnamed: 0' : 'department_id'}, inplace = True)"
   ]
  },
  {
   "cell_type": "code",
   "execution_count": null,
   "id": "dbe7e5ad",
   "metadata": {},
   "outputs": [],
   "source": [
    "depts.head(1)"
   ]
  },
  {
   "cell_type": "code",
   "execution_count": null,
   "id": "b4a20d4f",
   "metadata": {},
   "outputs": [],
   "source": [
    "regular_activity_cust_depts = regular_activity_cust.merge(depts, on = 'department_id')"
   ]
  },
  {
   "cell_type": "code",
   "execution_count": null,
   "id": "108d1396",
   "metadata": {},
   "outputs": [],
   "source": [
    "regular_activity_cust_depts.head(5)"
   ]
  },
  {
   "cell_type": "code",
   "execution_count": null,
   "id": "aebc8990",
   "metadata": {},
   "outputs": [],
   "source": [
    "regular_activity_cust = regular_activity_cust_depts = regular_activity_cust.merge(depts, on = 'department_id')"
   ]
  },
  {
   "cell_type": "code",
   "execution_count": null,
   "id": "ff6729eb",
   "metadata": {},
   "outputs": [],
   "source": [
    "regular_activity_cust.head(5)"
   ]
  },
  {
   "cell_type": "code",
   "execution_count": null,
   "id": "1820a73f",
   "metadata": {},
   "outputs": [],
   "source": [
    "deps_id_names = regular_activity_cust['department_id', 'department']"
   ]
  },
  {
   "cell_type": "code",
   "execution_count": null,
   "id": "ce697053",
   "metadata": {},
   "outputs": [],
   "source": []
  }
 ],
 "metadata": {
  "kernelspec": {
   "display_name": "Python 3 (ipykernel)",
   "language": "python",
   "name": "python3"
  },
  "language_info": {
   "codemirror_mode": {
    "name": "ipython",
    "version": 3
   },
   "file_extension": ".py",
   "mimetype": "text/x-python",
   "name": "python",
   "nbconvert_exporter": "python",
   "pygments_lexer": "ipython3",
   "version": "3.9.12"
  }
 },
 "nbformat": 4,
 "nbformat_minor": 5
}
